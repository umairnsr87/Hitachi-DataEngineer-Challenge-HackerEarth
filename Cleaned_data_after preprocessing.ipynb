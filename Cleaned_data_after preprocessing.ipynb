{
  "nbformat": 4,
  "nbformat_minor": 0,
  "metadata": {
    "colab": {
      "name": "data engineer hitachi.ipynb",
      "provenance": [],
      "include_colab_link": true
    },
    "kernelspec": {
      "name": "python3",
      "display_name": "Python 3"
    }
  },
  "cells": [
    {
      "cell_type": "markdown",
      "metadata": {
        "id": "view-in-github",
        "colab_type": "text"
      },
      "source": [
        "<a href=\"https://colab.research.google.com/github/umairnsr87/Hitachi-DataEngineer-HackerEarth/blob/master/Cleaned_data_after%20preprocessing.ipynb\" target=\"_parent\"><img src=\"https://colab.research.google.com/assets/colab-badge.svg\" alt=\"Open In Colab\"/></a>"
      ]
    },
    {
      "cell_type": "code",
      "metadata": {
        "id": "ypTUpyF3ugZi",
        "colab_type": "code",
        "colab": {}
      },
      "source": [
        "import pandas as pd\n",
        "import seaborn as sns\n",
        "import matplotlib.pyplot as plt\n",
        "import numpy as np"
      ],
      "execution_count": 0,
      "outputs": []
    },
    {
      "cell_type": "code",
      "metadata": {
        "id": "UN46hZQhutpA",
        "colab_type": "code",
        "colab": {}
      },
      "source": [
        "test = pd.read_csv('Test_1.csv')\n",
        "train = pd.read_csv('Train_1.csv')"
      ],
      "execution_count": 0,
      "outputs": []
    },
    {
      "cell_type": "code",
      "metadata": {
        "id": "x4KbYWwYvJZy",
        "colab_type": "code",
        "colab": {}
      },
      "source": [
        "train[\"mean_halt_times_source\"].fillna(640.265896,inplace=True)\n",
        "train[\"latitude_source\"].fillna(50.859663,inplace=True)\n",
        "train[\"longitude_source\"]=train[\"longitude_source\"].fillna(4.360846)\n",
        "train[\"country_code_source\"].fillna(\"whber\",inplace=True)\n",
        "train[\"country_code_destination\"].fillna(\"whber\",inplace=True)\n",
        "train[\"mean_halt_times_destination\"].fillna(164.41907514451,inplace=True)\n",
        "train.dropna(axis=0,how='any',inplace=True)"
      ],
      "execution_count": 0,
      "outputs": []
    },
    {
      "cell_type": "code",
      "metadata": {
        "id": "oRbGwzFzPRYd",
        "colab_type": "code",
        "colab": {
          "base_uri": "https://localhost:8080/",
          "height": 384
        },
        "outputId": "77436cc5-bb4a-4f2e-dc0d-8d44bc9cbbd6"
      },
      "source": [
        "train.isna().sum()"
      ],
      "execution_count": 63,
      "outputs": [
        {
          "output_type": "execute_result",
          "data": {
            "text/plain": [
              "id_code                        0\n",
              "current_date                   0\n",
              "current_time                   0\n",
              "source_name                    0\n",
              "destination_name               0\n",
              "train_name                     0\n",
              "target                         0\n",
              "country_code_source            0\n",
              "longitude_source               0\n",
              "latitude_source                0\n",
              "mean_halt_times_source         0\n",
              "country_code_destination       0\n",
              "longitude_destination          0\n",
              "latitude_destination           0\n",
              "mean_halt_times_destination    0\n",
              "current_year                   0\n",
              "current_week                   0\n",
              "current_day                    0\n",
              "is_weekend                     0\n",
              "dtype: int64"
            ]
          },
          "metadata": {
            "tags": []
          },
          "execution_count": 63
        }
      ]
    },
    {
      "cell_type": "code",
      "metadata": {
        "id": "jvL57FDkTCBt",
        "colab_type": "code",
        "colab": {
          "base_uri": "https://localhost:8080/",
          "height": 35
        },
        "outputId": "b15d4f3d-57e2-470d-8978-21567f14b5d9"
      },
      "source": [
        "train.shape,test.shape"
      ],
      "execution_count": 64,
      "outputs": [
        {
          "output_type": "execute_result",
          "data": {
            "text/plain": [
              "((1251, 19), (964, 18))"
            ]
          },
          "metadata": {
            "tags": []
          },
          "execution_count": 64
        }
      ]
    },
    {
      "cell_type": "code",
      "metadata": {
        "id": "QiHqL3pQQ0Lx",
        "colab_type": "code",
        "colab": {}
      },
      "source": [
        "#removing the target\n",
        "target=train[\"target\"]\n",
        "#joining both train and test data for data cleaning\n",
        "train[\"data\"]=\"train\"\n",
        "train.drop([\"target\"],axis=1,inplace=True)\n",
        "test[\"data\"]=\"test\"\n",
        "data=pd.concat((train,test),ignore_index=True,axis=0)"
      ],
      "execution_count": 0,
      "outputs": []
    },
    {
      "cell_type": "code",
      "metadata": {
        "id": "ynqHzH4-PW6g",
        "colab_type": "code",
        "colab": {
          "base_uri": "https://localhost:8080/",
          "height": 458
        },
        "outputId": "1c0b2d1f-9abb-4ef0-eed7-d0bf9c11a20a"
      },
      "source": [
        "#lets start to change the type of the data so that we can convert it into machine learning formal\n",
        "data['source_name']=data['source_name'].str.replace(\"station\",\"\",case=False)\n",
        "data['source_name']=data['source_name'].str.replace(\"$\",\"\")\n",
        "\n",
        "#now change it from test and train\n",
        "data['destination_name']=data['destination_name'].str.replace(\"station\",\"\",case=False)\n",
        "data['destination_name']=data['destination_name'].str.replace(\"$\",\"\")\n",
        "\n",
        "#now changing the datatype of these columns\n",
        "data['source_name']=pd.to_numeric(data['source_name'])\n",
        "data['destination_name']=pd.to_numeric(data['destination_name'])\n",
        "\n",
        "data.info()\n"
      ],
      "execution_count": 66,
      "outputs": [
        {
          "output_type": "stream",
          "text": [
            "<class 'pandas.core.frame.DataFrame'>\n",
            "RangeIndex: 2215 entries, 0 to 2214\n",
            "Data columns (total 19 columns):\n",
            "id_code                        2215 non-null object\n",
            "current_date                   2215 non-null object\n",
            "current_time                   2215 non-null object\n",
            "source_name                    2215 non-null int64\n",
            "destination_name               2215 non-null int64\n",
            "train_name                     2215 non-null object\n",
            "country_code_source            2215 non-null object\n",
            "longitude_source               2215 non-null float64\n",
            "latitude_source                2215 non-null float64\n",
            "mean_halt_times_source         2215 non-null float64\n",
            "country_code_destination       2215 non-null object\n",
            "longitude_destination          2215 non-null float64\n",
            "latitude_destination           2215 non-null float64\n",
            "mean_halt_times_destination    2215 non-null float64\n",
            "current_year                   2215 non-null int64\n",
            "current_week                   2215 non-null int64\n",
            "current_day                    2215 non-null object\n",
            "is_weekend                     2215 non-null bool\n",
            "data                           2215 non-null object\n",
            "dtypes: bool(1), float64(6), int64(4), object(8)\n",
            "memory usage: 313.8+ KB\n"
          ],
          "name": "stdout"
        }
      ]
    },
    {
      "cell_type": "code",
      "metadata": {
        "id": "qTMnP2eRTwGK",
        "colab_type": "code",
        "colab": {
          "base_uri": "https://localhost:8080/",
          "height": 35
        },
        "outputId": "06994082-cfb6-4186-9290-8b9a3cf34301"
      },
      "source": [
        "#now lets change the train name\n",
        "data[\"train_name\"].unique().shape"
      ],
      "execution_count": 67,
      "outputs": [
        {
          "output_type": "execute_result",
          "data": {
            "text/plain": [
              "(864,)"
            ]
          },
          "metadata": {
            "tags": []
          },
          "execution_count": 67
        }
      ]
    },
    {
      "cell_type": "code",
      "metadata": {
        "id": "8uTOd7U5VsL5",
        "colab_type": "code",
        "colab": {}
      },
      "source": [
        "from sklearn.preprocessing import LabelEncoder\n",
        "label=LabelEncoder()\n"
      ],
      "execution_count": 0,
      "outputs": []
    },
    {
      "cell_type": "code",
      "metadata": {
        "id": "UAZlRdRUVm9l",
        "colab_type": "code",
        "colab": {}
      },
      "source": [
        "#mapping the data on unique values\n",
        "data[\"country_code_source\"]=data[\"country_code_source\"].map({'whber':1, 'qwnll':2,'wsluu':3,'logbp':4})\n",
        "data[\"country_code_source\"]=pd.to_numeric(data[\"country_code_source\"])"
      ],
      "execution_count": 0,
      "outputs": []
    },
    {
      "cell_type": "code",
      "metadata": {
        "id": "qSHALjk_YqxY",
        "colab_type": "code",
        "colab": {
          "base_uri": "https://localhost:8080/",
          "height": 35
        },
        "outputId": "509764e8-16e6-459a-bfa4-6f0228f105fc"
      },
      "source": [
        "data[\"country_code_destination\"].unique()"
      ],
      "execution_count": 70,
      "outputs": [
        {
          "output_type": "execute_result",
          "data": {
            "text/plain": [
              "array(['whber', 'aqfre', 'qwnll', 'zxdec', 'logbp', 'wsluu'], dtype=object)"
            ]
          },
          "metadata": {
            "tags": []
          },
          "execution_count": 70
        }
      ]
    },
    {
      "cell_type": "code",
      "metadata": {
        "id": "rI6uQbpiP5z6",
        "colab_type": "code",
        "colab": {
          "base_uri": "https://localhost:8080/",
          "height": 35
        },
        "outputId": "f21c4fb3-9631-49b0-b873-4ab51c7435a8"
      },
      "source": [
        "#changing the data of destination\n",
        "data[\"country_code_destination\"]=data[\"country_code_destination\"].map({'whber':1, 'qwnll':2,'wsluu':3,\n",
        "                                                                  'logbp':4,'aqfre':5,'zxdec':6})\n",
        "data[\"country_code_destination\"]=pd.to_numeric(data[\"country_code_destination\"])\n"
      ],
      "execution_count": 71,
      "outputs": [
        {
          "output_type": "execute_result",
          "data": {
            "text/plain": [
              "array([1, 5, 2, 6, 4, 3])"
            ]
          },
          "metadata": {
            "tags": []
          },
          "execution_count": 71
        }
      ]
    },
    {
      "cell_type": "code",
      "metadata": {
        "id": "deyrorbjYjFB",
        "colab_type": "code",
        "colab": {}
      },
      "source": [
        "data[\"current_day\"]=data[\"current_day\"].map({'Monday':1,'Tuesday':2,'Wednesday':3, 'Thursday':4, 'Friday':5, \n",
        "                         'Saturday':6, 'Sunday':7})\n",
        "data[\"current_day\"]=pd.to_numeric(data[\"current_day\"])"
      ],
      "execution_count": 0,
      "outputs": []
    },
    {
      "cell_type": "code",
      "metadata": {
        "id": "-jjzIjlAb_vM",
        "colab_type": "code",
        "colab": {}
      },
      "source": [
        "#feature engineering for date and time\n",
        "#we are not doing more beacause there are several detailed columns are already present in the dataset\n",
        "data[\"date_and_time_combined\"]=data[\"current_date\"]+\" \"+data[\"current_time\"]\n",
        "data[\"date_and_time_combined\"]=pd.to_datetime(data[\"date_and_time_combined\"])\n",
        "data.drop([\"current_date\",\"current_time\",'id_code'],axis=1,inplace=True)"
      ],
      "execution_count": 0,
      "outputs": []
    },
    {
      "cell_type": "code",
      "metadata": {
        "id": "DZLnIPWYaUGz",
        "colab_type": "code",
        "colab": {}
      },
      "source": [
        "#data[\"is_weekend\"].unique()\n",
        "data[\"is_weekend\"]=np.where(data[\"is_weekend\"]==False,0,1)\n",
        "data[\"is_weekend\"]=pd.to_numeric(data[\"is_weekend\"])"
      ],
      "execution_count": 0,
      "outputs": []
    },
    {
      "cell_type": "code",
      "metadata": {
        "id": "ZB5apMvZehlF",
        "colab_type": "code",
        "colab": {}
      },
      "source": [
        "#getting the hours of the day in 24 hours\n",
        "data[\"hour_head\"]=data[\"date_and_time_combined\"].dt.hour.head()"
      ],
      "execution_count": 0,
      "outputs": []
    },
    {
      "cell_type": "code",
      "metadata": {
        "id": "uZmcCnsqf3Ok",
        "colab_type": "code",
        "colab": {
          "base_uri": "https://localhost:8080/",
          "height": 35
        },
        "outputId": "c0002a92-a32c-4a3c-8bf4-a7b6acb5dee8"
      },
      "source": [
        "cat_cols=[\"train_name\"]\n",
        "for col in cat_cols:\n",
        "    freqs=data[col].value_counts()\n",
        "    k=freqs.index[freqs>5][:-1]\n",
        "    for cat in k:\n",
        "        name=col+'_'+cat\n",
        "        data[name]=(data[col]==cat).astype(int)\n",
        "    del data[col]\n",
        "    print(col)"
      ],
      "execution_count": 94,
      "outputs": [
        {
          "output_type": "stream",
          "text": [
            "train_name\n"
          ],
          "name": "stdout"
        }
      ]
    },
    {
      "cell_type": "code",
      "metadata": {
        "id": "vCqlnAZMc0Gq",
        "colab_type": "code",
        "colab": {
          "base_uri": "https://localhost:8080/",
          "height": 256
        },
        "outputId": "83a0fe38-65e6-4cd0-f9b0-f2f81361f9fd"
      },
      "source": [
        "data.head()"
      ],
      "execution_count": 95,
      "outputs": [
        {
          "output_type": "execute_result",
          "data": {
            "text/html": [
              "<div>\n",
              "<style scoped>\n",
              "    .dataframe tbody tr th:only-of-type {\n",
              "        vertical-align: middle;\n",
              "    }\n",
              "\n",
              "    .dataframe tbody tr th {\n",
              "        vertical-align: top;\n",
              "    }\n",
              "\n",
              "    .dataframe thead th {\n",
              "        text-align: right;\n",
              "    }\n",
              "</style>\n",
              "<table border=\"1\" class=\"dataframe\">\n",
              "  <thead>\n",
              "    <tr style=\"text-align: right;\">\n",
              "      <th></th>\n",
              "      <th>source_name</th>\n",
              "      <th>destination_name</th>\n",
              "      <th>country_code_source</th>\n",
              "      <th>longitude_source</th>\n",
              "      <th>latitude_source</th>\n",
              "      <th>mean_halt_times_source</th>\n",
              "      <th>country_code_destination</th>\n",
              "      <th>longitude_destination</th>\n",
              "      <th>latitude_destination</th>\n",
              "      <th>mean_halt_times_destination</th>\n",
              "      <th>current_year</th>\n",
              "      <th>current_week</th>\n",
              "      <th>current_day</th>\n",
              "      <th>is_weekend</th>\n",
              "      <th>data</th>\n",
              "      <th>date_and_time_combined</th>\n",
              "      <th>hour_head</th>\n",
              "      <th>train_name_ICWYR</th>\n",
              "      <th>train_name_ICZVZV</th>\n",
              "      <th>train_name_ICWAT</th>\n",
              "      <th>train_name_PTXAV</th>\n",
              "      <th>train_name_ICZSAT</th>\n",
              "      <th>train_name_ICXUXZ</th>\n",
              "      <th>train_name_ICZVZS</th>\n",
              "      <th>train_name_ZSYS</th>\n",
              "      <th>train_name_ICVXR</th>\n",
              "      <th>train_name_SSXRTS</th>\n",
              "      <th>train_name_SAZV</th>\n",
              "      <th>train_name_PTWWW</th>\n",
              "      <th>train_name_ICZSXZ</th>\n",
              "      <th>train_name_ICTZU</th>\n",
              "      <th>train_name_LVVT</th>\n",
              "      <th>train_name_ICZVAT</th>\n",
              "      <th>train_name_SYXUUV</th>\n",
              "      <th>train_name_ICWXZT</th>\n",
              "      <th>train_name_ICXWXY</th>\n",
              "      <th>train_name_SVXVSU</th>\n",
              "      <th>train_name_ICZVXA</th>\n",
              "      <th>train_name_ICWVZV</th>\n",
              "      <th>train_name_ICZSZU</th>\n",
              "      <th>...</th>\n",
              "      <th>train_name_ICWXXA</th>\n",
              "      <th>train_name_ICVYR</th>\n",
              "      <th>train_name_ICYYZV</th>\n",
              "      <th>train_name_ICXWZV</th>\n",
              "      <th>train_name_ICWAS</th>\n",
              "      <th>train_name_ICVAR</th>\n",
              "      <th>train_name_ICZVZW</th>\n",
              "      <th>train_name_ICZVYR</th>\n",
              "      <th>train_name_SZZTVT</th>\n",
              "      <th>train_name_ICXXZU</th>\n",
              "      <th>train_name_ICZVAU</th>\n",
              "      <th>train_name_ICYYXS</th>\n",
              "      <th>train_name_ICYSAS</th>\n",
              "      <th>train_name_ICZVXY</th>\n",
              "      <th>train_name_PSVSR</th>\n",
              "      <th>train_name_ICVZY</th>\n",
              "      <th>train_name_ICYRXT</th>\n",
              "      <th>train_name_ICVZS</th>\n",
              "      <th>train_name_SXYYTR</th>\n",
              "      <th>train_name_PTAZX</th>\n",
              "      <th>train_name_ICXWZR</th>\n",
              "      <th>train_name_PTYZV</th>\n",
              "      <th>train_name_PSWWW</th>\n",
              "      <th>train_name_ICYWAS</th>\n",
              "      <th>train_name_SUZVSS</th>\n",
              "      <th>train_name_SYXTST</th>\n",
              "      <th>train_name_ICVXT</th>\n",
              "      <th>train_name_PTWAZ</th>\n",
              "      <th>train_name_PSXAX</th>\n",
              "      <th>train_name_ICZSAR</th>\n",
              "      <th>train_name_ICZSXA</th>\n",
              "      <th>train_name_ICZSZR</th>\n",
              "      <th>train_name_ICVAS</th>\n",
              "      <th>train_name_SZZTSA</th>\n",
              "      <th>train_name_ICZTXR</th>\n",
              "      <th>train_name_SZZRSS</th>\n",
              "      <th>train_name_PSRRS</th>\n",
              "      <th>train_name_ICVXA</th>\n",
              "      <th>train_name_ICZVXT</th>\n",
              "      <th>train_name_ICZVWZ</th>\n",
              "    </tr>\n",
              "  </thead>\n",
              "  <tbody>\n",
              "    <tr>\n",
              "      <th>0</th>\n",
              "      <td>130</td>\n",
              "      <td>214</td>\n",
              "      <td>1</td>\n",
              "      <td>4.360846</td>\n",
              "      <td>50.859663</td>\n",
              "      <td>640.265896</td>\n",
              "      <td>1</td>\n",
              "      <td>4.482785</td>\n",
              "      <td>51.017648</td>\n",
              "      <td>306.523121</td>\n",
              "      <td>2016</td>\n",
              "      <td>30</td>\n",
              "      <td>3</td>\n",
              "      <td>0</td>\n",
              "      <td>train</td>\n",
              "      <td>2016-07-27 23:41:46</td>\n",
              "      <td>23.0</td>\n",
              "      <td>0</td>\n",
              "      <td>0</td>\n",
              "      <td>0</td>\n",
              "      <td>0</td>\n",
              "      <td>0</td>\n",
              "      <td>0</td>\n",
              "      <td>0</td>\n",
              "      <td>0</td>\n",
              "      <td>0</td>\n",
              "      <td>0</td>\n",
              "      <td>0</td>\n",
              "      <td>0</td>\n",
              "      <td>0</td>\n",
              "      <td>0</td>\n",
              "      <td>0</td>\n",
              "      <td>0</td>\n",
              "      <td>0</td>\n",
              "      <td>0</td>\n",
              "      <td>0</td>\n",
              "      <td>0</td>\n",
              "      <td>0</td>\n",
              "      <td>0</td>\n",
              "      <td>0</td>\n",
              "      <td>...</td>\n",
              "      <td>0</td>\n",
              "      <td>0</td>\n",
              "      <td>0</td>\n",
              "      <td>0</td>\n",
              "      <td>0</td>\n",
              "      <td>0</td>\n",
              "      <td>0</td>\n",
              "      <td>0</td>\n",
              "      <td>0</td>\n",
              "      <td>0</td>\n",
              "      <td>0</td>\n",
              "      <td>0</td>\n",
              "      <td>0</td>\n",
              "      <td>0</td>\n",
              "      <td>0</td>\n",
              "      <td>0</td>\n",
              "      <td>0</td>\n",
              "      <td>0</td>\n",
              "      <td>0</td>\n",
              "      <td>0</td>\n",
              "      <td>0</td>\n",
              "      <td>0</td>\n",
              "      <td>0</td>\n",
              "      <td>0</td>\n",
              "      <td>0</td>\n",
              "      <td>0</td>\n",
              "      <td>0</td>\n",
              "      <td>0</td>\n",
              "      <td>0</td>\n",
              "      <td>0</td>\n",
              "      <td>0</td>\n",
              "      <td>0</td>\n",
              "      <td>0</td>\n",
              "      <td>0</td>\n",
              "      <td>0</td>\n",
              "      <td>0</td>\n",
              "      <td>0</td>\n",
              "      <td>0</td>\n",
              "      <td>0</td>\n",
              "      <td>0</td>\n",
              "    </tr>\n",
              "    <tr>\n",
              "      <th>1</th>\n",
              "      <td>248</td>\n",
              "      <td>248</td>\n",
              "      <td>1</td>\n",
              "      <td>5.497685</td>\n",
              "      <td>50.967057</td>\n",
              "      <td>39.476879</td>\n",
              "      <td>1</td>\n",
              "      <td>5.497685</td>\n",
              "      <td>50.967057</td>\n",
              "      <td>39.476879</td>\n",
              "      <td>2016</td>\n",
              "      <td>30</td>\n",
              "      <td>4</td>\n",
              "      <td>0</td>\n",
              "      <td>train</td>\n",
              "      <td>2016-07-28 00:04:25</td>\n",
              "      <td>0.0</td>\n",
              "      <td>0</td>\n",
              "      <td>0</td>\n",
              "      <td>0</td>\n",
              "      <td>0</td>\n",
              "      <td>0</td>\n",
              "      <td>0</td>\n",
              "      <td>0</td>\n",
              "      <td>0</td>\n",
              "      <td>0</td>\n",
              "      <td>0</td>\n",
              "      <td>0</td>\n",
              "      <td>0</td>\n",
              "      <td>0</td>\n",
              "      <td>0</td>\n",
              "      <td>0</td>\n",
              "      <td>0</td>\n",
              "      <td>0</td>\n",
              "      <td>0</td>\n",
              "      <td>0</td>\n",
              "      <td>0</td>\n",
              "      <td>0</td>\n",
              "      <td>0</td>\n",
              "      <td>0</td>\n",
              "      <td>...</td>\n",
              "      <td>0</td>\n",
              "      <td>0</td>\n",
              "      <td>0</td>\n",
              "      <td>0</td>\n",
              "      <td>0</td>\n",
              "      <td>0</td>\n",
              "      <td>0</td>\n",
              "      <td>0</td>\n",
              "      <td>0</td>\n",
              "      <td>0</td>\n",
              "      <td>0</td>\n",
              "      <td>0</td>\n",
              "      <td>0</td>\n",
              "      <td>1</td>\n",
              "      <td>0</td>\n",
              "      <td>0</td>\n",
              "      <td>0</td>\n",
              "      <td>0</td>\n",
              "      <td>0</td>\n",
              "      <td>0</td>\n",
              "      <td>0</td>\n",
              "      <td>0</td>\n",
              "      <td>0</td>\n",
              "      <td>0</td>\n",
              "      <td>0</td>\n",
              "      <td>0</td>\n",
              "      <td>0</td>\n",
              "      <td>0</td>\n",
              "      <td>0</td>\n",
              "      <td>0</td>\n",
              "      <td>0</td>\n",
              "      <td>0</td>\n",
              "      <td>0</td>\n",
              "      <td>0</td>\n",
              "      <td>0</td>\n",
              "      <td>0</td>\n",
              "      <td>0</td>\n",
              "      <td>0</td>\n",
              "      <td>0</td>\n",
              "      <td>0</td>\n",
              "    </tr>\n",
              "    <tr>\n",
              "      <th>2</th>\n",
              "      <td>248</td>\n",
              "      <td>147</td>\n",
              "      <td>1</td>\n",
              "      <td>5.497685</td>\n",
              "      <td>50.967057</td>\n",
              "      <td>39.476879</td>\n",
              "      <td>1</td>\n",
              "      <td>4.356801</td>\n",
              "      <td>50.845658</td>\n",
              "      <td>634.164740</td>\n",
              "      <td>2016</td>\n",
              "      <td>30</td>\n",
              "      <td>4</td>\n",
              "      <td>0</td>\n",
              "      <td>train</td>\n",
              "      <td>2016-07-28 00:18:09</td>\n",
              "      <td>0.0</td>\n",
              "      <td>0</td>\n",
              "      <td>0</td>\n",
              "      <td>0</td>\n",
              "      <td>0</td>\n",
              "      <td>0</td>\n",
              "      <td>0</td>\n",
              "      <td>0</td>\n",
              "      <td>0</td>\n",
              "      <td>0</td>\n",
              "      <td>0</td>\n",
              "      <td>0</td>\n",
              "      <td>0</td>\n",
              "      <td>0</td>\n",
              "      <td>0</td>\n",
              "      <td>0</td>\n",
              "      <td>0</td>\n",
              "      <td>0</td>\n",
              "      <td>0</td>\n",
              "      <td>0</td>\n",
              "      <td>0</td>\n",
              "      <td>0</td>\n",
              "      <td>0</td>\n",
              "      <td>0</td>\n",
              "      <td>...</td>\n",
              "      <td>0</td>\n",
              "      <td>0</td>\n",
              "      <td>0</td>\n",
              "      <td>0</td>\n",
              "      <td>0</td>\n",
              "      <td>0</td>\n",
              "      <td>0</td>\n",
              "      <td>0</td>\n",
              "      <td>0</td>\n",
              "      <td>0</td>\n",
              "      <td>0</td>\n",
              "      <td>0</td>\n",
              "      <td>0</td>\n",
              "      <td>1</td>\n",
              "      <td>0</td>\n",
              "      <td>0</td>\n",
              "      <td>0</td>\n",
              "      <td>0</td>\n",
              "      <td>0</td>\n",
              "      <td>0</td>\n",
              "      <td>0</td>\n",
              "      <td>0</td>\n",
              "      <td>0</td>\n",
              "      <td>0</td>\n",
              "      <td>0</td>\n",
              "      <td>0</td>\n",
              "      <td>0</td>\n",
              "      <td>0</td>\n",
              "      <td>0</td>\n",
              "      <td>0</td>\n",
              "      <td>0</td>\n",
              "      <td>0</td>\n",
              "      <td>0</td>\n",
              "      <td>0</td>\n",
              "      <td>0</td>\n",
              "      <td>0</td>\n",
              "      <td>0</td>\n",
              "      <td>0</td>\n",
              "      <td>0</td>\n",
              "      <td>0</td>\n",
              "    </tr>\n",
              "    <tr>\n",
              "      <th>3</th>\n",
              "      <td>177</td>\n",
              "      <td>130</td>\n",
              "      <td>1</td>\n",
              "      <td>4.482076</td>\n",
              "      <td>50.896456</td>\n",
              "      <td>171.020231</td>\n",
              "      <td>1</td>\n",
              "      <td>4.360846</td>\n",
              "      <td>50.859663</td>\n",
              "      <td>640.265896</td>\n",
              "      <td>2016</td>\n",
              "      <td>30</td>\n",
              "      <td>4</td>\n",
              "      <td>0</td>\n",
              "      <td>train</td>\n",
              "      <td>2016-07-28 00:38:28</td>\n",
              "      <td>0.0</td>\n",
              "      <td>0</td>\n",
              "      <td>0</td>\n",
              "      <td>0</td>\n",
              "      <td>0</td>\n",
              "      <td>0</td>\n",
              "      <td>0</td>\n",
              "      <td>0</td>\n",
              "      <td>0</td>\n",
              "      <td>0</td>\n",
              "      <td>0</td>\n",
              "      <td>0</td>\n",
              "      <td>0</td>\n",
              "      <td>0</td>\n",
              "      <td>0</td>\n",
              "      <td>0</td>\n",
              "      <td>0</td>\n",
              "      <td>0</td>\n",
              "      <td>0</td>\n",
              "      <td>0</td>\n",
              "      <td>0</td>\n",
              "      <td>0</td>\n",
              "      <td>0</td>\n",
              "      <td>0</td>\n",
              "      <td>...</td>\n",
              "      <td>0</td>\n",
              "      <td>0</td>\n",
              "      <td>0</td>\n",
              "      <td>0</td>\n",
              "      <td>0</td>\n",
              "      <td>0</td>\n",
              "      <td>0</td>\n",
              "      <td>0</td>\n",
              "      <td>0</td>\n",
              "      <td>0</td>\n",
              "      <td>0</td>\n",
              "      <td>0</td>\n",
              "      <td>0</td>\n",
              "      <td>0</td>\n",
              "      <td>0</td>\n",
              "      <td>0</td>\n",
              "      <td>0</td>\n",
              "      <td>0</td>\n",
              "      <td>0</td>\n",
              "      <td>0</td>\n",
              "      <td>0</td>\n",
              "      <td>0</td>\n",
              "      <td>0</td>\n",
              "      <td>0</td>\n",
              "      <td>0</td>\n",
              "      <td>0</td>\n",
              "      <td>0</td>\n",
              "      <td>0</td>\n",
              "      <td>0</td>\n",
              "      <td>0</td>\n",
              "      <td>0</td>\n",
              "      <td>0</td>\n",
              "      <td>0</td>\n",
              "      <td>0</td>\n",
              "      <td>0</td>\n",
              "      <td>0</td>\n",
              "      <td>0</td>\n",
              "      <td>0</td>\n",
              "      <td>0</td>\n",
              "      <td>0</td>\n",
              "    </tr>\n",
              "    <tr>\n",
              "      <th>4</th>\n",
              "      <td>544</td>\n",
              "      <td>147</td>\n",
              "      <td>1</td>\n",
              "      <td>3.710675</td>\n",
              "      <td>51.035896</td>\n",
              "      <td>309.014451</td>\n",
              "      <td>1</td>\n",
              "      <td>4.356801</td>\n",
              "      <td>50.845658</td>\n",
              "      <td>634.164740</td>\n",
              "      <td>2016</td>\n",
              "      <td>30</td>\n",
              "      <td>4</td>\n",
              "      <td>0</td>\n",
              "      <td>train</td>\n",
              "      <td>2016-07-28 08:50:27</td>\n",
              "      <td>8.0</td>\n",
              "      <td>0</td>\n",
              "      <td>0</td>\n",
              "      <td>0</td>\n",
              "      <td>0</td>\n",
              "      <td>0</td>\n",
              "      <td>0</td>\n",
              "      <td>0</td>\n",
              "      <td>0</td>\n",
              "      <td>0</td>\n",
              "      <td>0</td>\n",
              "      <td>0</td>\n",
              "      <td>0</td>\n",
              "      <td>0</td>\n",
              "      <td>0</td>\n",
              "      <td>0</td>\n",
              "      <td>1</td>\n",
              "      <td>0</td>\n",
              "      <td>0</td>\n",
              "      <td>0</td>\n",
              "      <td>0</td>\n",
              "      <td>0</td>\n",
              "      <td>0</td>\n",
              "      <td>0</td>\n",
              "      <td>...</td>\n",
              "      <td>0</td>\n",
              "      <td>0</td>\n",
              "      <td>0</td>\n",
              "      <td>0</td>\n",
              "      <td>0</td>\n",
              "      <td>0</td>\n",
              "      <td>0</td>\n",
              "      <td>0</td>\n",
              "      <td>0</td>\n",
              "      <td>0</td>\n",
              "      <td>0</td>\n",
              "      <td>0</td>\n",
              "      <td>0</td>\n",
              "      <td>0</td>\n",
              "      <td>0</td>\n",
              "      <td>0</td>\n",
              "      <td>0</td>\n",
              "      <td>0</td>\n",
              "      <td>0</td>\n",
              "      <td>0</td>\n",
              "      <td>0</td>\n",
              "      <td>0</td>\n",
              "      <td>0</td>\n",
              "      <td>0</td>\n",
              "      <td>0</td>\n",
              "      <td>0</td>\n",
              "      <td>0</td>\n",
              "      <td>0</td>\n",
              "      <td>0</td>\n",
              "      <td>0</td>\n",
              "      <td>0</td>\n",
              "      <td>0</td>\n",
              "      <td>0</td>\n",
              "      <td>0</td>\n",
              "      <td>0</td>\n",
              "      <td>0</td>\n",
              "      <td>0</td>\n",
              "      <td>0</td>\n",
              "      <td>0</td>\n",
              "      <td>0</td>\n",
              "    </tr>\n",
              "  </tbody>\n",
              "</table>\n",
              "<p>5 rows × 103 columns</p>\n",
              "</div>"
            ],
            "text/plain": [
              "   source_name  destination_name  ...  train_name_ICZVXT  train_name_ICZVWZ\n",
              "0          130               214  ...                  0                  0\n",
              "1          248               248  ...                  0                  0\n",
              "2          248               147  ...                  0                  0\n",
              "3          177               130  ...                  0                  0\n",
              "4          544               147  ...                  0                  0\n",
              "\n",
              "[5 rows x 103 columns]"
            ]
          },
          "metadata": {
            "tags": []
          },
          "execution_count": 95
        }
      ]
    }
  ]
}