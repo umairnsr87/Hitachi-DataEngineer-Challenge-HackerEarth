{
  "nbformat": 4,
  "nbformat_minor": 0,
  "metadata": {
    "colab": {
      "name": "data engineer hitachi.ipynb",
      "provenance": [],
      "collapsed_sections": [],
      "include_colab_link": true
    },
    "kernelspec": {
      "name": "python3",
      "display_name": "Python 3"
    },
    "accelerator": "GPU"
  },
  "cells": [
    {
      "cell_type": "markdown",
      "metadata": {
        "id": "view-in-github",
        "colab_type": "text"
      },
      "source": [
        "<a href=\"https://colab.research.google.com/github/umairnsr87/Hitachi-DataEngineer-Challenge-HackerEarth/blob/master/data_engineer_hitachi_HYPERTUNED_MODELS.ipynb\" target=\"_parent\"><img src=\"https://colab.research.google.com/assets/colab-badge.svg\" alt=\"Open In Colab\"/></a>"
      ]
    },
    {
      "cell_type": "code",
      "metadata": {
        "id": "ypTUpyF3ugZi",
        "colab_type": "code",
        "colab": {}
      },
      "source": [
        "import pandas as pd\n",
        "import seaborn as sns\n",
        "import matplotlib.pyplot as plt\n",
        "import numpy as np"
      ],
      "execution_count": 0,
      "outputs": []
    },
    {
      "cell_type": "code",
      "metadata": {
        "id": "UN46hZQhutpA",
        "colab_type": "code",
        "colab": {}
      },
      "source": [
        "test = pd.read_csv('Test_1.csv')\n",
        "train = pd.read_csv('Train_1.csv')\n"
      ],
      "execution_count": 0,
      "outputs": []
    },
    {
      "cell_type": "code",
      "metadata": {
        "id": "bQtOLK2B9M7W",
        "colab_type": "code",
        "colab": {}
      },
      "source": [
        "axx = pd.read_csv('Test_1.csv')\n",
        "id_code = axx[\"id_code\"]\n",
        "del axx"
      ],
      "execution_count": 0,
      "outputs": []
    },
    {
      "cell_type": "code",
      "metadata": {
        "id": "x4KbYWwYvJZy",
        "colab_type": "code",
        "colab": {}
      },
      "source": [
        "train[\"mean_halt_times_source\"].fillna(640.265896,inplace=True)\n",
        "train[\"latitude_source\"].fillna(50.859663,inplace=True)\n",
        "train[\"longitude_source\"]=train[\"longitude_source\"].fillna(4.360846)\n",
        "train[\"country_code_source\"].fillna(\"whber\",inplace=True)\n",
        "train[\"country_code_destination\"].fillna(\"whber\",inplace=True)\n",
        "train[\"mean_halt_times_destination\"].fillna(164.41907514451,inplace=True)\n",
        "train.dropna(axis=0,how='any',inplace=True)"
      ],
      "execution_count": 0,
      "outputs": []
    },
    {
      "cell_type": "code",
      "metadata": {
        "id": "oRbGwzFzPRYd",
        "colab_type": "code",
        "outputId": "5029ac6f-8131-4047-c34c-f57c10df5111",
        "colab": {
          "base_uri": "https://localhost:8080/",
          "height": 384
        }
      },
      "source": [
        "train.isna().sum()"
      ],
      "execution_count": 78,
      "outputs": [
        {
          "output_type": "execute_result",
          "data": {
            "text/plain": [
              "id_code                        0\n",
              "current_date                   0\n",
              "current_time                   0\n",
              "source_name                    0\n",
              "destination_name               0\n",
              "train_name                     0\n",
              "target                         0\n",
              "country_code_source            0\n",
              "longitude_source               0\n",
              "latitude_source                0\n",
              "mean_halt_times_source         0\n",
              "country_code_destination       0\n",
              "longitude_destination          0\n",
              "latitude_destination           0\n",
              "mean_halt_times_destination    0\n",
              "current_year                   0\n",
              "current_week                   0\n",
              "current_day                    0\n",
              "is_weekend                     0\n",
              "dtype: int64"
            ]
          },
          "metadata": {
            "tags": []
          },
          "execution_count": 78
        }
      ]
    },
    {
      "cell_type": "code",
      "metadata": {
        "id": "jvL57FDkTCBt",
        "colab_type": "code",
        "outputId": "670a3bc5-9939-46fc-ccc1-41fca4f6da9d",
        "colab": {
          "base_uri": "https://localhost:8080/",
          "height": 35
        }
      },
      "source": [
        "train.shape,test.shape"
      ],
      "execution_count": 79,
      "outputs": [
        {
          "output_type": "execute_result",
          "data": {
            "text/plain": [
              "((1251, 19), (964, 18))"
            ]
          },
          "metadata": {
            "tags": []
          },
          "execution_count": 79
        }
      ]
    },
    {
      "cell_type": "code",
      "metadata": {
        "id": "QiHqL3pQQ0Lx",
        "colab_type": "code",
        "colab": {}
      },
      "source": [
        "#removing the target\n",
        "train.reset_index(inplace=True,drop=True)\n",
        "Y_train=train[\"target\"].map({'low':0,'high':2,'medium':1})\n",
        "\n",
        "#joining both train and test data for data cleaning\n",
        "train[\"data\"]=\"train\"\n",
        "train.drop([\"target\"],axis=1,inplace=True)\n",
        "test[\"data\"]=\"test\"\n",
        "data=pd.concat((train,test),ignore_index=True,axis=0)"
      ],
      "execution_count": 0,
      "outputs": []
    },
    {
      "cell_type": "code",
      "metadata": {
        "id": "OxxxMZCaNoob",
        "colab_type": "code",
        "colab": {}
      },
      "source": [
        ""
      ],
      "execution_count": 0,
      "outputs": []
    },
    {
      "cell_type": "code",
      "metadata": {
        "id": "ynqHzH4-PW6g",
        "colab_type": "code",
        "outputId": "606cb876-893e-41ff-93f8-6df52561ed3f",
        "colab": {
          "base_uri": "https://localhost:8080/",
          "height": 458
        }
      },
      "source": [
        "#lets start to change the type of the data so that we can convert it into machine learning formal\n",
        "data['source_name']=data['source_name'].str.replace(\"station\",\"\",case=False)\n",
        "data['source_name']=data['source_name'].str.replace(\"$\",\"\")\n",
        "\n",
        "#now change it from test and train\n",
        "data['destination_name']=data['destination_name'].str.replace(\"station\",\"\",case=False)\n",
        "data['destination_name']=data['destination_name'].str.replace(\"$\",\"\")\n",
        "\n",
        "#now changing the datatype of these columns\n",
        "data['source_name']=pd.to_numeric(data['source_name'])\n",
        "data['destination_name']=pd.to_numeric(data['destination_name'])\n",
        "\n",
        "data.info()\n"
      ],
      "execution_count": 81,
      "outputs": [
        {
          "output_type": "stream",
          "text": [
            "<class 'pandas.core.frame.DataFrame'>\n",
            "RangeIndex: 2215 entries, 0 to 2214\n",
            "Data columns (total 19 columns):\n",
            "id_code                        2215 non-null object\n",
            "current_date                   2215 non-null object\n",
            "current_time                   2215 non-null object\n",
            "source_name                    2215 non-null int64\n",
            "destination_name               2215 non-null int64\n",
            "train_name                     2215 non-null object\n",
            "country_code_source            2215 non-null object\n",
            "longitude_source               2215 non-null float64\n",
            "latitude_source                2215 non-null float64\n",
            "mean_halt_times_source         2215 non-null float64\n",
            "country_code_destination       2215 non-null object\n",
            "longitude_destination          2215 non-null float64\n",
            "latitude_destination           2215 non-null float64\n",
            "mean_halt_times_destination    2215 non-null float64\n",
            "current_year                   2215 non-null int64\n",
            "current_week                   2215 non-null int64\n",
            "current_day                    2215 non-null object\n",
            "is_weekend                     2215 non-null bool\n",
            "data                           2215 non-null object\n",
            "dtypes: bool(1), float64(6), int64(4), object(8)\n",
            "memory usage: 313.8+ KB\n"
          ],
          "name": "stdout"
        }
      ]
    },
    {
      "cell_type": "code",
      "metadata": {
        "id": "8uTOd7U5VsL5",
        "colab_type": "code",
        "colab": {}
      },
      "source": [
        "from sklearn.preprocessing import LabelEncoder\n",
        "label=LabelEncoder()\n"
      ],
      "execution_count": 0,
      "outputs": []
    },
    {
      "cell_type": "code",
      "metadata": {
        "id": "UAZlRdRUVm9l",
        "colab_type": "code",
        "colab": {}
      },
      "source": [
        "#mapping the data on unique values\n",
        "data[\"country_code_source\"]=data[\"country_code_source\"].map({'whber':1, 'qwnll':2,'wsluu':3,'logbp':4})\n",
        "data[\"country_code_source\"]=pd.to_numeric(data[\"country_code_source\"])"
      ],
      "execution_count": 0,
      "outputs": []
    },
    {
      "cell_type": "code",
      "metadata": {
        "id": "qSHALjk_YqxY",
        "colab_type": "code",
        "outputId": "ab031ce2-2cb6-4498-bf77-f77fa21d3cae",
        "colab": {
          "base_uri": "https://localhost:8080/",
          "height": 35
        }
      },
      "source": [
        "data[\"country_code_destination\"].unique()"
      ],
      "execution_count": 84,
      "outputs": [
        {
          "output_type": "execute_result",
          "data": {
            "text/plain": [
              "array(['whber', 'aqfre', 'qwnll', 'zxdec', 'logbp', 'wsluu'], dtype=object)"
            ]
          },
          "metadata": {
            "tags": []
          },
          "execution_count": 84
        }
      ]
    },
    {
      "cell_type": "code",
      "metadata": {
        "id": "rI6uQbpiP5z6",
        "colab_type": "code",
        "colab": {}
      },
      "source": [
        "#changing the data of destination\n",
        "data[\"country_code_destination\"]=data[\"country_code_destination\"].map({'whber':1, 'qwnll':2,'wsluu':3,\n",
        "                                                                  'logbp':4,'aqfre':5,'zxdec':6})\n",
        "data[\"country_code_destination\"]=pd.to_numeric(data[\"country_code_destination\"])\n"
      ],
      "execution_count": 0,
      "outputs": []
    },
    {
      "cell_type": "code",
      "metadata": {
        "id": "deyrorbjYjFB",
        "colab_type": "code",
        "colab": {}
      },
      "source": [
        "data[\"current_day\"]=data[\"current_day\"].map({'Monday':1,'Tuesday':2,'Wednesday':3, 'Thursday':4, 'Friday':5, \n",
        "                         'Saturday':6, 'Sunday':7})\n",
        "data[\"current_day\"]=pd.to_numeric(data[\"current_day\"])"
      ],
      "execution_count": 0,
      "outputs": []
    },
    {
      "cell_type": "code",
      "metadata": {
        "id": "4HF357aZNkMz",
        "colab_type": "code",
        "outputId": "6e8dc05c-259e-44c7-de03-ebc5dab756d1",
        "colab": {
          "base_uri": "https://localhost:8080/",
          "height": 226
        }
      },
      "source": [
        "data.tail(5)"
      ],
      "execution_count": 87,
      "outputs": [
        {
          "output_type": "execute_result",
          "data": {
            "text/html": [
              "<div>\n",
              "<style scoped>\n",
              "    .dataframe tbody tr th:only-of-type {\n",
              "        vertical-align: middle;\n",
              "    }\n",
              "\n",
              "    .dataframe tbody tr th {\n",
              "        vertical-align: top;\n",
              "    }\n",
              "\n",
              "    .dataframe thead th {\n",
              "        text-align: right;\n",
              "    }\n",
              "</style>\n",
              "<table border=\"1\" class=\"dataframe\">\n",
              "  <thead>\n",
              "    <tr style=\"text-align: right;\">\n",
              "      <th></th>\n",
              "      <th>id_code</th>\n",
              "      <th>current_date</th>\n",
              "      <th>current_time</th>\n",
              "      <th>source_name</th>\n",
              "      <th>destination_name</th>\n",
              "      <th>train_name</th>\n",
              "      <th>country_code_source</th>\n",
              "      <th>longitude_source</th>\n",
              "      <th>latitude_source</th>\n",
              "      <th>mean_halt_times_source</th>\n",
              "      <th>country_code_destination</th>\n",
              "      <th>longitude_destination</th>\n",
              "      <th>latitude_destination</th>\n",
              "      <th>mean_halt_times_destination</th>\n",
              "      <th>current_year</th>\n",
              "      <th>current_week</th>\n",
              "      <th>current_day</th>\n",
              "      <th>is_weekend</th>\n",
              "      <th>data</th>\n",
              "    </tr>\n",
              "  </thead>\n",
              "  <tbody>\n",
              "    <tr>\n",
              "      <th>2210</th>\n",
              "      <td>pnfrvyxsejnehwu</td>\n",
              "      <td>2016-10-29</td>\n",
              "      <td>09:14:45 AM</td>\n",
              "      <td>544</td>\n",
              "      <td>530</td>\n",
              "      <td>ICZVXA</td>\n",
              "      <td>1</td>\n",
              "      <td>3.710675</td>\n",
              "      <td>51.035896</td>\n",
              "      <td>309.014451</td>\n",
              "      <td>1</td>\n",
              "      <td>3.447848</td>\n",
              "      <td>51.092295</td>\n",
              "      <td>78.488439</td>\n",
              "      <td>2016</td>\n",
              "      <td>43</td>\n",
              "      <td>6</td>\n",
              "      <td>True</td>\n",
              "      <td>test</td>\n",
              "    </tr>\n",
              "    <tr>\n",
              "      <th>2211</th>\n",
              "      <td>omsilbnrgbvkeak</td>\n",
              "      <td>2016-10-29</td>\n",
              "      <td>10:17:59 AM</td>\n",
              "      <td>530</td>\n",
              "      <td>544</td>\n",
              "      <td>ICZVZA</td>\n",
              "      <td>1</td>\n",
              "      <td>3.447848</td>\n",
              "      <td>51.092295</td>\n",
              "      <td>78.488439</td>\n",
              "      <td>1</td>\n",
              "      <td>3.710675</td>\n",
              "      <td>51.035896</td>\n",
              "      <td>309.014451</td>\n",
              "      <td>2016</td>\n",
              "      <td>43</td>\n",
              "      <td>6</td>\n",
              "      <td>True</td>\n",
              "      <td>test</td>\n",
              "    </tr>\n",
              "    <tr>\n",
              "      <th>2212</th>\n",
              "      <td>vkjvqmaaguaeqde</td>\n",
              "      <td>2016-10-29</td>\n",
              "      <td>10:39:10 AM</td>\n",
              "      <td>178</td>\n",
              "      <td>147</td>\n",
              "      <td>ICRYYW</td>\n",
              "      <td>1</td>\n",
              "      <td>4.421101</td>\n",
              "      <td>51.217200</td>\n",
              "      <td>467.982659</td>\n",
              "      <td>1</td>\n",
              "      <td>4.356801</td>\n",
              "      <td>50.845658</td>\n",
              "      <td>634.164740</td>\n",
              "      <td>2016</td>\n",
              "      <td>43</td>\n",
              "      <td>6</td>\n",
              "      <td>True</td>\n",
              "      <td>test</td>\n",
              "    </tr>\n",
              "    <tr>\n",
              "      <th>2213</th>\n",
              "      <td>iutnjhogthfpymb</td>\n",
              "      <td>2016-10-29</td>\n",
              "      <td>10:59:55 AM</td>\n",
              "      <td>147</td>\n",
              "      <td>150</td>\n",
              "      <td>ICZVXY</td>\n",
              "      <td>1</td>\n",
              "      <td>4.356801</td>\n",
              "      <td>50.845658</td>\n",
              "      <td>634.164740</td>\n",
              "      <td>1</td>\n",
              "      <td>4.336531</td>\n",
              "      <td>50.835707</td>\n",
              "      <td>686.615607</td>\n",
              "      <td>2016</td>\n",
              "      <td>43</td>\n",
              "      <td>6</td>\n",
              "      <td>True</td>\n",
              "      <td>test</td>\n",
              "    </tr>\n",
              "    <tr>\n",
              "      <th>2214</th>\n",
              "      <td>xwqxedeqlnimclu</td>\n",
              "      <td>2016-10-29</td>\n",
              "      <td>11:48:37 AM</td>\n",
              "      <td>525</td>\n",
              "      <td>536</td>\n",
              "      <td>ICZVXW</td>\n",
              "      <td>1</td>\n",
              "      <td>3.216726</td>\n",
              "      <td>51.197226</td>\n",
              "      <td>164.419075</td>\n",
              "      <td>1</td>\n",
              "      <td>3.133864</td>\n",
              "      <td>51.312432</td>\n",
              "      <td>21.416185</td>\n",
              "      <td>2016</td>\n",
              "      <td>43</td>\n",
              "      <td>6</td>\n",
              "      <td>True</td>\n",
              "      <td>test</td>\n",
              "    </tr>\n",
              "  </tbody>\n",
              "</table>\n",
              "</div>"
            ],
            "text/plain": [
              "              id_code current_date current_time  ...  current_day  is_weekend  data\n",
              "2210  pnfrvyxsejnehwu   2016-10-29  09:14:45 AM  ...            6        True  test\n",
              "2211  omsilbnrgbvkeak   2016-10-29  10:17:59 AM  ...            6        True  test\n",
              "2212  vkjvqmaaguaeqde   2016-10-29  10:39:10 AM  ...            6        True  test\n",
              "2213  iutnjhogthfpymb   2016-10-29  10:59:55 AM  ...            6        True  test\n",
              "2214  xwqxedeqlnimclu   2016-10-29  11:48:37 AM  ...            6        True  test\n",
              "\n",
              "[5 rows x 19 columns]"
            ]
          },
          "metadata": {
            "tags": []
          },
          "execution_count": 87
        }
      ]
    },
    {
      "cell_type": "code",
      "metadata": {
        "id": "-jjzIjlAb_vM",
        "colab_type": "code",
        "colab": {}
      },
      "source": [
        "#feature engineering for date and time\n",
        "#we are not doing more beacause there are several detailed columns are already present in the dataset\n",
        "#data[\"date_and_time_combined\"]=+\" \"+data[\"current_time\"]\n",
        "#data[\"current_date\"]=pd.to_datetime(data[\"current_date\"])\n",
        "\n",
        "\n",
        "#getting the current month\n",
        "xx=data[\"current_date\"].str.split(\"-\",expand=True)\n",
        "\n",
        "data[\"current_month\"]=xx[1]\n"
      ],
      "execution_count": 0,
      "outputs": []
    },
    {
      "cell_type": "code",
      "metadata": {
        "id": "EfjGV_dyVRxd",
        "colab_type": "code",
        "outputId": "a88cea9b-c676-40d7-ab5b-260986b1bcc9",
        "colab": {
          "base_uri": "https://localhost:8080/",
          "height": 403
        }
      },
      "source": [
        "data.isna().sum()"
      ],
      "execution_count": 89,
      "outputs": [
        {
          "output_type": "execute_result",
          "data": {
            "text/plain": [
              "id_code                        0\n",
              "current_date                   0\n",
              "current_time                   0\n",
              "source_name                    0\n",
              "destination_name               0\n",
              "train_name                     0\n",
              "country_code_source            0\n",
              "longitude_source               0\n",
              "latitude_source                0\n",
              "mean_halt_times_source         0\n",
              "country_code_destination       0\n",
              "longitude_destination          0\n",
              "latitude_destination           0\n",
              "mean_halt_times_destination    0\n",
              "current_year                   0\n",
              "current_week                   0\n",
              "current_day                    0\n",
              "is_weekend                     0\n",
              "data                           0\n",
              "current_month                  0\n",
              "dtype: int64"
            ]
          },
          "metadata": {
            "tags": []
          },
          "execution_count": 89
        }
      ]
    },
    {
      "cell_type": "code",
      "metadata": {
        "id": "vCdaRZ4vQrA_",
        "colab_type": "code",
        "colab": {}
      },
      "source": [
        "#getting the hours of the time and converting it nto 24 hours format\n",
        "a=data[\"current_time\"].str.split(':',expand=True)\n",
        "b=a[2].str.split(\" \",expand=True)\n",
        "a=a[0]\n",
        "a=pd.to_numeric(a)\n",
        "xx=np.where(b[1]=='AM',a+12,a)\n",
        "xx=np.where(xx==24,0,xx)\n",
        "\n",
        "hours=pd.DataFrame(xx)\n",
        "data[\"hours_of_the_time\"]=hours\n",
        "del hours,xx\n",
        "data.drop([\"current_date\",\"current_time\",'id_code'],axis=1,inplace=True)"
      ],
      "execution_count": 0,
      "outputs": []
    },
    {
      "cell_type": "code",
      "metadata": {
        "id": "DZLnIPWYaUGz",
        "colab_type": "code",
        "colab": {}
      },
      "source": [
        "#changing the weekend into binary column\n",
        "#data[\"is_weekend\"].unique()\n",
        "data[\"is_weekend\"]=np.where(data[\"is_weekend\"]==False,0,1)\n",
        "data[\"is_weekend\"]=pd.to_numeric(data[\"is_weekend\"])"
      ],
      "execution_count": 0,
      "outputs": []
    },
    {
      "cell_type": "code",
      "metadata": {
        "id": "uZmcCnsqf3Ok",
        "colab_type": "code",
        "colab": {}
      },
      "source": [
        "#making dummies for the train names for the trains which have values more that 5\n",
        "#cat_cols=[\"train_name\"]\n",
        "#for col in cat_cols:\n",
        " #   freqs=data[col].value_counts()\n",
        "  #  k=freqs.index[freqs>5][:-1]\n",
        "   # for cat in k:\n",
        "    #    name=col+'_'+cat\n",
        "     #   data[name]=(data[col]==cat).astype(int)\n",
        "    #del data[col]\n",
        "    #print(col)\n",
        "\n",
        "\n",
        "\n",
        "#we are deleting the train name for now \n",
        "# we will include the code when we will deal with the modelling process\n",
        "del data[\"train_name\"]"
      ],
      "execution_count": 0,
      "outputs": []
    },
    {
      "cell_type": "code",
      "metadata": {
        "id": "V016A4r5hsQ7",
        "colab_type": "code",
        "colab": {}
      },
      "source": [
        "#converting the target into one hot encoding as it is a multiclass problem\n",
        "#from sklearn.preprocessing import OneHotEncoder\n",
        "#encoder = OneHotEncoder(handle_unknown='ignore')\n",
        "#encoder.fit_transform(target)\n",
        "#from sklearn.preprocessing import MultiLabelBinarizer\n",
        "#MultiLabelBinarizer().fit_transform(target)\n"
      ],
      "execution_count": 0,
      "outputs": []
    },
    {
      "cell_type": "code",
      "metadata": {
        "id": "eZyswGgPQ-C8",
        "colab_type": "code",
        "colab": {}
      },
      "source": [
        "#from sklearn.preprocessing import StandardScaler,RobustScaler,MinMaxScaler\n",
        "#ss=StandardScaler()\n",
        "##rs=RobustScaler()\n",
        "#ms=MinMaxScaler()"
      ],
      "execution_count": 0,
      "outputs": []
    },
    {
      "cell_type": "code",
      "metadata": {
        "id": "HIH97okqIBKT",
        "colab_type": "code",
        "outputId": "8e5205a4-a64f-46df-a6d5-de3eb09b521e",
        "colab": {
          "base_uri": "https://localhost:8080/",
          "height": 166
        }
      },
      "source": [
        "#getting the training and testing data into the original form\n",
        "train=data[data['data']=='train']\n",
        "test=data[data['data']=='test']\n",
        "print(train.shape,test.shape)\n",
        "train.drop(['data'],axis=1,inplace=True)\n",
        "test.drop(['data'],axis=1,inplace=True)\n",
        "print(train.shape,test.shape)\n"
      ],
      "execution_count": 94,
      "outputs": [
        {
          "output_type": "stream",
          "text": [
            "(1251, 17) (964, 17)\n",
            "(1251, 16) (964, 16)\n"
          ],
          "name": "stdout"
        },
        {
          "output_type": "stream",
          "text": [
            "/usr/local/lib/python3.6/dist-packages/pandas/core/frame.py:4117: SettingWithCopyWarning: \n",
            "A value is trying to be set on a copy of a slice from a DataFrame\n",
            "\n",
            "See the caveats in the documentation: http://pandas.pydata.org/pandas-docs/stable/user_guide/indexing.html#returning-a-view-versus-a-copy\n",
            "  errors=errors,\n"
          ],
          "name": "stderr"
        }
      ]
    },
    {
      "cell_type": "code",
      "metadata": {
        "id": "25sVoA5cRduT",
        "colab_type": "code",
        "colab": {}
      },
      "source": [
        "#train=ss.fit_transform(train)\n",
        "#test=ss.fit_transform(test)"
      ],
      "execution_count": 0,
      "outputs": []
    },
    {
      "cell_type": "code",
      "metadata": {
        "id": "xw2ngFPjWp1R",
        "colab_type": "code",
        "outputId": "ffc59131-6adb-472e-97da-9ab2b6a4b9a8",
        "colab": {
          "base_uri": "https://localhost:8080/",
          "height": 226
        }
      },
      "source": [
        "data.head()"
      ],
      "execution_count": 96,
      "outputs": [
        {
          "output_type": "execute_result",
          "data": {
            "text/html": [
              "<div>\n",
              "<style scoped>\n",
              "    .dataframe tbody tr th:only-of-type {\n",
              "        vertical-align: middle;\n",
              "    }\n",
              "\n",
              "    .dataframe tbody tr th {\n",
              "        vertical-align: top;\n",
              "    }\n",
              "\n",
              "    .dataframe thead th {\n",
              "        text-align: right;\n",
              "    }\n",
              "</style>\n",
              "<table border=\"1\" class=\"dataframe\">\n",
              "  <thead>\n",
              "    <tr style=\"text-align: right;\">\n",
              "      <th></th>\n",
              "      <th>source_name</th>\n",
              "      <th>destination_name</th>\n",
              "      <th>country_code_source</th>\n",
              "      <th>longitude_source</th>\n",
              "      <th>latitude_source</th>\n",
              "      <th>mean_halt_times_source</th>\n",
              "      <th>country_code_destination</th>\n",
              "      <th>longitude_destination</th>\n",
              "      <th>latitude_destination</th>\n",
              "      <th>mean_halt_times_destination</th>\n",
              "      <th>current_year</th>\n",
              "      <th>current_week</th>\n",
              "      <th>current_day</th>\n",
              "      <th>is_weekend</th>\n",
              "      <th>data</th>\n",
              "      <th>current_month</th>\n",
              "      <th>hours_of_the_time</th>\n",
              "    </tr>\n",
              "  </thead>\n",
              "  <tbody>\n",
              "    <tr>\n",
              "      <th>0</th>\n",
              "      <td>130</td>\n",
              "      <td>214</td>\n",
              "      <td>1</td>\n",
              "      <td>4.360846</td>\n",
              "      <td>50.859663</td>\n",
              "      <td>640.265896</td>\n",
              "      <td>1</td>\n",
              "      <td>4.482785</td>\n",
              "      <td>51.017648</td>\n",
              "      <td>306.523121</td>\n",
              "      <td>2016</td>\n",
              "      <td>30</td>\n",
              "      <td>3</td>\n",
              "      <td>0</td>\n",
              "      <td>train</td>\n",
              "      <td>07</td>\n",
              "      <td>11</td>\n",
              "    </tr>\n",
              "    <tr>\n",
              "      <th>1</th>\n",
              "      <td>248</td>\n",
              "      <td>248</td>\n",
              "      <td>1</td>\n",
              "      <td>5.497685</td>\n",
              "      <td>50.967057</td>\n",
              "      <td>39.476879</td>\n",
              "      <td>1</td>\n",
              "      <td>5.497685</td>\n",
              "      <td>50.967057</td>\n",
              "      <td>39.476879</td>\n",
              "      <td>2016</td>\n",
              "      <td>30</td>\n",
              "      <td>4</td>\n",
              "      <td>0</td>\n",
              "      <td>train</td>\n",
              "      <td>07</td>\n",
              "      <td>0</td>\n",
              "    </tr>\n",
              "    <tr>\n",
              "      <th>2</th>\n",
              "      <td>248</td>\n",
              "      <td>147</td>\n",
              "      <td>1</td>\n",
              "      <td>5.497685</td>\n",
              "      <td>50.967057</td>\n",
              "      <td>39.476879</td>\n",
              "      <td>1</td>\n",
              "      <td>4.356801</td>\n",
              "      <td>50.845658</td>\n",
              "      <td>634.164740</td>\n",
              "      <td>2016</td>\n",
              "      <td>30</td>\n",
              "      <td>4</td>\n",
              "      <td>0</td>\n",
              "      <td>train</td>\n",
              "      <td>07</td>\n",
              "      <td>0</td>\n",
              "    </tr>\n",
              "    <tr>\n",
              "      <th>3</th>\n",
              "      <td>177</td>\n",
              "      <td>130</td>\n",
              "      <td>1</td>\n",
              "      <td>4.482076</td>\n",
              "      <td>50.896456</td>\n",
              "      <td>171.020231</td>\n",
              "      <td>1</td>\n",
              "      <td>4.360846</td>\n",
              "      <td>50.859663</td>\n",
              "      <td>640.265896</td>\n",
              "      <td>2016</td>\n",
              "      <td>30</td>\n",
              "      <td>4</td>\n",
              "      <td>0</td>\n",
              "      <td>train</td>\n",
              "      <td>07</td>\n",
              "      <td>0</td>\n",
              "    </tr>\n",
              "    <tr>\n",
              "      <th>4</th>\n",
              "      <td>544</td>\n",
              "      <td>147</td>\n",
              "      <td>1</td>\n",
              "      <td>3.710675</td>\n",
              "      <td>51.035896</td>\n",
              "      <td>309.014451</td>\n",
              "      <td>1</td>\n",
              "      <td>4.356801</td>\n",
              "      <td>50.845658</td>\n",
              "      <td>634.164740</td>\n",
              "      <td>2016</td>\n",
              "      <td>30</td>\n",
              "      <td>4</td>\n",
              "      <td>0</td>\n",
              "      <td>train</td>\n",
              "      <td>07</td>\n",
              "      <td>20</td>\n",
              "    </tr>\n",
              "  </tbody>\n",
              "</table>\n",
              "</div>"
            ],
            "text/plain": [
              "   source_name  destination_name  ...  current_month  hours_of_the_time\n",
              "0          130               214  ...             07                 11\n",
              "1          248               248  ...             07                  0\n",
              "2          248               147  ...             07                  0\n",
              "3          177               130  ...             07                  0\n",
              "4          544               147  ...             07                 20\n",
              "\n",
              "[5 rows x 17 columns]"
            ]
          },
          "metadata": {
            "tags": []
          },
          "execution_count": 96
        }
      ]
    },
    {
      "cell_type": "code",
      "metadata": {
        "id": "_YtSlObEZExw",
        "colab_type": "code",
        "colab": {}
      },
      "source": [
        "#we are commentig this beacuse we have joined the (target)\n",
        "#column because of eda to the datset\n",
        "\n",
        "#train[\"target\"]=target\n",
        "#train[\"target\"]=train[\"target\"].map({'low':0,'high':2,'medium':1})\n",
        "\n"
      ],
      "execution_count": 0,
      "outputs": []
    },
    {
      "cell_type": "code",
      "metadata": {
        "id": "TTmYYwGrdlmZ",
        "colab_type": "code",
        "colab": {}
      },
      "source": [
        "#sns.pairplot(train)"
      ],
      "execution_count": 0,
      "outputs": []
    },
    {
      "cell_type": "code",
      "metadata": {
        "id": "X3rko8ocfZk_",
        "colab_type": "code",
        "colab": {}
      },
      "source": [
        "# hours_of_the time vs target \n",
        "#plt.figure(figsize=(10,8))\n",
        "#sns.scatterplot(y=train[\"hours_of_the_time\"],x=train[\"is_weekend\"],hue=train[\"target\"])\n",
        "#plt.xlabel(\"weekends\")\n",
        "#plt.ylabel(\"hours in a day\")\n",
        "#plt.title(\"Hours in a day vs Weekoffs load \")\n",
        "#as we can clearly see that on the working days the volumns is high at the time where people go to office andgo to home\n",
        "#and on weekoffs the traffic is high in the morning and at afternoon\n",
        "#there might be several reasons on the weekoff(Maybe the people are going to their native town or shopping)"
      ],
      "execution_count": 0,
      "outputs": []
    },
    {
      "cell_type": "code",
      "metadata": {
        "id": "NC9BsYkD0IW8",
        "colab_type": "code",
        "colab": {}
      },
      "source": [
        "#target vs destination name\n",
        "\n",
        "#plt.figure(figsize=(9,6))\n",
        "#sns.lineplot(y=train[\"target\"], x=train['destination_name'])\n",
        "#plt.xlabel(\"station location code\")\n",
        "#plt.ylabel(\"target in 0(low) ,1(medium),2(high)\")\n",
        "#plt.title(\"destination station name vs the volume\")\n",
        "#by this graph we can clearly see that as the stations are increasing the population volume is getting low\n",
        "#this means that there are less number of people who atre commuting from very far places as compares to nearby places\n"
      ],
      "execution_count": 0,
      "outputs": []
    },
    {
      "cell_type": "code",
      "metadata": {
        "id": "rpqIhBWg3GS4",
        "colab_type": "code",
        "colab": {}
      },
      "source": [
        "#hours_of_the_time vs  mean_halt_source\n",
        "#plt.figure(figsize=(6,6))\n",
        "#sns.lineplot(x=train[\"hours_of_the_time\"],y=train[\"mean_halt_times_source\"])\n",
        "\n",
        "#plt.xlabel(\"time in the day in 24 hours\")\n",
        "#plt.ylabel(\"Number of halt times\")\n",
        "#plt.title(\"Times the train halted on the day from 00:00-23:59:59\")\n",
        "#as we can see tthat the train halted nearly 13:00-17:00 the most\n",
        "#it means the traffic would be the most at this time\n"
      ],
      "execution_count": 0,
      "outputs": []
    },
    {
      "cell_type": "code",
      "metadata": {
        "id": "tau5aVHAGcy8",
        "colab_type": "code",
        "colab": {}
      },
      "source": [
        "#latitude source to latitude destination vs volume of the traffic\n",
        "#plt.figure(figsize=(6,6))\n",
        "#sns.lineplot(x=train[\"latitude_source\"],y=train[\"latitude_destination\"],hue=train[\"target\"])\n",
        "#we can clearly see that the major high volume between(50.25 to 51.25 latitude)\n",
        "#we can clearly see that the normal volume between(49.75 to 51.50 latitude)\n",
        "#we can clearly see that the normal volume between(49.75 to 51.50 latitude)\n",
        "\n",
        "\n"
      ],
      "execution_count": 0,
      "outputs": []
    },
    {
      "cell_type": "code",
      "metadata": {
        "id": "m6WTa3T8JEAA",
        "colab_type": "code",
        "colab": {}
      },
      "source": [
        "#latitude source to latitude destination vs volume of the traffic\n",
        "#plt.figure(figsize=(6,6))\n",
        "#sns.lineplot(x=train[\"longitude_source\"],y=train[\"longitude_destination\"],hue=train[\"target\"])\n",
        "#we can clearly see that the major high volume between(3 to 6 longitude)\n",
        "#we can clearly see that the normal volume between(0 to 6 longitude)\n",
        "#we can clearly see that the normal volume between(49.75 to 51.50 latitude)"
      ],
      "execution_count": 0,
      "outputs": []
    },
    {
      "cell_type": "code",
      "metadata": {
        "id": "egJ4URjfKaul",
        "colab_type": "code",
        "colab": {}
      },
      "source": [
        "#current_month vs the traffic vs week\n",
        "#plt.figure(figsize=(6,6))\n",
        "#sns.lineplot(train[\"mean_halt_times_source\"],train[\"mean_halt_times_destination\"],hue=train[\"target\"])\n",
        "#mean_halt times source and destination is alot\n",
        "#this means there are alot of persons who prefer the train destination alot"
      ],
      "execution_count": 0,
      "outputs": []
    },
    {
      "cell_type": "code",
      "metadata": {
        "id": "CY_4LGnBMHaf",
        "colab_type": "code",
        "colab": {}
      },
      "source": [
        "#sns.kdeplot(train[\"current_month\"])\n",
        "# the frequesncy of september is more than in other months\n"
      ],
      "execution_count": 0,
      "outputs": []
    },
    {
      "cell_type": "code",
      "metadata": {
        "id": "mXttYVVyMtLn",
        "colab_type": "code",
        "colab": {}
      },
      "source": [
        "#sns.lineplot(train[\"current_month\"],train[\"mean_halt_times_source\"])\n",
        "#sns.lineplot(train[\"current_month\"],train[\"mean_halt_times_destination\"])\n",
        "#plt.ylabel(\"mean halt time source and destination\")\n",
        "\n",
        "#we can clearly see that mean halt time is less both for source and destination in august(08) and maximum in july(07) "
      ],
      "execution_count": 0,
      "outputs": []
    },
    {
      "cell_type": "code",
      "metadata": {
        "id": "yqBbCbHsQQPC",
        "colab_type": "code",
        "colab": {}
      },
      "source": [
        "#destination name vs target\n",
        "#sns.lineplot(y=train[\"destination_name\"],x=train[\"target\"],hue=train[\"is_weekend\"])"
      ],
      "execution_count": 0,
      "outputs": []
    },
    {
      "cell_type": "code",
      "metadata": {
        "id": "kTc1oqyuRu0y",
        "colab_type": "code",
        "colab": {}
      },
      "source": [
        "#train.drop([\"current_year\"],axis=1,inplace=True)\n",
        "#test.drop([\"current_year\"],axis=1,inplace=True)"
      ],
      "execution_count": 0,
      "outputs": []
    },
    {
      "cell_type": "code",
      "metadata": {
        "id": "BPfKANLUOau1",
        "colab_type": "code",
        "colab": {}
      },
      "source": [
        "#function to get variable importances\n",
        "def plot_graph(a):\n",
        "    plt.figure(figsize=(10,10))\n",
        "    chart=sns.barplot(x=a[\"name_of_column\"],y=a[\"feature_importance\"])\n",
        "    chart.set_xticklabels(chart.get_xticklabels(), rotation=45)\n",
        "def feature_importance_plot_rev(dataframe,classifier,limit_of_the_importance):\n",
        "    x=list(zip(dataframe.columns,classifier.feature_importances_))\n",
        "    xx=pd.DataFrame(x)\n",
        "    xx.columns=[\"name_of_column\",\"feature_importance\"]\n",
        "    xx=xx.sort_values(\"feature_importance\",ascending=False)\n",
        "    xx=xx[xx[\"feature_importance\"]>limit_of_the_importance]\n",
        "    plot_graph(xx)\n",
        "    return xx"
      ],
      "execution_count": 0,
      "outputs": []
    },
    {
      "cell_type": "code",
      "metadata": {
        "id": "pNMWIrmgU58A",
        "colab_type": "code",
        "colab": {
          "base_uri": "https://localhost:8080/",
          "height": 184
        },
        "outputId": "f816d9c8-7d2f-4904-c7c1-1c8fbe7368d2"
      },
      "source": [
        "#training a model for getting the important features\n",
        "from sklearn.ensemble import RandomForestClassifier\n",
        "from sklearn.tree import DecisionTreeClassifier\n",
        "\n",
        "#defining the classifier for feature importance\n",
        "rfc=RandomForestClassifier()\n",
        "dtc=DecisionTreeClassifier()\n",
        "\n",
        "#saperating the train and test data\n",
        "#X_train=train.drop([\"target\"],axis=1)\n",
        "#Y_train=train[\"target\"]\n",
        "\n",
        "#fitting our model for variable importance\n",
        "rfc.fit(train,Y_train)\n",
        "dtc.fit(train,Y_train)"
      ],
      "execution_count": 105,
      "outputs": [
        {
          "output_type": "stream",
          "text": [
            "/usr/local/lib/python3.6/dist-packages/sklearn/ensemble/forest.py:245: FutureWarning: The default value of n_estimators will change from 10 in version 0.20 to 100 in 0.22.\n",
            "  \"10 in version 0.20 to 100 in 0.22.\", FutureWarning)\n"
          ],
          "name": "stderr"
        },
        {
          "output_type": "execute_result",
          "data": {
            "text/plain": [
              "DecisionTreeClassifier(class_weight=None, criterion='gini', max_depth=None,\n",
              "                       max_features=None, max_leaf_nodes=None,\n",
              "                       min_impurity_decrease=0.0, min_impurity_split=None,\n",
              "                       min_samples_leaf=1, min_samples_split=2,\n",
              "                       min_weight_fraction_leaf=0.0, presort=False,\n",
              "                       random_state=None, splitter='best')"
            ]
          },
          "metadata": {
            "tags": []
          },
          "execution_count": 105
        }
      ]
    },
    {
      "cell_type": "code",
      "metadata": {
        "id": "EBDi5A21Vpb0",
        "colab_type": "code",
        "colab": {
          "base_uri": "https://localhost:8080/",
          "height": 728
        },
        "outputId": "6285a7d5-3801-4172-e5b4-5dd97fba2008"
      },
      "source": [
        "#getting the feature importance from random Forests classifier\n",
        "variable_importance_df=feature_importance_plot_rev(train,dtc,0)\n"
      ],
      "execution_count": 106,
      "outputs": [
        {
          "output_type": "display_data",
          "data": {
            "image/png": "[encoded data removed]",
            "text/plain": [
              "<Figure size 720x720 with 1 Axes>"
            ]
          },
          "metadata": {
            "tags": []
          }
        }
      ]
    },
    {
      "cell_type": "code",
      "metadata": {
        "id": "0Mk1D8lXYlRn",
        "colab_type": "code",
        "colab": {}
      },
      "source": [
        "list1=list(variable_importance_df[\"name_of_column\"])"
      ],
      "execution_count": 0,
      "outputs": []
    },
    {
      "cell_type": "code",
      "metadata": {
        "id": "bMAPVs_GU2y2",
        "colab_type": "code",
        "colab": {}
      },
      "source": [
        "#getting the feature importance from random Forests classifier\n",
        "#feature_importance_plot_rev(X_train,rfc,0)\n",
        "#commeting this beacuse the feture importance is same for both of them"
      ],
      "execution_count": 0,
      "outputs": []
    },
    {
      "cell_type": "code",
      "metadata": {
        "id": "Hu4J8TBlb3F5",
        "colab_type": "code",
        "colab": {}
      },
      "source": [
        "#getting the most important function \n",
        "df_important_features=pd.DataFrame()\n",
        "\n",
        "\n",
        "for i in list1:  \n",
        "  df_important_features=pd.concat((df_important_features,train[i]),axis=1)\n",
        "\n"
      ],
      "execution_count": 0,
      "outputs": []
    },
    {
      "cell_type": "code",
      "metadata": {
        "id": "khGBlqfcfQe0",
        "colab_type": "code",
        "colab": {}
      },
      "source": [
        "df_important_features_test=pd.DataFrame()\n",
        "for i in list1:  \n",
        "  df_important_features_test=pd.concat((df_important_features_test,test[i]),axis=1)\n"
      ],
      "execution_count": 0,
      "outputs": []
    },
    {
      "cell_type": "code",
      "metadata": {
        "id": "Oo8Os1qCfa3o",
        "colab_type": "code",
        "colab": {}
      },
      "source": [
        "#df_important_features_test=ss.fit_transform(df_important_features_test).\n",
        "#df_important_features=ss.fit_transform(df_important_features)"
      ],
      "execution_count": 0,
      "outputs": []
    },
    {
      "cell_type": "code",
      "metadata": {
        "id": "40x-qZScXL-D",
        "colab_type": "code",
        "colab": {}
      },
      "source": [
        "#resource expensive cell\n",
        "#g = sns.PairGrid(df_important_features)\n",
        "#g.map_upper(plt.scatter)\n",
        "#.map_lower(sns.violinplot)\n",
        "#g.map_diag(sns.kdeplot, lw=3, legend=False);\n"
      ],
      "execution_count": 0,
      "outputs": []
    },
    {
      "cell_type": "code",
      "metadata": {
        "id": "dQ2oxiJ6fzzQ",
        "colab_type": "code",
        "colab": {}
      },
      "source": [
        "#now we will visualize whether we should go with th simple model or we should proceed with the complicated model\n",
        "#temp=pd.concat((df_important_features,Y_train),axis=1)\n",
        "#temp.head(5)\n",
        "#from sklearn.decomposition import PCA\n",
        "#pca=PCA(2)\n",
        "#pca_fitted_transformed=pca.fit_transform(df_important_features)\n"
      ],
      "execution_count": 0,
      "outputs": []
    },
    {
      "cell_type": "code",
      "metadata": {
        "id": "2n8c9n_FkvGj",
        "colab_type": "code",
        "colab": {}
      },
      "source": [
        "#visualizing pca\n",
        "#principalDf = pd.DataFrame(data = pca_fitted_transformed\n",
        " #            , columns = ['principal component 1', 'principal component 2'])\n",
        "#finalDf = pd.concat([principalDf,Y_train], axis = 1)\n",
        "#plt.figure(figsize=(8,8))\n",
        "#sns.scatterplot(x=finalDf['principal component 1'], y=finalDf['principal component 2'],hue=finalDf['target'])\n",
        "#plt.legend([\"low\",\"medium\",\"high\"])\n",
        "#plt.show()"
      ],
      "execution_count": 0,
      "outputs": []
    },
    {
      "cell_type": "code",
      "metadata": {
        "id": "Z0kxA0wixAKK",
        "colab_type": "code",
        "colab": {}
      },
      "source": [
        "from sklearn.linear_model import LogisticRegression,SGDClassifier\n",
        "from sklearn.neural_network import MLPClassifier\n",
        "from sklearn.neighbors import KNeighborsClassifier\n",
        "from sklearn.model_selection import learning_curve,cross_val_score,GridSearchCV,RandomizedSearchCV,KFold,StratifiedKFold,train_test_split\n",
        "from sklearn.svm import SVC\n",
        "from sklearn.ensemble import ExtraTreesClassifier,GradientBoostingClassifier,AdaBoostClassifier\n",
        "from sklearn.discriminant_analysis import LinearDiscriminantAnalysis\n",
        "\n"
      ],
      "execution_count": 0,
      "outputs": []
    },
    {
      "cell_type": "code",
      "metadata": {
        "id": "M9CMDV8JyMJr",
        "colab_type": "code",
        "colab": {}
      },
      "source": [
        "\n",
        "#lets go with the modelling process now\n",
        "etc=ExtraTreesClassifier(class_weight='balanced')\n",
        "dtc=DecisionTreeClassifier(class_weight='balanced')\n",
        "rfc=RandomForestClassifier(class_weight='balanced')\n",
        "gbc=GradientBoostingClassifier()\n",
        "abc=AdaBoostClassifier(ExtraTreesClassifier(class_weight='balanced'))\n"
      ],
      "execution_count": 0,
      "outputs": []
    },
    {
      "cell_type": "code",
      "metadata": {
        "id": "NifvddsWynzQ",
        "colab_type": "code",
        "colab": {}
      },
      "source": [
        "seed=77\n",
        "#splittig the normal data into train and validation\n",
        "train_x,val_x,train_y,val_y=train_test_split(train,Y_train,test_size=.30,random_state=seed)"
      ],
      "execution_count": 0,
      "outputs": []
    },
    {
      "cell_type": "code",
      "metadata": {
        "id": "TiMr8-4sLVfq",
        "colab_type": "code",
        "colab": {}
      },
      "source": [
        "\n",
        "#lets go with the modelling process now\n",
        "etc=ExtraTreesClassifier(class_weight='balanced')\n",
        "dtc=DecisionTreeClassifier(class_weight='balanced')\n",
        "rfc=RandomForestClassifier(class_weight='balanced')\n",
        "gbc=GradientBoostingClassifier()\n",
        "abc=AdaBoostClassifier(ExtraTreesClassifier(class_weight='balanced'))\n",
        "lr=LogisticRegression(class_weight='balanced')"
      ],
      "execution_count": 0,
      "outputs": []
    },
    {
      "cell_type": "markdown",
      "metadata": {
        "id": "pix2YTAXZxTt",
        "colab_type": "text"
      },
      "source": [
        "**HYPER PARAMETER TUNING OF MODELS**"
      ]
    },
    {
      "cell_type": "markdown",
      "metadata": {
        "id": "3jAXs0iNZ9WK",
        "colab_type": "text"
      },
      "source": [
        "**FOR LINEAR REGRESSION**"
      ]
    },
    {
      "cell_type": "code",
      "metadata": {
        "id": "vG2OiBdnAtmO",
        "colab_type": "code",
        "colab": {}
      },
      "source": [
        "#SPLITTING THE MOST IMPORTNT FEATURES INTO TRAIN AND VAL\n",
        "seed=77\n",
        "#splittig the normal data into train and validation\n",
        "train_x,val_x,train_y,val_y=train_test_split(train,Y_train,test_size=.30,random_state=seed)"
      ],
      "execution_count": 0,
      "outputs": []
    },
    {
      "cell_type": "code",
      "metadata": {
        "id": "qCcJy3KIK-wW",
        "colab_type": "code",
        "colab": {
          "base_uri": "https://localhost:8080/",
          "height": 202
        },
        "outputId": "fc8bdac1-d418-4830-a6d9-1e495b03407f"
      },
      "source": [
        "#step1:\n",
        "lr=LogisticRegression(class_weight='balanced',C=1.0)\n",
        "#step2:defining the grid\n",
        "#trying hyper parameter tuning for lr\n",
        "param_lr={\n",
        "    'penalty':['l2','l1'],\n",
        "    'max_iter':[100,250,550,1000,5000,10000],\n",
        "    'solver':['liblinear']\n",
        "    }\n",
        "#step3:kfold\n",
        "kfold=KFold(n_splits=10,shuffle=True,random_state=7)\n",
        "\n",
        "#step4:making grid search for the parameters\n",
        "grid=GridSearchCV(lr,param_grid=param_lr,cv=kfold,n_jobs=-1)\n",
        "\n",
        "#step5:fitting on the data\n",
        "grid.fit(train,Y_train)\n",
        "\n",
        "#step6:getting the best parameters\n",
        "grid.best_estimator_,grid.best_score_,grid.best_params_\n",
        "\n",
        "#step7:manually defining and deciding to chosse from the best params"
      ],
      "execution_count": 183,
      "outputs": [
        {
          "output_type": "stream",
          "text": [
            "/usr/local/lib/python3.6/dist-packages/sklearn/linear_model/logistic.py:469: FutureWarning: Default multi_class will be changed to 'auto' in 0.22. Specify the multi_class option to silence this warning.\n",
            "  \"this warning.\", FutureWarning)\n"
          ],
          "name": "stderr"
        },
        {
          "output_type": "execute_result",
          "data": {
            "text/plain": [
              "(LogisticRegression(C=1.0, class_weight='balanced', dual=False,\n",
              "                    fit_intercept=True, intercept_scaling=1, l1_ratio=None,\n",
              "                    max_iter=100, multi_class='warn', n_jobs=None, penalty='l2',\n",
              "                    random_state=None, solver='liblinear', tol=0.0001, verbose=0,\n",
              "                    warm_start=False),\n",
              " 0.49160671462829736,\n",
              " {'max_iter': 100, 'penalty': 'l2', 'solver': 'liblinear'})"
            ]
          },
          "metadata": {
            "tags": []
          },
          "execution_count": 183
        }
      ]
    },
    {
      "cell_type": "code",
      "metadata": {
        "id": "5coIvgxiaC-m",
        "colab_type": "code",
        "colab": {
          "base_uri": "https://localhost:8080/",
          "height": 166
        },
        "outputId": "2a556ffb-599a-48da-fac6-666f0bdce4a4"
      },
      "source": [
        "lr=LogisticRegression(C=1.0, class_weight='balanced', dual=False,\n",
        "                    fit_intercept=True, intercept_scaling=1, l1_ratio=None,\n",
        "                    max_iter=100, multi_class='warn', n_jobs=None, penalty='l2',\n",
        "                    random_state=None, solver='liblinear', tol=0.0001, verbose=0,\n",
        "                    warm_start=False)\n",
        "\n",
        "lr.fit(train,Y_train)\n",
        "predicted_final=lr.predict(test)\n",
        "\n",
        "id_code=list(id_code)\n",
        "predicted_final=list(predicted_final)\n",
        "submit_lr=pd.DataFrame(list(zip(id_code,predicted_final)),columns=[\"id_code\",\"target\"])\n",
        "submit_lr.target[submit_lr.target==0]='low'\n",
        "submit_lr.target[submit_lr.target==1]='medium'\n",
        "submit_lr.target[submit_lr.target==2]='high'\n",
        "submit_lr.to_csv(\"submit_lr_ht.csv\",index=False)\n"
      ],
      "execution_count": 188,
      "outputs": [
        {
          "output_type": "stream",
          "text": [
            "/usr/local/lib/python3.6/dist-packages/sklearn/linear_model/logistic.py:469: FutureWarning: Default multi_class will be changed to 'auto' in 0.22. Specify the multi_class option to silence this warning.\n",
            "  \"this warning.\", FutureWarning)\n",
            "/usr/local/lib/python3.6/dist-packages/ipykernel_launcher.py:13: SettingWithCopyWarning: \n",
            "A value is trying to be set on a copy of a slice from a DataFrame\n",
            "\n",
            "See the caveats in the documentation: http://pandas.pydata.org/pandas-docs/stable/user_guide/indexing.html#returning-a-view-versus-a-copy\n",
            "  del sys.path[0]\n"
          ],
          "name": "stderr"
        }
      ]
    },
    {
      "cell_type": "code",
      "metadata": {
        "id": "JUnyopuEdSOk",
        "colab_type": "code",
        "colab": {}
      },
      "source": [
        "#checking the learning curve\n",
        "def plot_learning_curve(estimator, title, X, y, ylim=None, cv=None,\n",
        "                        n_jobs=-1, train_sizes=np.linspace(.1, 1.0, 5)):\n",
        "    \"\"\"Generate a simple plot of the test and training learning curve\"\"\"\n",
        "    plt.figure()\n",
        "    plt.title(title)\n",
        "    if ylim is not None:\n",
        "        plt.ylim(*ylim)\n",
        "    plt.xlabel(\"Training examples\")\n",
        "    plt.ylabel(\"Score\")\n",
        "    train_sizes, train_scores, test_scores = learning_curve(\n",
        "        estimator, X, y, cv=cv, n_jobs=n_jobs, train_sizes=train_sizes)\n",
        "    train_scores_mean = np.mean(train_scores, axis=1)\n",
        "    train_scores_std = np.std(train_scores, axis=1)\n",
        "    test_scores_mean = np.mean(test_scores, axis=1)\n",
        "    test_scores_std = np.std(test_scores, axis=1)\n",
        "    plt.grid()\n",
        "\n",
        "    plt.fill_between(train_sizes, train_scores_mean - train_scores_std,\n",
        "                     train_scores_mean + train_scores_std, alpha=0.1,\n",
        "                     color=\"r\")\n",
        "    plt.fill_between(train_sizes, test_scores_mean - test_scores_std,\n",
        "                     test_scores_mean + test_scores_std, alpha=0.1, color=\"g\")\n",
        "    plt.plot(train_sizes, train_scores_mean, 'o-', color=\"r\",\n",
        "             label=\"Training score\")\n",
        "    plt.plot(train_sizes, test_scores_mean, 'o-', color=\"g\",\n",
        "             label=\"Cross-validation score\")\n",
        "\n",
        "    plt.legend(loc=\"best\")\n",
        "    return plt"
      ],
      "execution_count": 0,
      "outputs": []
    },
    {
      "cell_type": "code",
      "metadata": {
        "id": "JUyilPDCdZ5R",
        "colab_type": "code",
        "colab": {
          "base_uri": "https://localhost:8080/",
          "height": 295
        },
        "outputId": "11f43f74-c78d-40d0-f35b-8ffbd880b09f"
      },
      "source": [
        "p=plot_learning_curve(grid.best_estimator_,\"Logistic regression\",train,Y_train,cv=10)"
      ],
      "execution_count": 186,
      "outputs": [
        {
          "output_type": "display_data",
          "data": {
            "image/png": "[encoded data removed]",
            "text/plain": [
              "<Figure size 432x288 with 1 Axes>"
            ]
          },
          "metadata": {
            "tags": []
          }
        }
      ]
    },
    {
      "cell_type": "markdown",
      "metadata": {
        "id": "UhhtnHZ0gQZh",
        "colab_type": "text"
      },
      "source": [
        "**EXTRATREES CLASSIFIER**\n"
      ]
    },
    {
      "cell_type": "code",
      "metadata": {
        "id": "6YGF7mJ-aC5u",
        "colab_type": "code",
        "colab": {
          "base_uri": "https://localhost:8080/",
          "height": 441
        },
        "outputId": "8b4d9e5d-0d52-4d7f-e674-b714083b2ed4"
      },
      "source": [
        "#step1:\n",
        "etc=ExtraTreesClassifier(class_weight='balanced')\n",
        "#step2:defining the grid\n",
        "#trying hyper parameter tuning for lr\n",
        "param_etc={\n",
        "    'max_depth':[2,3,4,5],\n",
        "    'max_features':['auto',5,10,15],\n",
        "    'max_leaf_nodes':[2,4,3],\n",
        "    'min_samples_leaf':range(10,30,5),\n",
        "     'n_estimators':[10,5,20]\n",
        "     \n",
        "    }\n",
        "#step3:kfold\n",
        "kfold=KFold(n_splits=10,shuffle=True,random_state=7)\n",
        "\n",
        "#step4:making grid search for the parameters\n",
        "grid=GridSearchCV(etc,param_grid=param_etc,cv=kfold,n_jobs=-1,verbose=2)\n",
        "\n",
        "#step5:fitting on the data\n",
        "grid.fit(train,Y_train)\n",
        "\n",
        "#step6:getting the best parameters\n",
        "grid.best_estimator_,grid.best_score_,grid.best_params_\n",
        "\n",
        "#step7:manually defining and deciding to chosse from the best params"
      ],
      "execution_count": 45,
      "outputs": [
        {
          "output_type": "stream",
          "text": [
            "Fitting 10 folds for each of 576 candidates, totalling 5760 fits\n"
          ],
          "name": "stdout"
        },
        {
          "output_type": "stream",
          "text": [
            "[Parallel(n_jobs=-1)]: Using backend LokyBackend with 2 concurrent workers.\n",
            "[Parallel(n_jobs=-1)]: Done  86 tasks      | elapsed:    2.8s\n",
            "[Parallel(n_jobs=-1)]: Done 570 tasks      | elapsed:   10.0s\n",
            "[Parallel(n_jobs=-1)]: Done 1382 tasks      | elapsed:   22.6s\n",
            "[Parallel(n_jobs=-1)]: Done 2514 tasks      | elapsed:   39.9s\n",
            "[Parallel(n_jobs=-1)]: Done 3974 tasks      | elapsed:  1.0min\n",
            "[Parallel(n_jobs=-1)]: Done 5751 tasks      | elapsed:  1.5min\n",
            "[Parallel(n_jobs=-1)]: Done 5760 out of 5760 | elapsed:  1.5min finished\n"
          ],
          "name": "stderr"
        },
        {
          "output_type": "execute_result",
          "data": {
            "text/plain": [
              "(ExtraTreesClassifier(bootstrap=False, class_weight='balanced', criterion='gini',\n",
              "                      max_depth=2, max_features='auto', max_leaf_nodes=4,\n",
              "                      min_impurity_decrease=0.0, min_impurity_split=None,\n",
              "                      min_samples_leaf=20, min_samples_split=2,\n",
              "                      min_weight_fraction_leaf=0.0, n_estimators=5, n_jobs=None,\n",
              "                      oob_score=False, random_state=None, verbose=0,\n",
              "                      warm_start=False),\n",
              " 0.460431654676259,\n",
              " {'max_depth': 2,\n",
              "  'max_features': 'auto',\n",
              "  'max_leaf_nodes': 4,\n",
              "  'min_samples_leaf': 20,\n",
              "  'n_estimators': 5})"
            ]
          },
          "metadata": {
            "tags": []
          },
          "execution_count": 45
        }
      ]
    },
    {
      "cell_type": "code",
      "metadata": {
        "id": "YqfFy6XOsEaj",
        "colab_type": "code",
        "colab": {
          "base_uri": "https://localhost:8080/",
          "height": 129
        },
        "outputId": "841191c4-8f34-46b8-b605-34d3cbf89155"
      },
      "source": [
        "etc=ExtraTreesClassifier(bootstrap=False, class_weight='balanced', criterion='gini',\n",
        "                      max_depth=None, max_features=10, max_leaf_nodes=None,\n",
        "                      min_impurity_decrease=0.0, min_impurity_split=None,\n",
        "                      min_samples_leaf=20, min_samples_split=12,\n",
        "                      min_weight_fraction_leaf=0.0, n_estimators=20, n_jobs=None,\n",
        "                      oob_score=False, random_state=None, verbose=0,\n",
        "                      warm_start=False)\n",
        "\n",
        "etc.fit(train,Y_train)\n",
        "predicted_final=etc.predict(test)\n",
        "\n",
        "id_code=list(id_code)\n",
        "predicted_final=list(predicted_final)\n",
        "submit_lr=pd.DataFrame(list(zip(id_code,predicted_final)),columns=[\"id_code\",\"target\"])\n",
        "submit_lr.target[submit_lr.target==0]='low'\n",
        "submit_lr.target[submit_lr.target==1]='medium'\n",
        "submit_lr.target[submit_lr.target==2]='high'\n",
        "submit_lr.to_csv(\"submit_etc_ht.csv\",index=False)\n"
      ],
      "execution_count": 55,
      "outputs": [
        {
          "output_type": "stream",
          "text": [
            "/usr/local/lib/python3.6/dist-packages/ipykernel_launcher.py:15: SettingWithCopyWarning: \n",
            "A value is trying to be set on a copy of a slice from a DataFrame\n",
            "\n",
            "See the caveats in the documentation: http://pandas.pydata.org/pandas-docs/stable/user_guide/indexing.html#returning-a-view-versus-a-copy\n",
            "  from ipykernel import kernelapp as app\n"
          ],
          "name": "stderr"
        }
      ]
    },
    {
      "cell_type": "code",
      "metadata": {
        "id": "2emJNB2TrMij",
        "colab_type": "code",
        "colab": {
          "base_uri": "https://localhost:8080/",
          "height": 295
        },
        "outputId": "e0e05aa4-07e3-4a25-8a06-0610e69808d7"
      },
      "source": [
        "p=plot_learning_curve(grid.best_estimator_,\"Extratrees classifier\",train,Y_train,cv=10)"
      ],
      "execution_count": 46,
      "outputs": [
        {
          "output_type": "display_data",
          "data": {
            "image/png": "[encoded data removed]",
            "text/plain": [
              "<Figure size 432x288 with 1 Axes>"
            ]
          },
          "metadata": {
            "tags": []
          }
        }
      ]
    },
    {
      "cell_type": "markdown",
      "metadata": {
        "id": "HG72TBCRrE69",
        "colab_type": "text"
      },
      "source": [
        "**RANDOMFOREST HYPERTUNING**\n"
      ]
    },
    {
      "cell_type": "code",
      "metadata": {
        "id": "W55Eb1mRv2MV",
        "colab_type": "code",
        "colab": {
          "base_uri": "https://localhost:8080/",
          "height": 202
        },
        "outputId": "117783a7-c3e0-4237-a6e5-f733f66fda48"
      },
      "source": [
        "rfc=RandomForestClassifier(class_weight='balanced')\n",
        "rfc.fit(train_x,train_y)"
      ],
      "execution_count": 56,
      "outputs": [
        {
          "output_type": "stream",
          "text": [
            "/usr/local/lib/python3.6/dist-packages/sklearn/ensemble/forest.py:245: FutureWarning: The default value of n_estimators will change from 10 in version 0.20 to 100 in 0.22.\n",
            "  \"10 in version 0.20 to 100 in 0.22.\", FutureWarning)\n"
          ],
          "name": "stderr"
        },
        {
          "output_type": "execute_result",
          "data": {
            "text/plain": [
              "RandomForestClassifier(bootstrap=True, class_weight='balanced',\n",
              "                       criterion='gini', max_depth=None, max_features='auto',\n",
              "                       max_leaf_nodes=None, min_impurity_decrease=0.0,\n",
              "                       min_impurity_split=None, min_samples_leaf=1,\n",
              "                       min_samples_split=2, min_weight_fraction_leaf=0.0,\n",
              "                       n_estimators=10, n_jobs=None, oob_score=False,\n",
              "                       random_state=None, verbose=0, warm_start=False)"
            ]
          },
          "metadata": {
            "tags": []
          },
          "execution_count": 56
        }
      ]
    },
    {
      "cell_type": "code",
      "metadata": {
        "id": "4k4FsC1ujZJp",
        "colab_type": "code",
        "colab": {
          "base_uri": "https://localhost:8080/",
          "height": 808
        },
        "outputId": "9b60798a-7443-4bf2-cbb1-f0fd11553da0"
      },
      "source": [
        "#step1:\n",
        "rfc=RandomForestClassifier(class_weight='balanced')\n",
        "#step2:defining the grid\n",
        "#trying hyper parameter tuning for lr\n",
        "param_rfc={\n",
        "    'bootstrap':[False,True],\n",
        "    'criterion':['gini','entropy'],\n",
        "    'max_depth':[None,2,3,4,5],\n",
        "    'max_features':['auto',5,10],\n",
        "    'max_leaf_nodes':[None,2,4,3],\n",
        "    'min_samples_leaf':range(20,50,5),\n",
        "    'min_samples_split': range(2,20,10),\n",
        "     'n_estimators':[10,5,20]\n",
        "     \n",
        "    }\n",
        "#step3:kfold\n",
        "kfold=KFold(n_splits=10,shuffle=True,random_state=7)\n",
        "\n",
        "#step4:making grid search for the parameters\n",
        "grid=GridSearchCV(rfc,param_grid=param_rfc,cv=kfold,n_jobs=-1,verbose=2)\n",
        "\n",
        "#step5:fitting on the data\n",
        "grid.fit(train,Y_train)\n",
        "\n",
        "#step6:getting the best parameters\n",
        "grid.best_estimator_,grid.best_score_,grid.best_params_\n",
        "\n",
        "#step7:manually defining and deciding to chosse from the best params"
      ],
      "execution_count": 58,
      "outputs": [
        {
          "output_type": "stream",
          "text": [
            "Fitting 10 folds for each of 8640 candidates, totalling 86400 fits\n"
          ],
          "name": "stdout"
        },
        {
          "output_type": "stream",
          "text": [
            "[Parallel(n_jobs=-1)]: Using backend LokyBackend with 2 concurrent workers.\n",
            "[Parallel(n_jobs=-1)]: Done  86 tasks      | elapsed:    3.4s\n",
            "[Parallel(n_jobs=-1)]: Done 570 tasks      | elapsed:   12.5s\n",
            "[Parallel(n_jobs=-1)]: Done 1382 tasks      | elapsed:   26.3s\n",
            "[Parallel(n_jobs=-1)]: Done 2514 tasks      | elapsed:   47.9s\n",
            "[Parallel(n_jobs=-1)]: Done 3974 tasks      | elapsed:  1.3min\n",
            "[Parallel(n_jobs=-1)]: Done 5754 tasks      | elapsed:  1.9min\n",
            "[Parallel(n_jobs=-1)]: Done 7862 tasks      | elapsed:  2.5min\n",
            "[Parallel(n_jobs=-1)]: Done 10290 tasks      | elapsed:  3.2min\n",
            "[Parallel(n_jobs=-1)]: Done 13046 tasks      | elapsed:  4.1min\n",
            "[Parallel(n_jobs=-1)]: Done 16122 tasks      | elapsed:  5.0min\n",
            "[Parallel(n_jobs=-1)]: Done 19526 tasks      | elapsed:  6.1min\n",
            "[Parallel(n_jobs=-1)]: Done 23250 tasks      | elapsed:  7.3min\n",
            "[Parallel(n_jobs=-1)]: Done 27302 tasks      | elapsed:  8.8min\n",
            "[Parallel(n_jobs=-1)]: Done 31674 tasks      | elapsed: 10.2min\n",
            "[Parallel(n_jobs=-1)]: Done 36374 tasks      | elapsed: 11.8min\n",
            "[Parallel(n_jobs=-1)]: Done 41394 tasks      | elapsed: 13.5min\n",
            "[Parallel(n_jobs=-1)]: Done 46742 tasks      | elapsed: 15.4min\n",
            "[Parallel(n_jobs=-1)]: Done 52410 tasks      | elapsed: 17.2min\n",
            "[Parallel(n_jobs=-1)]: Done 58406 tasks      | elapsed: 19.1min\n",
            "[Parallel(n_jobs=-1)]: Done 64722 tasks      | elapsed: 21.2min\n",
            "[Parallel(n_jobs=-1)]: Done 71366 tasks      | elapsed: 23.5min\n",
            "[Parallel(n_jobs=-1)]: Done 78330 tasks      | elapsed: 25.9min\n",
            "[Parallel(n_jobs=-1)]: Done 85622 tasks      | elapsed: 28.5min\n",
            "[Parallel(n_jobs=-1)]: Done 86400 out of 86400 | elapsed: 28.8min finished\n"
          ],
          "name": "stderr"
        },
        {
          "output_type": "execute_result",
          "data": {
            "text/plain": [
              "(RandomForestClassifier(bootstrap=False, class_weight='balanced',\n",
              "                        criterion='entropy', max_depth=None, max_features=5,\n",
              "                        max_leaf_nodes=None, min_impurity_decrease=0.0,\n",
              "                        min_impurity_split=None, min_samples_leaf=25,\n",
              "                        min_samples_split=2, min_weight_fraction_leaf=0.0,\n",
              "                        n_estimators=20, n_jobs=None, oob_score=False,\n",
              "                        random_state=None, verbose=0, warm_start=False),\n",
              " 0.5203836930455635,\n",
              " {'bootstrap': False,\n",
              "  'criterion': 'entropy',\n",
              "  'max_depth': None,\n",
              "  'max_features': 5,\n",
              "  'max_leaf_nodes': None,\n",
              "  'min_samples_leaf': 25,\n",
              "  'min_samples_split': 2,\n",
              "  'n_estimators': 20})"
            ]
          },
          "metadata": {
            "tags": []
          },
          "execution_count": 58
        }
      ]
    },
    {
      "cell_type": "code",
      "metadata": {
        "id": "I4mmyJUIaC0P",
        "colab_type": "code",
        "colab": {
          "base_uri": "https://localhost:8080/",
          "height": 129
        },
        "outputId": "62a410e7-813a-40d6-ccd5-e2e763ca8a40"
      },
      "source": [
        "rfc=RandomForestClassifier(bootstrap=False, class_weight='balanced',\n",
        "                        criterion='entropy', max_depth=None, max_features=5,\n",
        "                        max_leaf_nodes=None, min_impurity_decrease=0.0,\n",
        "                        min_impurity_split=None, min_samples_leaf=25,\n",
        "                        min_samples_split=2, min_weight_fraction_leaf=0.0,\n",
        "                        n_estimators=20, n_jobs=None, oob_score=False,\n",
        "                        random_state=None, verbose=0, warm_start=False)\n",
        "\n",
        "rfc.fit(train,Y_train)\n",
        "predicted_final=etc.predict(test)\n",
        "\n",
        "id_code=list(id_code)\n",
        "predicted_final=list(predicted_final)\n",
        "submit_lr=pd.DataFrame(list(zip(id_code,predicted_final)),columns=[\"id_code\",\"target\"])\n",
        "submit_lr.target[submit_lr.target==0]='low'\n",
        "submit_lr.target[submit_lr.target==1]='medium'\n",
        "submit_lr.target[submit_lr.target==2]='high'\n",
        "submit_lr.to_csv(\"submit_rfc_ht.csv\",index=False)"
      ],
      "execution_count": 60,
      "outputs": [
        {
          "output_type": "stream",
          "text": [
            "/usr/local/lib/python3.6/dist-packages/ipykernel_launcher.py:15: SettingWithCopyWarning: \n",
            "A value is trying to be set on a copy of a slice from a DataFrame\n",
            "\n",
            "See the caveats in the documentation: http://pandas.pydata.org/pandas-docs/stable/user_guide/indexing.html#returning-a-view-versus-a-copy\n",
            "  from ipykernel import kernelapp as app\n"
          ],
          "name": "stderr"
        }
      ]
    },
    {
      "cell_type": "markdown",
      "metadata": {
        "id": "oRFhA-9_95JL",
        "colab_type": "text"
      },
      "source": [
        "**ADABOOST WITH ETREES**\n"
      ]
    },
    {
      "cell_type": "code",
      "metadata": {
        "id": "6hPwPQAzaCvs",
        "colab_type": "code",
        "colab": {
          "base_uri": "https://localhost:8080/",
          "height": 368
        },
        "outputId": "d0ca47c9-adc8-4abc-ef7c-620ea770d05d"
      },
      "source": [
        "\n",
        "\n",
        "abc=AdaBoostClassifier(ExtraTreesClassifier(bootstrap=False, class_weight='balanced', criterion='gini',\n",
        "                      max_depth=None, max_features=10, max_leaf_nodes=None,\n",
        "                      min_impurity_decrease=0.0, min_impurity_split=None,\n",
        "                      min_samples_leaf=20, min_samples_split=12,\n",
        "                      min_weight_fraction_leaf=0.0, n_estimators=20, n_jobs=None,\n",
        "                      oob_score=False, random_state=None, verbose=0,\n",
        "                      warm_start=False)\n",
        ")\n",
        "\n",
        "#adaboosting classifier\n",
        "abc.fit(train_x,train_y)\n",
        "predicted=abc.predict(val_x)\n",
        "#predicted_proba=abc.predict_proba(val_x)\n",
        "from sklearn.metrics import confusion_matrix,classification_report,r2_score,auc\n",
        "print(confusion_matrix(predicted,val_y))\n",
        "print(classification_report(predicted,val_y))\n",
        "\n",
        "print(r2_score(predicted,val_y))\n",
        "#now training on the full dataset\n",
        "abc.fit(train,Y_train)\n",
        "predicted_final=abc.predict(test)\n",
        "\n",
        "id_code=list(id_code)\n",
        "predicted_final=list(predicted_final)\n",
        "submit_abc_MI=pd.DataFrame(list(zip(id_code,predicted_final)),columns=[\"id_code\",\"target\"])\n",
        "submit_abc_MI.target[submit_abc_MI.target==0]='low'\n",
        "submit_abc_MI.target[submit_abc_MI.target==1]='medium'\n",
        "submit_abc_MI.target[submit_abc_MI.target==2]='high'\n",
        "submit_abc_MI.to_csv(\"submit_abc_ET_HT.csv\",index=False)\n",
        "\n"
      ],
      "execution_count": 112,
      "outputs": [
        {
          "output_type": "stream",
          "text": [
            "[[115  38  21]\n",
            " [ 25  35  38]\n",
            " [ 25  24  55]]\n",
            "              precision    recall  f1-score   support\n",
            "\n",
            "           0       0.70      0.66      0.68       174\n",
            "           1       0.36      0.36      0.36        98\n",
            "           2       0.48      0.53      0.50       104\n",
            "\n",
            "    accuracy                           0.55       376\n",
            "   macro avg       0.51      0.52      0.51       376\n",
            "weighted avg       0.55      0.55      0.55       376\n",
            "\n",
            "-0.1661781828401656\n"
          ],
          "name": "stdout"
        },
        {
          "output_type": "stream",
          "text": [
            "/usr/local/lib/python3.6/dist-packages/ipykernel_launcher.py:28: SettingWithCopyWarning: \n",
            "A value is trying to be set on a copy of a slice from a DataFrame\n",
            "\n",
            "See the caveats in the documentation: http://pandas.pydata.org/pandas-docs/stable/user_guide/indexing.html#returning-a-view-versus-a-copy\n"
          ],
          "name": "stderr"
        }
      ]
    },
    {
      "cell_type": "markdown",
      "metadata": {
        "id": "pBqDR2_FB-nA",
        "colab_type": "text"
      },
      "source": [
        "**ADABOOST WITH RFC HYPERPARAMETER TUNED**\n"
      ]
    },
    {
      "cell_type": "code",
      "metadata": {
        "id": "s-wInzpEaCqx",
        "colab_type": "code",
        "colab": {
          "base_uri": "https://localhost:8080/",
          "height": 368
        },
        "outputId": "8ee0ad0d-40b9-4f15-d1c8-d19013e58b7e"
      },
      "source": [
        "\n",
        "\n",
        "abc=AdaBoostClassifier(RandomForestClassifier(bootstrap=False, class_weight='balanced',\n",
        "                        criterion='entropy', max_depth=None, max_features=5,\n",
        "                        max_leaf_nodes=None, min_impurity_decrease=0.0,\n",
        "                        min_impurity_split=None, min_samples_leaf=25,\n",
        "                        min_samples_split=2, min_weight_fraction_leaf=0.0,\n",
        "                        n_estimators=20, n_jobs=None, oob_score=False,\n",
        "                        random_state=None, verbose=0, warm_start=False))\n",
        "\n",
        "#adaboosting classifier\n",
        "abc.fit(train_x,train_y)\n",
        "predicted=abc.predict(val_x)\n",
        "#predicted_proba=abc.predict_proba(val_x)\n",
        "from sklearn.metrics import confusion_matrix,classification_report,r2_score,auc\n",
        "print(confusion_matrix(predicted,val_y))\n",
        "print(classification_report(predicted,val_y))\n",
        "\n",
        "print(r2_score(predicted,val_y))\n",
        "#now training on the full dataset\n",
        "abc.fit(train,Y_train)\n",
        "predicted_final=abc.predict(test)\n",
        "\n",
        "id_code=list(id_code)\n",
        "predicted_final=list(predicted_final)\n",
        "submit_abc_MI=pd.DataFrame(list(zip(id_code,predicted_final)),columns=[\"id_code\",\"target\"])\n",
        "submit_abc_MI.target[submit_abc_MI.target==0]='low'\n",
        "submit_abc_MI.target[submit_abc_MI.target==1]='medium'\n",
        "submit_abc_MI.target[submit_abc_MI.target==2]='high'\n",
        "submit_abc_MI.to_csv(\"submit_abc_RF_HT.csv\",index=False)\n",
        "\n"
      ],
      "execution_count": 113,
      "outputs": [
        {
          "output_type": "stream",
          "text": [
            "[[112  35  22]\n",
            " [ 28  38  32]\n",
            " [ 25  24  60]]\n",
            "              precision    recall  f1-score   support\n",
            "\n",
            "           0       0.68      0.66      0.67       169\n",
            "           1       0.39      0.39      0.39        98\n",
            "           2       0.53      0.55      0.54       109\n",
            "\n",
            "    accuracy                           0.56       376\n",
            "   macro avg       0.53      0.53      0.53       376\n",
            "weighted avg       0.56      0.56      0.56       376\n",
            "\n",
            "-0.14370640456563089\n"
          ],
          "name": "stdout"
        },
        {
          "output_type": "stream",
          "text": [
            "/usr/local/lib/python3.6/dist-packages/ipykernel_launcher.py:27: SettingWithCopyWarning: \n",
            "A value is trying to be set on a copy of a slice from a DataFrame\n",
            "\n",
            "See the caveats in the documentation: http://pandas.pydata.org/pandas-docs/stable/user_guide/indexing.html#returning-a-view-versus-a-copy\n"
          ],
          "name": "stderr"
        }
      ]
    }
  ]
}