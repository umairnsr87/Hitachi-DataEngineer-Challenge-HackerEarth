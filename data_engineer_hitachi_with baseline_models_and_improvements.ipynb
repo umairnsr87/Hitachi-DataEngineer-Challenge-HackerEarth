{
  "nbformat": 4,
  "nbformat_minor": 0,
  "metadata": {
    "colab": {
      "name": "data engineer hitachi.ipynb",
      "provenance": [],
      "collapsed_sections": [],
      "include_colab_link": true
    },
    "kernelspec": {
      "name": "python3",
      "display_name": "Python 3"
    }
  },
  "cells": [
    {
      "cell_type": "markdown",
      "metadata": {
        "id": "view-in-github",
        "colab_type": "text"
      },
      "source": [
        "<a href=\"https://colab.research.google.com/github/umairnsr87/Hitachi-DataEngineer-HackerEarth/blob/master/data_engineer_hitachi_with%20baseline_models_and_improvements.ipynb\" target=\"_parent\"><img src=\"https://colab.research.google.com/assets/colab-badge.svg\" alt=\"Open In Colab\"/></a>"
      ]
    },
    {
      "cell_type": "code",
      "metadata": {
        "id": "ypTUpyF3ugZi",
        "colab_type": "code",
        "colab": {}
      },
      "source": [
        "import pandas as pd\n",
        "import seaborn as sns\n",
        "import matplotlib.pyplot as plt\n",
        "import numpy as np"
      ],
      "execution_count": 0,
      "outputs": []
    },
    {
      "cell_type": "code",
      "metadata": {
        "id": "UN46hZQhutpA",
        "colab_type": "code",
        "colab": {}
      },
      "source": [
        "test = pd.read_csv('Test_1.csv')\n",
        "train = pd.read_csv('Train_1.csv')\n"
      ],
      "execution_count": 0,
      "outputs": []
    },
    {
      "cell_type": "code",
      "metadata": {
        "id": "bQtOLK2B9M7W",
        "colab_type": "code",
        "colab": {}
      },
      "source": [
        "axx = pd.read_csv('Test_1.csv')\n",
        "id_code = axx[\"id_code\"]\n",
        "del axx"
      ],
      "execution_count": 0,
      "outputs": []
    },
    {
      "cell_type": "code",
      "metadata": {
        "id": "x4KbYWwYvJZy",
        "colab_type": "code",
        "colab": {}
      },
      "source": [
        "train[\"mean_halt_times_source\"].fillna(640.265896,inplace=True)\n",
        "train[\"latitude_source\"].fillna(50.859663,inplace=True)\n",
        "train[\"longitude_source\"]=train[\"longitude_source\"].fillna(4.360846)\n",
        "train[\"country_code_source\"].fillna(\"whber\",inplace=True)\n",
        "train[\"country_code_destination\"].fillna(\"whber\",inplace=True)\n",
        "train[\"mean_halt_times_destination\"].fillna(164.41907514451,inplace=True)\n",
        "train.dropna(axis=0,how='any',inplace=True)"
      ],
      "execution_count": 0,
      "outputs": []
    },
    {
      "cell_type": "code",
      "metadata": {
        "id": "oRbGwzFzPRYd",
        "colab_type": "code",
        "outputId": "ac6660fc-3725-4d03-9008-df67ed50bbf8",
        "colab": {
          "base_uri": "https://localhost:8080/",
          "height": 384
        }
      },
      "source": [
        "train.isna().sum()"
      ],
      "execution_count": 285,
      "outputs": [
        {
          "output_type": "execute_result",
          "data": {
            "text/plain": [
              "id_code                        0\n",
              "current_date                   0\n",
              "current_time                   0\n",
              "source_name                    0\n",
              "destination_name               0\n",
              "train_name                     0\n",
              "target                         0\n",
              "country_code_source            0\n",
              "longitude_source               0\n",
              "latitude_source                0\n",
              "mean_halt_times_source         0\n",
              "country_code_destination       0\n",
              "longitude_destination          0\n",
              "latitude_destination           0\n",
              "mean_halt_times_destination    0\n",
              "current_year                   0\n",
              "current_week                   0\n",
              "current_day                    0\n",
              "is_weekend                     0\n",
              "dtype: int64"
            ]
          },
          "metadata": {
            "tags": []
          },
          "execution_count": 285
        }
      ]
    },
    {
      "cell_type": "code",
      "metadata": {
        "id": "jvL57FDkTCBt",
        "colab_type": "code",
        "outputId": "8d7e986c-ade5-4e66-c1fb-86d97f3c2bd0",
        "colab": {
          "base_uri": "https://localhost:8080/",
          "height": 35
        }
      },
      "source": [
        "train.shape,test.shape"
      ],
      "execution_count": 286,
      "outputs": [
        {
          "output_type": "execute_result",
          "data": {
            "text/plain": [
              "((1251, 19), (964, 18))"
            ]
          },
          "metadata": {
            "tags": []
          },
          "execution_count": 286
        }
      ]
    },
    {
      "cell_type": "code",
      "metadata": {
        "id": "QiHqL3pQQ0Lx",
        "colab_type": "code",
        "colab": {}
      },
      "source": [
        "#removing the target\n",
        "train.reset_index(inplace=True,drop=True)\n",
        "target=train[\"target\"]\n",
        "#joining both train and test data for data cleaning\n",
        "train[\"data\"]=\"train\"\n",
        "train.drop([\"target\"],axis=1,inplace=True)\n",
        "test[\"data\"]=\"test\"\n",
        "data=pd.concat((train,test),ignore_index=True,axis=0)"
      ],
      "execution_count": 0,
      "outputs": []
    },
    {
      "cell_type": "code",
      "metadata": {
        "id": "ynqHzH4-PW6g",
        "colab_type": "code",
        "outputId": "7d289e07-bd45-499c-fcdf-fc53f16cfdb1",
        "colab": {
          "base_uri": "https://localhost:8080/",
          "height": 458
        }
      },
      "source": [
        "#lets start to change the type of the data so that we can convert it into machine learning formal\n",
        "data['source_name']=data['source_name'].str.replace(\"station\",\"\",case=False)\n",
        "data['source_name']=data['source_name'].str.replace(\"$\",\"\")\n",
        "\n",
        "#now change it from test and train\n",
        "data['destination_name']=data['destination_name'].str.replace(\"station\",\"\",case=False)\n",
        "data['destination_name']=data['destination_name'].str.replace(\"$\",\"\")\n",
        "\n",
        "#now changing the datatype of these columns\n",
        "data['source_name']=pd.to_numeric(data['source_name'])\n",
        "data['destination_name']=pd.to_numeric(data['destination_name'])\n",
        "\n",
        "data.info()\n"
      ],
      "execution_count": 288,
      "outputs": [
        {
          "output_type": "stream",
          "text": [
            "<class 'pandas.core.frame.DataFrame'>\n",
            "RangeIndex: 2215 entries, 0 to 2214\n",
            "Data columns (total 19 columns):\n",
            "id_code                        2215 non-null object\n",
            "current_date                   2215 non-null object\n",
            "current_time                   2215 non-null object\n",
            "source_name                    2215 non-null int64\n",
            "destination_name               2215 non-null int64\n",
            "train_name                     2215 non-null object\n",
            "country_code_source            2215 non-null object\n",
            "longitude_source               2215 non-null float64\n",
            "latitude_source                2215 non-null float64\n",
            "mean_halt_times_source         2215 non-null float64\n",
            "country_code_destination       2215 non-null object\n",
            "longitude_destination          2215 non-null float64\n",
            "latitude_destination           2215 non-null float64\n",
            "mean_halt_times_destination    2215 non-null float64\n",
            "current_year                   2215 non-null int64\n",
            "current_week                   2215 non-null int64\n",
            "current_day                    2215 non-null object\n",
            "is_weekend                     2215 non-null bool\n",
            "data                           2215 non-null object\n",
            "dtypes: bool(1), float64(6), int64(4), object(8)\n",
            "memory usage: 313.8+ KB\n"
          ],
          "name": "stdout"
        }
      ]
    },
    {
      "cell_type": "code",
      "metadata": {
        "id": "8uTOd7U5VsL5",
        "colab_type": "code",
        "colab": {}
      },
      "source": [
        "from sklearn.preprocessing import LabelEncoder\n",
        "label=LabelEncoder()\n"
      ],
      "execution_count": 0,
      "outputs": []
    },
    {
      "cell_type": "code",
      "metadata": {
        "id": "UAZlRdRUVm9l",
        "colab_type": "code",
        "colab": {}
      },
      "source": [
        "#mapping the data on unique values\n",
        "data[\"country_code_source\"]=data[\"country_code_source\"].map({'whber':1, 'qwnll':2,'wsluu':3,'logbp':4})\n",
        "data[\"country_code_source\"]=pd.to_numeric(data[\"country_code_source\"])"
      ],
      "execution_count": 0,
      "outputs": []
    },
    {
      "cell_type": "code",
      "metadata": {
        "id": "qSHALjk_YqxY",
        "colab_type": "code",
        "outputId": "c960b31b-1efe-4a05-c00d-5f84ba43963d",
        "colab": {
          "base_uri": "https://localhost:8080/",
          "height": 35
        }
      },
      "source": [
        "data[\"country_code_destination\"].unique()"
      ],
      "execution_count": 291,
      "outputs": [
        {
          "output_type": "execute_result",
          "data": {
            "text/plain": [
              "array(['whber', 'aqfre', 'qwnll', 'zxdec', 'logbp', 'wsluu'], dtype=object)"
            ]
          },
          "metadata": {
            "tags": []
          },
          "execution_count": 291
        }
      ]
    },
    {
      "cell_type": "code",
      "metadata": {
        "id": "rI6uQbpiP5z6",
        "colab_type": "code",
        "colab": {}
      },
      "source": [
        "#changing the data of destination\n",
        "data[\"country_code_destination\"]=data[\"country_code_destination\"].map({'whber':1, 'qwnll':2,'wsluu':3,\n",
        "                                                                  'logbp':4,'aqfre':5,'zxdec':6})\n",
        "data[\"country_code_destination\"]=pd.to_numeric(data[\"country_code_destination\"])\n"
      ],
      "execution_count": 0,
      "outputs": []
    },
    {
      "cell_type": "code",
      "metadata": {
        "id": "deyrorbjYjFB",
        "colab_type": "code",
        "colab": {}
      },
      "source": [
        "data[\"current_day\"]=data[\"current_day\"].map({'Monday':1,'Tuesday':2,'Wednesday':3, 'Thursday':4, 'Friday':5, \n",
        "                         'Saturday':6, 'Sunday':7})\n",
        "data[\"current_day\"]=pd.to_numeric(data[\"current_day\"])"
      ],
      "execution_count": 0,
      "outputs": []
    },
    {
      "cell_type": "code",
      "metadata": {
        "id": "4HF357aZNkMz",
        "colab_type": "code",
        "outputId": "164167b5-3c6e-4b0e-94d4-5c8e2ec7424d",
        "colab": {
          "base_uri": "https://localhost:8080/",
          "height": 226
        }
      },
      "source": [
        "data.tail(5)"
      ],
      "execution_count": 294,
      "outputs": [
        {
          "output_type": "execute_result",
          "data": {
            "text/html": [
              "<div>\n",
              "<style scoped>\n",
              "    .dataframe tbody tr th:only-of-type {\n",
              "        vertical-align: middle;\n",
              "    }\n",
              "\n",
              "    .dataframe tbody tr th {\n",
              "        vertical-align: top;\n",
              "    }\n",
              "\n",
              "    .dataframe thead th {\n",
              "        text-align: right;\n",
              "    }\n",
              "</style>\n",
              "<table border=\"1\" class=\"dataframe\">\n",
              "  <thead>\n",
              "    <tr style=\"text-align: right;\">\n",
              "      <th></th>\n",
              "      <th>id_code</th>\n",
              "      <th>current_date</th>\n",
              "      <th>current_time</th>\n",
              "      <th>source_name</th>\n",
              "      <th>destination_name</th>\n",
              "      <th>train_name</th>\n",
              "      <th>country_code_source</th>\n",
              "      <th>longitude_source</th>\n",
              "      <th>latitude_source</th>\n",
              "      <th>mean_halt_times_source</th>\n",
              "      <th>country_code_destination</th>\n",
              "      <th>longitude_destination</th>\n",
              "      <th>latitude_destination</th>\n",
              "      <th>mean_halt_times_destination</th>\n",
              "      <th>current_year</th>\n",
              "      <th>current_week</th>\n",
              "      <th>current_day</th>\n",
              "      <th>is_weekend</th>\n",
              "      <th>data</th>\n",
              "    </tr>\n",
              "  </thead>\n",
              "  <tbody>\n",
              "    <tr>\n",
              "      <th>2210</th>\n",
              "      <td>pnfrvyxsejnehwu</td>\n",
              "      <td>2016-10-29</td>\n",
              "      <td>09:14:45 AM</td>\n",
              "      <td>544</td>\n",
              "      <td>530</td>\n",
              "      <td>ICZVXA</td>\n",
              "      <td>1</td>\n",
              "      <td>3.710675</td>\n",
              "      <td>51.035896</td>\n",
              "      <td>309.014451</td>\n",
              "      <td>1</td>\n",
              "      <td>3.447848</td>\n",
              "      <td>51.092295</td>\n",
              "      <td>78.488439</td>\n",
              "      <td>2016</td>\n",
              "      <td>43</td>\n",
              "      <td>6</td>\n",
              "      <td>True</td>\n",
              "      <td>test</td>\n",
              "    </tr>\n",
              "    <tr>\n",
              "      <th>2211</th>\n",
              "      <td>omsilbnrgbvkeak</td>\n",
              "      <td>2016-10-29</td>\n",
              "      <td>10:17:59 AM</td>\n",
              "      <td>530</td>\n",
              "      <td>544</td>\n",
              "      <td>ICZVZA</td>\n",
              "      <td>1</td>\n",
              "      <td>3.447848</td>\n",
              "      <td>51.092295</td>\n",
              "      <td>78.488439</td>\n",
              "      <td>1</td>\n",
              "      <td>3.710675</td>\n",
              "      <td>51.035896</td>\n",
              "      <td>309.014451</td>\n",
              "      <td>2016</td>\n",
              "      <td>43</td>\n",
              "      <td>6</td>\n",
              "      <td>True</td>\n",
              "      <td>test</td>\n",
              "    </tr>\n",
              "    <tr>\n",
              "      <th>2212</th>\n",
              "      <td>vkjvqmaaguaeqde</td>\n",
              "      <td>2016-10-29</td>\n",
              "      <td>10:39:10 AM</td>\n",
              "      <td>178</td>\n",
              "      <td>147</td>\n",
              "      <td>ICRYYW</td>\n",
              "      <td>1</td>\n",
              "      <td>4.421101</td>\n",
              "      <td>51.217200</td>\n",
              "      <td>467.982659</td>\n",
              "      <td>1</td>\n",
              "      <td>4.356801</td>\n",
              "      <td>50.845658</td>\n",
              "      <td>634.164740</td>\n",
              "      <td>2016</td>\n",
              "      <td>43</td>\n",
              "      <td>6</td>\n",
              "      <td>True</td>\n",
              "      <td>test</td>\n",
              "    </tr>\n",
              "    <tr>\n",
              "      <th>2213</th>\n",
              "      <td>iutnjhogthfpymb</td>\n",
              "      <td>2016-10-29</td>\n",
              "      <td>10:59:55 AM</td>\n",
              "      <td>147</td>\n",
              "      <td>150</td>\n",
              "      <td>ICZVXY</td>\n",
              "      <td>1</td>\n",
              "      <td>4.356801</td>\n",
              "      <td>50.845658</td>\n",
              "      <td>634.164740</td>\n",
              "      <td>1</td>\n",
              "      <td>4.336531</td>\n",
              "      <td>50.835707</td>\n",
              "      <td>686.615607</td>\n",
              "      <td>2016</td>\n",
              "      <td>43</td>\n",
              "      <td>6</td>\n",
              "      <td>True</td>\n",
              "      <td>test</td>\n",
              "    </tr>\n",
              "    <tr>\n",
              "      <th>2214</th>\n",
              "      <td>xwqxedeqlnimclu</td>\n",
              "      <td>2016-10-29</td>\n",
              "      <td>11:48:37 AM</td>\n",
              "      <td>525</td>\n",
              "      <td>536</td>\n",
              "      <td>ICZVXW</td>\n",
              "      <td>1</td>\n",
              "      <td>3.216726</td>\n",
              "      <td>51.197226</td>\n",
              "      <td>164.419075</td>\n",
              "      <td>1</td>\n",
              "      <td>3.133864</td>\n",
              "      <td>51.312432</td>\n",
              "      <td>21.416185</td>\n",
              "      <td>2016</td>\n",
              "      <td>43</td>\n",
              "      <td>6</td>\n",
              "      <td>True</td>\n",
              "      <td>test</td>\n",
              "    </tr>\n",
              "  </tbody>\n",
              "</table>\n",
              "</div>"
            ],
            "text/plain": [
              "              id_code current_date current_time  ...  current_day  is_weekend  data\n",
              "2210  pnfrvyxsejnehwu   2016-10-29  09:14:45 AM  ...            6        True  test\n",
              "2211  omsilbnrgbvkeak   2016-10-29  10:17:59 AM  ...            6        True  test\n",
              "2212  vkjvqmaaguaeqde   2016-10-29  10:39:10 AM  ...            6        True  test\n",
              "2213  iutnjhogthfpymb   2016-10-29  10:59:55 AM  ...            6        True  test\n",
              "2214  xwqxedeqlnimclu   2016-10-29  11:48:37 AM  ...            6        True  test\n",
              "\n",
              "[5 rows x 19 columns]"
            ]
          },
          "metadata": {
            "tags": []
          },
          "execution_count": 294
        }
      ]
    },
    {
      "cell_type": "code",
      "metadata": {
        "id": "-jjzIjlAb_vM",
        "colab_type": "code",
        "colab": {}
      },
      "source": [
        "#feature engineering for date and time\n",
        "#we are not doing more beacause there are several detailed columns are already present in the dataset\n",
        "#data[\"date_and_time_combined\"]=+\" \"+data[\"current_time\"]\n",
        "#data[\"current_date\"]=pd.to_datetime(data[\"current_date\"])\n",
        "\n",
        "\n",
        "#getting the current month\n",
        "xx=data[\"current_date\"].str.split(\"-\",expand=True)\n",
        "\n",
        "data[\"current_month\"]=xx[1]\n"
      ],
      "execution_count": 0,
      "outputs": []
    },
    {
      "cell_type": "code",
      "metadata": {
        "id": "EfjGV_dyVRxd",
        "colab_type": "code",
        "outputId": "54215186-f13b-4b92-a028-06b2309bf0ec",
        "colab": {
          "base_uri": "https://localhost:8080/",
          "height": 403
        }
      },
      "source": [
        "data.isna().sum()"
      ],
      "execution_count": 296,
      "outputs": [
        {
          "output_type": "execute_result",
          "data": {
            "text/plain": [
              "id_code                        0\n",
              "current_date                   0\n",
              "current_time                   0\n",
              "source_name                    0\n",
              "destination_name               0\n",
              "train_name                     0\n",
              "country_code_source            0\n",
              "longitude_source               0\n",
              "latitude_source                0\n",
              "mean_halt_times_source         0\n",
              "country_code_destination       0\n",
              "longitude_destination          0\n",
              "latitude_destination           0\n",
              "mean_halt_times_destination    0\n",
              "current_year                   0\n",
              "current_week                   0\n",
              "current_day                    0\n",
              "is_weekend                     0\n",
              "data                           0\n",
              "current_month                  0\n",
              "dtype: int64"
            ]
          },
          "metadata": {
            "tags": []
          },
          "execution_count": 296
        }
      ]
    },
    {
      "cell_type": "code",
      "metadata": {
        "id": "vCdaRZ4vQrA_",
        "colab_type": "code",
        "colab": {}
      },
      "source": [
        "#getting the hours of the time and converting it nto 24 hours format\n",
        "a=data[\"current_time\"].str.split(':',expand=True)\n",
        "b=a[2].str.split(\" \",expand=True)\n",
        "a=a[0]\n",
        "a=pd.to_numeric(a)\n",
        "xx=np.where(b[1]=='AM',a+12,a)\n",
        "xx=np.where(xx==24,0,xx)\n",
        "\n",
        "hours=pd.DataFrame(xx)\n",
        "data[\"hours_of_the_time\"]=hours\n",
        "del hours,xx\n",
        "data.drop([\"current_date\",\"current_time\",'id_code'],axis=1,inplace=True)"
      ],
      "execution_count": 0,
      "outputs": []
    },
    {
      "cell_type": "code",
      "metadata": {
        "id": "DZLnIPWYaUGz",
        "colab_type": "code",
        "colab": {}
      },
      "source": [
        "#changing the weekend into binary column\n",
        "#data[\"is_weekend\"].unique()\n",
        "data[\"is_weekend\"]=np.where(data[\"is_weekend\"]==False,0,1)\n",
        "data[\"is_weekend\"]=pd.to_numeric(data[\"is_weekend\"])"
      ],
      "execution_count": 0,
      "outputs": []
    },
    {
      "cell_type": "code",
      "metadata": {
        "id": "uZmcCnsqf3Ok",
        "colab_type": "code",
        "colab": {}
      },
      "source": [
        "#making dummies for the train names for the trains which have values more that 5\n",
        "#cat_cols=[\"train_name\"]\n",
        "#for col in cat_cols:\n",
        " #   freqs=data[col].value_counts()\n",
        "  #  k=freqs.index[freqs>5][:-1]\n",
        "   # for cat in k:\n",
        "    #    name=col+'_'+cat\n",
        "     #   data[name]=(data[col]==cat).astype(int)\n",
        "    #del data[col]\n",
        "    #print(col)\n",
        "\n",
        "\n",
        "\n",
        "#we are deleting the train name for now \n",
        "# we will include the code when we will deal with the modelling process\n",
        "del data[\"train_name\"]"
      ],
      "execution_count": 0,
      "outputs": []
    },
    {
      "cell_type": "code",
      "metadata": {
        "id": "V016A4r5hsQ7",
        "colab_type": "code",
        "colab": {}
      },
      "source": [
        "#converting the target into one hot encoding as it is a multiclass problem\n",
        "#from sklearn.preprocessing import OneHotEncoder\n",
        "#encoder = OneHotEncoder(handle_unknown='ignore')\n",
        "#encoder.fit_transform(target)\n",
        "#from sklearn.preprocessing import MultiLabelBinarizer\n",
        "#MultiLabelBinarizer().fit_transform(target)\n"
      ],
      "execution_count": 0,
      "outputs": []
    },
    {
      "cell_type": "code",
      "metadata": {
        "id": "eZyswGgPQ-C8",
        "colab_type": "code",
        "colab": {}
      },
      "source": [
        "from sklearn.preprocessing import StandardScaler,RobustScaler,MinMaxScaler\n",
        "ss=StandardScaler()\n",
        "ss=RobustScaler()\n",
        "ms=MinMaxScaler()"
      ],
      "execution_count": 0,
      "outputs": []
    },
    {
      "cell_type": "code",
      "metadata": {
        "id": "N3ZySy69RxQ4",
        "colab_type": "code",
        "colab": {
          "base_uri": "https://localhost:8080/",
          "height": 54
        },
        "outputId": "ec376780-b35f-4b97-fa2c-7116b6acdcb2"
      },
      "source": [
        "ss"
      ],
      "execution_count": 301,
      "outputs": [
        {
          "output_type": "execute_result",
          "data": {
            "text/plain": [
              "RobustScaler(copy=True, quantile_range=(25.0, 75.0), with_centering=True,\n",
              "             with_scaling=True)"
            ]
          },
          "metadata": {
            "tags": []
          },
          "execution_count": 301
        }
      ]
    },
    {
      "cell_type": "code",
      "metadata": {
        "id": "HIH97okqIBKT",
        "colab_type": "code",
        "outputId": "daf9132c-cc45-46bc-ae22-bd764b03e976",
        "colab": {
          "base_uri": "https://localhost:8080/",
          "height": 166
        }
      },
      "source": [
        "#getting the training and testing data into the original form\n",
        "train=data[data['data']=='train']\n",
        "test=data[data['data']=='test']\n",
        "print(train.shape,test.shape)\n",
        "train.drop(['data'],axis=1,inplace=True)\n",
        "test.drop(['data'],axis=1,inplace=True)\n",
        "print(train.shape,test.shape)\n"
      ],
      "execution_count": 302,
      "outputs": [
        {
          "output_type": "stream",
          "text": [
            "(1251, 17) (964, 17)\n",
            "(1251, 16) (964, 16)\n"
          ],
          "name": "stdout"
        },
        {
          "output_type": "stream",
          "text": [
            "/usr/local/lib/python3.6/dist-packages/pandas/core/frame.py:4117: SettingWithCopyWarning: \n",
            "A value is trying to be set on a copy of a slice from a DataFrame\n",
            "\n",
            "See the caveats in the documentation: http://pandas.pydata.org/pandas-docs/stable/user_guide/indexing.html#returning-a-view-versus-a-copy\n",
            "  errors=errors,\n"
          ],
          "name": "stderr"
        }
      ]
    },
    {
      "cell_type": "code",
      "metadata": {
        "id": "25sVoA5cRduT",
        "colab_type": "code",
        "colab": {}
      },
      "source": [
        "train=ss.fit_transform(train)\n",
        "test=ss.fit_transform(test)"
      ],
      "execution_count": 0,
      "outputs": []
    },
    {
      "cell_type": "code",
      "metadata": {
        "id": "xw2ngFPjWp1R",
        "colab_type": "code",
        "colab": {
          "base_uri": "https://localhost:8080/",
          "height": 226
        },
        "outputId": "ddc6a2c6-e141-452e-9547-3b2168df4d9d"
      },
      "source": [
        "data.head()"
      ],
      "execution_count": 304,
      "outputs": [
        {
          "output_type": "execute_result",
          "data": {
            "text/html": [
              "<div>\n",
              "<style scoped>\n",
              "    .dataframe tbody tr th:only-of-type {\n",
              "        vertical-align: middle;\n",
              "    }\n",
              "\n",
              "    .dataframe tbody tr th {\n",
              "        vertical-align: top;\n",
              "    }\n",
              "\n",
              "    .dataframe thead th {\n",
              "        text-align: right;\n",
              "    }\n",
              "</style>\n",
              "<table border=\"1\" class=\"dataframe\">\n",
              "  <thead>\n",
              "    <tr style=\"text-align: right;\">\n",
              "      <th></th>\n",
              "      <th>source_name</th>\n",
              "      <th>destination_name</th>\n",
              "      <th>country_code_source</th>\n",
              "      <th>longitude_source</th>\n",
              "      <th>latitude_source</th>\n",
              "      <th>mean_halt_times_source</th>\n",
              "      <th>country_code_destination</th>\n",
              "      <th>longitude_destination</th>\n",
              "      <th>latitude_destination</th>\n",
              "      <th>mean_halt_times_destination</th>\n",
              "      <th>current_year</th>\n",
              "      <th>current_week</th>\n",
              "      <th>current_day</th>\n",
              "      <th>is_weekend</th>\n",
              "      <th>data</th>\n",
              "      <th>current_month</th>\n",
              "      <th>hours_of_the_time</th>\n",
              "    </tr>\n",
              "  </thead>\n",
              "  <tbody>\n",
              "    <tr>\n",
              "      <th>0</th>\n",
              "      <td>130</td>\n",
              "      <td>214</td>\n",
              "      <td>1</td>\n",
              "      <td>4.360846</td>\n",
              "      <td>50.859663</td>\n",
              "      <td>640.265896</td>\n",
              "      <td>1</td>\n",
              "      <td>4.482785</td>\n",
              "      <td>51.017648</td>\n",
              "      <td>306.523121</td>\n",
              "      <td>2016</td>\n",
              "      <td>30</td>\n",
              "      <td>3</td>\n",
              "      <td>0</td>\n",
              "      <td>train</td>\n",
              "      <td>07</td>\n",
              "      <td>11</td>\n",
              "    </tr>\n",
              "    <tr>\n",
              "      <th>1</th>\n",
              "      <td>248</td>\n",
              "      <td>248</td>\n",
              "      <td>1</td>\n",
              "      <td>5.497685</td>\n",
              "      <td>50.967057</td>\n",
              "      <td>39.476879</td>\n",
              "      <td>1</td>\n",
              "      <td>5.497685</td>\n",
              "      <td>50.967057</td>\n",
              "      <td>39.476879</td>\n",
              "      <td>2016</td>\n",
              "      <td>30</td>\n",
              "      <td>4</td>\n",
              "      <td>0</td>\n",
              "      <td>train</td>\n",
              "      <td>07</td>\n",
              "      <td>0</td>\n",
              "    </tr>\n",
              "    <tr>\n",
              "      <th>2</th>\n",
              "      <td>248</td>\n",
              "      <td>147</td>\n",
              "      <td>1</td>\n",
              "      <td>5.497685</td>\n",
              "      <td>50.967057</td>\n",
              "      <td>39.476879</td>\n",
              "      <td>1</td>\n",
              "      <td>4.356801</td>\n",
              "      <td>50.845658</td>\n",
              "      <td>634.164740</td>\n",
              "      <td>2016</td>\n",
              "      <td>30</td>\n",
              "      <td>4</td>\n",
              "      <td>0</td>\n",
              "      <td>train</td>\n",
              "      <td>07</td>\n",
              "      <td>0</td>\n",
              "    </tr>\n",
              "    <tr>\n",
              "      <th>3</th>\n",
              "      <td>177</td>\n",
              "      <td>130</td>\n",
              "      <td>1</td>\n",
              "      <td>4.482076</td>\n",
              "      <td>50.896456</td>\n",
              "      <td>171.020231</td>\n",
              "      <td>1</td>\n",
              "      <td>4.360846</td>\n",
              "      <td>50.859663</td>\n",
              "      <td>640.265896</td>\n",
              "      <td>2016</td>\n",
              "      <td>30</td>\n",
              "      <td>4</td>\n",
              "      <td>0</td>\n",
              "      <td>train</td>\n",
              "      <td>07</td>\n",
              "      <td>0</td>\n",
              "    </tr>\n",
              "    <tr>\n",
              "      <th>4</th>\n",
              "      <td>544</td>\n",
              "      <td>147</td>\n",
              "      <td>1</td>\n",
              "      <td>3.710675</td>\n",
              "      <td>51.035896</td>\n",
              "      <td>309.014451</td>\n",
              "      <td>1</td>\n",
              "      <td>4.356801</td>\n",
              "      <td>50.845658</td>\n",
              "      <td>634.164740</td>\n",
              "      <td>2016</td>\n",
              "      <td>30</td>\n",
              "      <td>4</td>\n",
              "      <td>0</td>\n",
              "      <td>train</td>\n",
              "      <td>07</td>\n",
              "      <td>20</td>\n",
              "    </tr>\n",
              "  </tbody>\n",
              "</table>\n",
              "</div>"
            ],
            "text/plain": [
              "   source_name  destination_name  ...  current_month  hours_of_the_time\n",
              "0          130               214  ...             07                 11\n",
              "1          248               248  ...             07                  0\n",
              "2          248               147  ...             07                  0\n",
              "3          177               130  ...             07                  0\n",
              "4          544               147  ...             07                 20\n",
              "\n",
              "[5 rows x 17 columns]"
            ]
          },
          "metadata": {
            "tags": []
          },
          "execution_count": 304
        }
      ]
    },
    {
      "cell_type": "code",
      "metadata": {
        "id": "A_5xoD7GSmzT",
        "colab_type": "code",
        "colab": {
          "base_uri": "https://localhost:8080/",
          "height": 90
        },
        "outputId": "a6403f5b-f6c3-4f33-95a8-78afd80a56d5"
      },
      "source": [
        "train[:1]"
      ],
      "execution_count": 305,
      "outputs": [
        {
          "output_type": "execute_result",
          "data": {
            "text/plain": [
              "array([[-0.224     ,  0.        ,  0.        ,  0.        , -0.29935883,\n",
              "         1.33952936,  0.        ,  0.26907469,  0.62802152,  0.40548921,\n",
              "         0.        , -4.        , -0.33333333,  0.        , -2.        ,\n",
              "         0.13333333]])"
            ]
          },
          "metadata": {
            "tags": []
          },
          "execution_count": 305
        }
      ]
    },
    {
      "cell_type": "code",
      "metadata": {
        "id": "_YtSlObEZExw",
        "colab_type": "code",
        "colab": {}
      },
      "source": [
        "#we are commentig this beacuse we have joined the (target)\n",
        "#column because of eda to the datset\n",
        "\n",
        "#train[\"target\"]=target\n",
        "#train[\"target\"]=train[\"target\"].map({'low':0,'high':2,'medium':1})\n",
        "\n"
      ],
      "execution_count": 0,
      "outputs": []
    },
    {
      "cell_type": "code",
      "metadata": {
        "id": "TTmYYwGrdlmZ",
        "colab_type": "code",
        "colab": {}
      },
      "source": [
        "#sns.pairplot(train)"
      ],
      "execution_count": 0,
      "outputs": []
    },
    {
      "cell_type": "code",
      "metadata": {
        "id": "X3rko8ocfZk_",
        "colab_type": "code",
        "colab": {}
      },
      "source": [
        "# hours_of_the time vs target \n",
        "#plt.figure(figsize=(10,8))\n",
        "#sns.scatterplot(y=train[\"hours_of_the_time\"],x=train[\"is_weekend\"],hue=train[\"target\"])\n",
        "#plt.xlabel(\"weekends\")\n",
        "#plt.ylabel(\"hours in a day\")\n",
        "#plt.title(\"Hours in a day vs Weekoffs load \")\n",
        "#as we can clearly see that on the working days the volumns is high at the time where people go to office andgo to home\n",
        "#and on weekoffs the traffic is high in the morning and at afternoon\n",
        "#there might be several reasons on the weekoff(Maybe the people are going to their native town or shopping)"
      ],
      "execution_count": 0,
      "outputs": []
    },
    {
      "cell_type": "code",
      "metadata": {
        "id": "NC9BsYkD0IW8",
        "colab_type": "code",
        "colab": {}
      },
      "source": [
        "#target vs destination name\n",
        "\n",
        "#plt.figure(figsize=(9,6))\n",
        "#sns.lineplot(y=train[\"target\"], x=train['destination_name'])\n",
        "#plt.xlabel(\"station location code\")\n",
        "#plt.ylabel(\"target in 0(low) ,1(medium),2(high)\")\n",
        "#plt.title(\"destination station name vs the volume\")\n",
        "#by this graph we can clearly see that as the stations are increasing the population volume is getting low\n",
        "#this means that there are less number of people who atre commuting from very far places as compares to nearby places\n"
      ],
      "execution_count": 0,
      "outputs": []
    },
    {
      "cell_type": "code",
      "metadata": {
        "id": "rpqIhBWg3GS4",
        "colab_type": "code",
        "colab": {}
      },
      "source": [
        "#hours_of_the_time vs  mean_halt_source\n",
        "#plt.figure(figsize=(6,6))\n",
        "#sns.lineplot(x=train[\"hours_of_the_time\"],y=train[\"mean_halt_times_source\"])\n",
        "\n",
        "#plt.xlabel(\"time in the day in 24 hours\")\n",
        "#plt.ylabel(\"Number of halt times\")\n",
        "#plt.title(\"Times the train halted on the day from 00:00-23:59:59\")\n",
        "#as we can see tthat the train halted nearly 13:00-17:00 the most\n",
        "#it means the traffic would be the most at this time\n"
      ],
      "execution_count": 0,
      "outputs": []
    },
    {
      "cell_type": "code",
      "metadata": {
        "id": "tau5aVHAGcy8",
        "colab_type": "code",
        "colab": {}
      },
      "source": [
        "#latitude source to latitude destination vs volume of the traffic\n",
        "#plt.figure(figsize=(6,6))\n",
        "#sns.lineplot(x=train[\"latitude_source\"],y=train[\"latitude_destination\"],hue=train[\"target\"])\n",
        "#we can clearly see that the major high volume between(50.25 to 51.25 latitude)\n",
        "#we can clearly see that the normal volume between(49.75 to 51.50 latitude)\n",
        "#we can clearly see that the normal volume between(49.75 to 51.50 latitude)\n",
        "\n",
        "\n"
      ],
      "execution_count": 0,
      "outputs": []
    },
    {
      "cell_type": "code",
      "metadata": {
        "id": "m6WTa3T8JEAA",
        "colab_type": "code",
        "colab": {}
      },
      "source": [
        "#latitude source to latitude destination vs volume of the traffic\n",
        "#plt.figure(figsize=(6,6))\n",
        "#sns.lineplot(x=train[\"longitude_source\"],y=train[\"longitude_destination\"],hue=train[\"target\"])\n",
        "#we can clearly see that the major high volume between(3 to 6 longitude)\n",
        "#we can clearly see that the normal volume between(0 to 6 longitude)\n",
        "#we can clearly see that the normal volume between(49.75 to 51.50 latitude)"
      ],
      "execution_count": 0,
      "outputs": []
    },
    {
      "cell_type": "code",
      "metadata": {
        "id": "egJ4URjfKaul",
        "colab_type": "code",
        "colab": {}
      },
      "source": [
        "#current_month vs the traffic vs week\n",
        "#plt.figure(figsize=(6,6))\n",
        "#sns.lineplot(train[\"mean_halt_times_source\"],train[\"mean_halt_times_destination\"],hue=train[\"target\"])\n",
        "#mean_halt times source and destination is alot\n",
        "#this means there are alot of persons who prefer the train destination alot"
      ],
      "execution_count": 0,
      "outputs": []
    },
    {
      "cell_type": "code",
      "metadata": {
        "id": "CY_4LGnBMHaf",
        "colab_type": "code",
        "colab": {}
      },
      "source": [
        "#sns.kdeplot(train[\"current_month\"])\n",
        "# the frequesncy of september is more than in other months\n"
      ],
      "execution_count": 0,
      "outputs": []
    },
    {
      "cell_type": "code",
      "metadata": {
        "id": "mXttYVVyMtLn",
        "colab_type": "code",
        "colab": {}
      },
      "source": [
        "#sns.lineplot(train[\"current_month\"],train[\"mean_halt_times_source\"])\n",
        "#sns.lineplot(train[\"current_month\"],train[\"mean_halt_times_destination\"])\n",
        "#plt.ylabel(\"mean halt time source and destination\")\n",
        "\n",
        "#we can clearly see that mean halt time is less both for source and destination in august(08) and maximum in july(07) "
      ],
      "execution_count": 0,
      "outputs": []
    },
    {
      "cell_type": "code",
      "metadata": {
        "id": "yqBbCbHsQQPC",
        "colab_type": "code",
        "colab": {}
      },
      "source": [
        "#destination name vs target\n",
        "#sns.lineplot(y=train[\"destination_name\"],x=train[\"target\"],hue=train[\"is_weekend\"])"
      ],
      "execution_count": 0,
      "outputs": []
    },
    {
      "cell_type": "code",
      "metadata": {
        "id": "kTc1oqyuRu0y",
        "colab_type": "code",
        "colab": {}
      },
      "source": [
        "#train.drop([\"current_year\"],axis=1,inplace=True)\n",
        "#test.drop([\"current_year\"],axis=1,inplace=True)"
      ],
      "execution_count": 0,
      "outputs": []
    },
    {
      "cell_type": "code",
      "metadata": {
        "id": "BPfKANLUOau1",
        "colab_type": "code",
        "colab": {}
      },
      "source": [
        "#function to get variable importances\n",
        "#def plot_graph(a):\n",
        " #   plt.figure(figsize=(10,10))\n",
        "  #  chart=sns.barplot(x=a[\"name_of_column\"],y=a[\"feature_importance\"])\n",
        "  #  chart.set_xticklabels(chart.get_xticklabels(), rotation=45)\n",
        "#def feature_importance_plot_rev(dataframe,classifier,limit_of_the_importance):\n",
        " #   x=list(zip(dataframe.columns,classifier.feature_importances_))\n",
        " #   xx=pd.DataFrame(x)\n",
        "  #  xx.columns=[\"name_of_column\",\"feature_importance\"]\n",
        "  #  xx=xx.sort_values(\"feature_importance\",ascending=False)\n",
        "  #  xx=xx[xx[\"feature_importance\"]>limit_of_the_importance]\n",
        "  #  plot_graph(xx)\n",
        "  #  return xx"
      ],
      "execution_count": 0,
      "outputs": []
    },
    {
      "cell_type": "code",
      "metadata": {
        "id": "pNMWIrmgU58A",
        "colab_type": "code",
        "colab": {}
      },
      "source": [
        "#training a model for getting the important features\n",
        "from sklearn.ensemble import RandomForestClassifier\n",
        "from sklearn.tree import DecisionTreeClassifier\n",
        "\n",
        "#defining the classifier for feature importance\n",
        "#rfc=RandomForestClassifier()\n",
        "#dtc=DecisionTreeClassifier()\n",
        "\n",
        "#saperating the train and test data\n",
        "#X_train=train.drop([\"target\"],axis=1)\n",
        "#Y_train=train[\"target\"]\n",
        "\n",
        "#fitting our model for variable importance\n",
        "#rfc.fit(X_train,Y_train)\n",
        "#dtc.fit(X_train,Y_train)"
      ],
      "execution_count": 0,
      "outputs": []
    },
    {
      "cell_type": "code",
      "metadata": {
        "id": "EBDi5A21Vpb0",
        "colab_type": "code",
        "colab": {}
      },
      "source": [
        "#getting the feature importance from random Forests classifier\n",
        "#variable_importance_df=feature_importance_plot_rev(X_train,dtc,0)\n"
      ],
      "execution_count": 0,
      "outputs": []
    },
    {
      "cell_type": "code",
      "metadata": {
        "id": "0Mk1D8lXYlRn",
        "colab_type": "code",
        "colab": {}
      },
      "source": [
        "#list1=list(variable_importance_df[\"name_of_column\"])"
      ],
      "execution_count": 0,
      "outputs": []
    },
    {
      "cell_type": "code",
      "metadata": {
        "id": "bMAPVs_GU2y2",
        "colab_type": "code",
        "colab": {}
      },
      "source": [
        "#getting the feature importance from random Forests classifier\n",
        "#feature_importance_plot_rev(X_train,rfc,0)\n",
        "#commeting this beacuse the feture importance is same for both of them"
      ],
      "execution_count": 0,
      "outputs": []
    },
    {
      "cell_type": "code",
      "metadata": {
        "id": "Hu4J8TBlb3F5",
        "colab_type": "code",
        "colab": {}
      },
      "source": [
        "#getting the most important function \n",
        "#df_important_features=pd.DataFrame()\n",
        "\n",
        "#for i in list1:  \n",
        " # df_important_features=pd.concat((df_important_features,train[i]),axis=1)\n",
        "\n"
      ],
      "execution_count": 0,
      "outputs": []
    },
    {
      "cell_type": "code",
      "metadata": {
        "id": "khGBlqfcfQe0",
        "colab_type": "code",
        "colab": {}
      },
      "source": [
        "#df_important_features_test=pd.DataFrame()\n",
        "#for i in list1:  \n",
        " # df_important_features_test=pd.concat((df_important_features_test,test[i]),axis=1)\n"
      ],
      "execution_count": 0,
      "outputs": []
    },
    {
      "cell_type": "code",
      "metadata": {
        "id": "Oo8Os1qCfa3o",
        "colab_type": "code",
        "colab": {}
      },
      "source": [
        "#df_important_features_test=ss.fit_transform(df_important_features_test).\n",
        "#df_important_features=ss.fit_transform(df_important_features)"
      ],
      "execution_count": 0,
      "outputs": []
    },
    {
      "cell_type": "code",
      "metadata": {
        "id": "40x-qZScXL-D",
        "colab_type": "code",
        "colab": {}
      },
      "source": [
        "#resource expensive cell\n",
        "#g = sns.PairGrid(df_important_features)\n",
        "#g.map_upper(plt.scatter)\n",
        "#.map_lower(sns.violinplot)\n",
        "#g.map_diag(sns.kdeplot, lw=3, legend=False);\n"
      ],
      "execution_count": 0,
      "outputs": []
    },
    {
      "cell_type": "code",
      "metadata": {
        "id": "dQ2oxiJ6fzzQ",
        "colab_type": "code",
        "colab": {}
      },
      "source": [
        "#now we will visualize whether we should go with th simple model or we should proceed with the complicated model\n",
        "#temp=pd.concat((df_important_features,Y_train),axis=1)\n",
        "#temp.head(5)\n",
        "#from sklearn.decomposition import PCA\n",
        "#pca=PCA(2)\n",
        "#pca_fitted_transformed=pca.fit_transform(df_important_features)\n"
      ],
      "execution_count": 0,
      "outputs": []
    },
    {
      "cell_type": "code",
      "metadata": {
        "id": "2n8c9n_FkvGj",
        "colab_type": "code",
        "colab": {}
      },
      "source": [
        "#visualizing pca\n",
        "#principalDf = pd.DataFrame(data = pca_fitted_transformed\n",
        " #            , columns = ['principal component 1', 'principal component 2'])\n",
        "#finalDf = pd.concat([principalDf,Y_train], axis = 1)\n",
        "#plt.figure(figsize=(8,8))\n",
        "#sns.scatterplot(x=finalDf['principal component 1'], y=finalDf['principal component 2'],hue=finalDf['target'])\n",
        "#plt.legend([\"low\",\"medium\",\"high\"])\n",
        "#plt.show()"
      ],
      "execution_count": 0,
      "outputs": []
    },
    {
      "cell_type": "code",
      "metadata": {
        "id": "Z0kxA0wixAKK",
        "colab_type": "code",
        "colab": {}
      },
      "source": [
        "from sklearn.linear_model import LogisticRegression,SGDClassifier\n",
        "from sklearn.neural_network import MLPClassifier\n",
        "from sklearn.neighbors import KNeighborsClassifier\n",
        "from sklearn.model_selection import cross_val_score,GridSearchCV,RandomizedSearchCV,KFold,StratifiedKFold,train_test_split\n",
        "from sklearn.svm import SVC\n",
        "from sklearn.ensemble import ExtraTreesClassifier,GradientBoostingClassifier,AdaBoostClassifier\n",
        "from sklearn.discriminant_analysis import LinearDiscriminantAnalysis\n"
      ],
      "execution_count": 0,
      "outputs": []
    },
    {
      "cell_type": "code",
      "metadata": {
        "id": "M9CMDV8JyMJr",
        "colab_type": "code",
        "colab": {}
      },
      "source": [
        "\n",
        "#lets go with the modelling process now\n",
        "etc=ExtraTreesClassifier(class_weight='balanced')\n",
        "dtc=DecisionTreeClassifier(class_weight='balanced')\n",
        "rfc=RandomForestClassifier(class_weight='balanced')\n",
        "gbc=GradientBoostingClassifier()\n",
        "abc=AdaBoostClassifier(ExtraTreesClassifier(class_weight='balanced'))\n",
        "lr=LogisticRegression(class_weight='balanced')"
      ],
      "execution_count": 0,
      "outputs": []
    },
    {
      "cell_type": "code",
      "metadata": {
        "id": "NifvddsWynzQ",
        "colab_type": "code",
        "colab": {}
      },
      "source": [
        "seed=77\n",
        "#splittig the normal data into train and validation\n",
        "train_x,val_x,train_y,val_y=train_test_split(train,Y_train,test_size=.30,random_state=seed)"
      ],
      "execution_count": 0,
      "outputs": []
    },
    {
      "cell_type": "code",
      "metadata": {
        "id": "ZvvJ01Yk7Ioi",
        "colab_type": "code",
        "outputId": "f4bbdb4e-f300-4fda-8c8e-40e08142530e",
        "colab": {
          "base_uri": "https://localhost:8080/",
          "height": 257
        }
      },
      "source": [
        "#logistic classifier\n",
        "lr.fit(train_x,train_y)\n",
        "predicted=lr.predict(val_x)\n",
        "predicted_proba=lr.predict_proba(val_x)\n",
        "from sklearn.metrics import confusion_matrix,classification_report,r2_score,auc\n",
        "#print(confusion_matrix(predicted,val_y))\n",
        "#print(classification_report(predicted,val_y))\n",
        "\n",
        "#print(r2_score(predicted,val_y))\n",
        "\n",
        "#now training on the full dataset\n",
        "lr.fit(train,Y_train)\n",
        "predicted_final=lr.predict(test)\n",
        "\n",
        "id_code=list(id_code)\n",
        "predicted_final=list(predicted_final)\n",
        "submit_lr=pd.DataFrame(list(zip(id_code,predicted_final)),columns=[\"id_code\",\"target\"])\n",
        "submit_lr.target[submit_lr.target==0]='low'\n",
        "submit_lr.target[submit_lr.target==1]='medium'\n",
        "submit_lr.target[submit_lr.target==2]='high'\n",
        "submit_lr.to_csv(\"submit_lr_stn.csv\",index=False)\n"
      ],
      "execution_count": 324,
      "outputs": [
        {
          "output_type": "stream",
          "text": [
            "/usr/local/lib/python3.6/dist-packages/sklearn/linear_model/logistic.py:432: FutureWarning: Default solver will be changed to 'lbfgs' in 0.22. Specify a solver to silence this warning.\n",
            "  FutureWarning)\n",
            "/usr/local/lib/python3.6/dist-packages/sklearn/linear_model/logistic.py:469: FutureWarning: Default multi_class will be changed to 'auto' in 0.22. Specify the multi_class option to silence this warning.\n",
            "  \"this warning.\", FutureWarning)\n",
            "/usr/local/lib/python3.6/dist-packages/sklearn/linear_model/logistic.py:432: FutureWarning: Default solver will be changed to 'lbfgs' in 0.22. Specify a solver to silence this warning.\n",
            "  FutureWarning)\n",
            "/usr/local/lib/python3.6/dist-packages/sklearn/linear_model/logistic.py:469: FutureWarning: Default multi_class will be changed to 'auto' in 0.22. Specify the multi_class option to silence this warning.\n",
            "  \"this warning.\", FutureWarning)\n",
            "/usr/local/lib/python3.6/dist-packages/ipykernel_launcher.py:17: SettingWithCopyWarning: \n",
            "A value is trying to be set on a copy of a slice from a DataFrame\n",
            "\n",
            "See the caveats in the documentation: http://pandas.pydata.org/pandas-docs/stable/user_guide/indexing.html#returning-a-view-versus-a-copy\n"
          ],
          "name": "stderr"
        }
      ]
    },
    {
      "cell_type": "code",
      "metadata": {
        "id": "vjAos8wx7AwB",
        "colab_type": "code",
        "outputId": "cf4696a3-7493-4dea-d113-0f4f118b788c",
        "colab": {
          "base_uri": "https://localhost:8080/",
          "height": 1000
        }
      },
      "source": [
        "#adaboosting classifier\n",
        "abc.fit(train_x,train_y)\n",
        "predicted=abc.predict(val_x)\n",
        "predicted_proba=abc.predict_proba(val_x)\n",
        "from sklearn.metrics import confusion_matrix,classification_report,r2_score,auc\n",
        "# print(confusion_matrix(predicted,val_y))\n",
        "# print(classification_report(predicted,val_y))\n",
        "\n",
        "# print(r2_score(predicted,val_y))\n",
        "#now training on the full dataset\n",
        "abc.fit(train,Y_train)\n",
        "predicted_final=abc.predict(test)\n",
        "\n",
        "id_code=list(id_code)\n",
        "predicted_final=list(predicted_final)\n",
        "submit_abc=pd.DataFrame(list(zip(id_code,predicted_final)),columns=[\"id_code\",\"target\"])\n",
        "submit_abc.target[submit_abc.target==0]='low'\n",
        "submit_abc.target[submit_abc.target==1]='medium'\n",
        "submit_abc.target[submit_abc.target==2]='high'\n",
        "submit_abc.to_csv(\"submit_abc_stn.csv\",index=False)\n",
        "\n"
      ],
      "execution_count": 323,
      "outputs": [
        {
          "output_type": "stream",
          "text": [
            "/usr/local/lib/python3.6/dist-packages/sklearn/ensemble/forest.py:245: FutureWarning: The default value of n_estimators will change from 10 in version 0.20 to 100 in 0.22.\n",
            "  \"10 in version 0.20 to 100 in 0.22.\", FutureWarning)\n",
            "/usr/local/lib/python3.6/dist-packages/sklearn/ensemble/forest.py:245: FutureWarning: The default value of n_estimators will change from 10 in version 0.20 to 100 in 0.22.\n",
            "  \"10 in version 0.20 to 100 in 0.22.\", FutureWarning)\n",
            "/usr/local/lib/python3.6/dist-packages/sklearn/ensemble/forest.py:245: FutureWarning: The default value of n_estimators will change from 10 in version 0.20 to 100 in 0.22.\n",
            "  \"10 in version 0.20 to 100 in 0.22.\", FutureWarning)\n",
            "/usr/local/lib/python3.6/dist-packages/sklearn/ensemble/forest.py:245: FutureWarning: The default value of n_estimators will change from 10 in version 0.20 to 100 in 0.22.\n",
            "  \"10 in version 0.20 to 100 in 0.22.\", FutureWarning)\n",
            "/usr/local/lib/python3.6/dist-packages/sklearn/ensemble/forest.py:245: FutureWarning: The default value of n_estimators will change from 10 in version 0.20 to 100 in 0.22.\n",
            "  \"10 in version 0.20 to 100 in 0.22.\", FutureWarning)\n",
            "/usr/local/lib/python3.6/dist-packages/sklearn/ensemble/forest.py:245: FutureWarning: The default value of n_estimators will change from 10 in version 0.20 to 100 in 0.22.\n",
            "  \"10 in version 0.20 to 100 in 0.22.\", FutureWarning)\n",
            "/usr/local/lib/python3.6/dist-packages/sklearn/ensemble/forest.py:245: FutureWarning: The default value of n_estimators will change from 10 in version 0.20 to 100 in 0.22.\n",
            "  \"10 in version 0.20 to 100 in 0.22.\", FutureWarning)\n",
            "/usr/local/lib/python3.6/dist-packages/sklearn/ensemble/forest.py:245: FutureWarning: The default value of n_estimators will change from 10 in version 0.20 to 100 in 0.22.\n",
            "  \"10 in version 0.20 to 100 in 0.22.\", FutureWarning)\n",
            "/usr/local/lib/python3.6/dist-packages/sklearn/ensemble/forest.py:245: FutureWarning: The default value of n_estimators will change from 10 in version 0.20 to 100 in 0.22.\n",
            "  \"10 in version 0.20 to 100 in 0.22.\", FutureWarning)\n",
            "/usr/local/lib/python3.6/dist-packages/sklearn/ensemble/forest.py:245: FutureWarning: The default value of n_estimators will change from 10 in version 0.20 to 100 in 0.22.\n",
            "  \"10 in version 0.20 to 100 in 0.22.\", FutureWarning)\n",
            "/usr/local/lib/python3.6/dist-packages/sklearn/ensemble/forest.py:245: FutureWarning: The default value of n_estimators will change from 10 in version 0.20 to 100 in 0.22.\n",
            "  \"10 in version 0.20 to 100 in 0.22.\", FutureWarning)\n",
            "/usr/local/lib/python3.6/dist-packages/sklearn/ensemble/forest.py:245: FutureWarning: The default value of n_estimators will change from 10 in version 0.20 to 100 in 0.22.\n",
            "  \"10 in version 0.20 to 100 in 0.22.\", FutureWarning)\n",
            "/usr/local/lib/python3.6/dist-packages/sklearn/ensemble/forest.py:245: FutureWarning: The default value of n_estimators will change from 10 in version 0.20 to 100 in 0.22.\n",
            "  \"10 in version 0.20 to 100 in 0.22.\", FutureWarning)\n",
            "/usr/local/lib/python3.6/dist-packages/sklearn/ensemble/forest.py:245: FutureWarning: The default value of n_estimators will change from 10 in version 0.20 to 100 in 0.22.\n",
            "  \"10 in version 0.20 to 100 in 0.22.\", FutureWarning)\n",
            "/usr/local/lib/python3.6/dist-packages/sklearn/ensemble/forest.py:245: FutureWarning: The default value of n_estimators will change from 10 in version 0.20 to 100 in 0.22.\n",
            "  \"10 in version 0.20 to 100 in 0.22.\", FutureWarning)\n",
            "/usr/local/lib/python3.6/dist-packages/sklearn/ensemble/forest.py:245: FutureWarning: The default value of n_estimators will change from 10 in version 0.20 to 100 in 0.22.\n",
            "  \"10 in version 0.20 to 100 in 0.22.\", FutureWarning)\n",
            "/usr/local/lib/python3.6/dist-packages/sklearn/ensemble/forest.py:245: FutureWarning: The default value of n_estimators will change from 10 in version 0.20 to 100 in 0.22.\n",
            "  \"10 in version 0.20 to 100 in 0.22.\", FutureWarning)\n",
            "/usr/local/lib/python3.6/dist-packages/sklearn/ensemble/forest.py:245: FutureWarning: The default value of n_estimators will change from 10 in version 0.20 to 100 in 0.22.\n",
            "  \"10 in version 0.20 to 100 in 0.22.\", FutureWarning)\n",
            "/usr/local/lib/python3.6/dist-packages/sklearn/ensemble/forest.py:245: FutureWarning: The default value of n_estimators will change from 10 in version 0.20 to 100 in 0.22.\n",
            "  \"10 in version 0.20 to 100 in 0.22.\", FutureWarning)\n",
            "/usr/local/lib/python3.6/dist-packages/sklearn/ensemble/forest.py:245: FutureWarning: The default value of n_estimators will change from 10 in version 0.20 to 100 in 0.22.\n",
            "  \"10 in version 0.20 to 100 in 0.22.\", FutureWarning)\n",
            "/usr/local/lib/python3.6/dist-packages/sklearn/ensemble/forest.py:245: FutureWarning: The default value of n_estimators will change from 10 in version 0.20 to 100 in 0.22.\n",
            "  \"10 in version 0.20 to 100 in 0.22.\", FutureWarning)\n",
            "/usr/local/lib/python3.6/dist-packages/sklearn/ensemble/forest.py:245: FutureWarning: The default value of n_estimators will change from 10 in version 0.20 to 100 in 0.22.\n",
            "  \"10 in version 0.20 to 100 in 0.22.\", FutureWarning)\n",
            "/usr/local/lib/python3.6/dist-packages/sklearn/ensemble/forest.py:245: FutureWarning: The default value of n_estimators will change from 10 in version 0.20 to 100 in 0.22.\n",
            "  \"10 in version 0.20 to 100 in 0.22.\", FutureWarning)\n",
            "/usr/local/lib/python3.6/dist-packages/sklearn/ensemble/forest.py:245: FutureWarning: The default value of n_estimators will change from 10 in version 0.20 to 100 in 0.22.\n",
            "  \"10 in version 0.20 to 100 in 0.22.\", FutureWarning)\n",
            "/usr/local/lib/python3.6/dist-packages/sklearn/ensemble/forest.py:245: FutureWarning: The default value of n_estimators will change from 10 in version 0.20 to 100 in 0.22.\n",
            "  \"10 in version 0.20 to 100 in 0.22.\", FutureWarning)\n",
            "/usr/local/lib/python3.6/dist-packages/sklearn/ensemble/forest.py:245: FutureWarning: The default value of n_estimators will change from 10 in version 0.20 to 100 in 0.22.\n",
            "  \"10 in version 0.20 to 100 in 0.22.\", FutureWarning)\n",
            "/usr/local/lib/python3.6/dist-packages/sklearn/ensemble/forest.py:245: FutureWarning: The default value of n_estimators will change from 10 in version 0.20 to 100 in 0.22.\n",
            "  \"10 in version 0.20 to 100 in 0.22.\", FutureWarning)\n",
            "/usr/local/lib/python3.6/dist-packages/sklearn/ensemble/forest.py:245: FutureWarning: The default value of n_estimators will change from 10 in version 0.20 to 100 in 0.22.\n",
            "  \"10 in version 0.20 to 100 in 0.22.\", FutureWarning)\n",
            "/usr/local/lib/python3.6/dist-packages/sklearn/ensemble/forest.py:245: FutureWarning: The default value of n_estimators will change from 10 in version 0.20 to 100 in 0.22.\n",
            "  \"10 in version 0.20 to 100 in 0.22.\", FutureWarning)\n",
            "/usr/local/lib/python3.6/dist-packages/sklearn/ensemble/forest.py:245: FutureWarning: The default value of n_estimators will change from 10 in version 0.20 to 100 in 0.22.\n",
            "  \"10 in version 0.20 to 100 in 0.22.\", FutureWarning)\n",
            "/usr/local/lib/python3.6/dist-packages/sklearn/ensemble/forest.py:245: FutureWarning: The default value of n_estimators will change from 10 in version 0.20 to 100 in 0.22.\n",
            "  \"10 in version 0.20 to 100 in 0.22.\", FutureWarning)\n",
            "/usr/local/lib/python3.6/dist-packages/sklearn/ensemble/forest.py:245: FutureWarning: The default value of n_estimators will change from 10 in version 0.20 to 100 in 0.22.\n",
            "  \"10 in version 0.20 to 100 in 0.22.\", FutureWarning)\n",
            "/usr/local/lib/python3.6/dist-packages/sklearn/ensemble/forest.py:245: FutureWarning: The default value of n_estimators will change from 10 in version 0.20 to 100 in 0.22.\n",
            "  \"10 in version 0.20 to 100 in 0.22.\", FutureWarning)\n",
            "/usr/local/lib/python3.6/dist-packages/sklearn/ensemble/forest.py:245: FutureWarning: The default value of n_estimators will change from 10 in version 0.20 to 100 in 0.22.\n",
            "  \"10 in version 0.20 to 100 in 0.22.\", FutureWarning)\n",
            "/usr/local/lib/python3.6/dist-packages/sklearn/ensemble/forest.py:245: FutureWarning: The default value of n_estimators will change from 10 in version 0.20 to 100 in 0.22.\n",
            "  \"10 in version 0.20 to 100 in 0.22.\", FutureWarning)\n",
            "/usr/local/lib/python3.6/dist-packages/sklearn/ensemble/forest.py:245: FutureWarning: The default value of n_estimators will change from 10 in version 0.20 to 100 in 0.22.\n",
            "  \"10 in version 0.20 to 100 in 0.22.\", FutureWarning)\n",
            "/usr/local/lib/python3.6/dist-packages/sklearn/ensemble/forest.py:245: FutureWarning: The default value of n_estimators will change from 10 in version 0.20 to 100 in 0.22.\n",
            "  \"10 in version 0.20 to 100 in 0.22.\", FutureWarning)\n",
            "/usr/local/lib/python3.6/dist-packages/sklearn/ensemble/forest.py:245: FutureWarning: The default value of n_estimators will change from 10 in version 0.20 to 100 in 0.22.\n",
            "  \"10 in version 0.20 to 100 in 0.22.\", FutureWarning)\n",
            "/usr/local/lib/python3.6/dist-packages/sklearn/ensemble/forest.py:245: FutureWarning: The default value of n_estimators will change from 10 in version 0.20 to 100 in 0.22.\n",
            "  \"10 in version 0.20 to 100 in 0.22.\", FutureWarning)\n",
            "/usr/local/lib/python3.6/dist-packages/sklearn/ensemble/forest.py:245: FutureWarning: The default value of n_estimators will change from 10 in version 0.20 to 100 in 0.22.\n",
            "  \"10 in version 0.20 to 100 in 0.22.\", FutureWarning)\n",
            "/usr/local/lib/python3.6/dist-packages/sklearn/ensemble/forest.py:245: FutureWarning: The default value of n_estimators will change from 10 in version 0.20 to 100 in 0.22.\n",
            "  \"10 in version 0.20 to 100 in 0.22.\", FutureWarning)\n",
            "/usr/local/lib/python3.6/dist-packages/sklearn/ensemble/forest.py:245: FutureWarning: The default value of n_estimators will change from 10 in version 0.20 to 100 in 0.22.\n",
            "  \"10 in version 0.20 to 100 in 0.22.\", FutureWarning)\n",
            "/usr/local/lib/python3.6/dist-packages/sklearn/ensemble/forest.py:245: FutureWarning: The default value of n_estimators will change from 10 in version 0.20 to 100 in 0.22.\n",
            "  \"10 in version 0.20 to 100 in 0.22.\", FutureWarning)\n",
            "/usr/local/lib/python3.6/dist-packages/sklearn/ensemble/forest.py:245: FutureWarning: The default value of n_estimators will change from 10 in version 0.20 to 100 in 0.22.\n",
            "  \"10 in version 0.20 to 100 in 0.22.\", FutureWarning)\n",
            "/usr/local/lib/python3.6/dist-packages/sklearn/ensemble/forest.py:245: FutureWarning: The default value of n_estimators will change from 10 in version 0.20 to 100 in 0.22.\n",
            "  \"10 in version 0.20 to 100 in 0.22.\", FutureWarning)\n",
            "/usr/local/lib/python3.6/dist-packages/sklearn/ensemble/forest.py:245: FutureWarning: The default value of n_estimators will change from 10 in version 0.20 to 100 in 0.22.\n",
            "  \"10 in version 0.20 to 100 in 0.22.\", FutureWarning)\n",
            "/usr/local/lib/python3.6/dist-packages/sklearn/ensemble/forest.py:245: FutureWarning: The default value of n_estimators will change from 10 in version 0.20 to 100 in 0.22.\n",
            "  \"10 in version 0.20 to 100 in 0.22.\", FutureWarning)\n",
            "/usr/local/lib/python3.6/dist-packages/sklearn/ensemble/forest.py:245: FutureWarning: The default value of n_estimators will change from 10 in version 0.20 to 100 in 0.22.\n",
            "  \"10 in version 0.20 to 100 in 0.22.\", FutureWarning)\n",
            "/usr/local/lib/python3.6/dist-packages/sklearn/ensemble/forest.py:245: FutureWarning: The default value of n_estimators will change from 10 in version 0.20 to 100 in 0.22.\n",
            "  \"10 in version 0.20 to 100 in 0.22.\", FutureWarning)\n",
            "/usr/local/lib/python3.6/dist-packages/sklearn/ensemble/forest.py:245: FutureWarning: The default value of n_estimators will change from 10 in version 0.20 to 100 in 0.22.\n",
            "  \"10 in version 0.20 to 100 in 0.22.\", FutureWarning)\n",
            "/usr/local/lib/python3.6/dist-packages/sklearn/ensemble/forest.py:245: FutureWarning: The default value of n_estimators will change from 10 in version 0.20 to 100 in 0.22.\n",
            "  \"10 in version 0.20 to 100 in 0.22.\", FutureWarning)\n",
            "/usr/local/lib/python3.6/dist-packages/sklearn/ensemble/forest.py:245: FutureWarning: The default value of n_estimators will change from 10 in version 0.20 to 100 in 0.22.\n",
            "  \"10 in version 0.20 to 100 in 0.22.\", FutureWarning)\n",
            "/usr/local/lib/python3.6/dist-packages/sklearn/ensemble/forest.py:245: FutureWarning: The default value of n_estimators will change from 10 in version 0.20 to 100 in 0.22.\n",
            "  \"10 in version 0.20 to 100 in 0.22.\", FutureWarning)\n",
            "/usr/local/lib/python3.6/dist-packages/sklearn/ensemble/forest.py:245: FutureWarning: The default value of n_estimators will change from 10 in version 0.20 to 100 in 0.22.\n",
            "  \"10 in version 0.20 to 100 in 0.22.\", FutureWarning)\n",
            "/usr/local/lib/python3.6/dist-packages/sklearn/ensemble/forest.py:245: FutureWarning: The default value of n_estimators will change from 10 in version 0.20 to 100 in 0.22.\n",
            "  \"10 in version 0.20 to 100 in 0.22.\", FutureWarning)\n",
            "/usr/local/lib/python3.6/dist-packages/sklearn/ensemble/forest.py:245: FutureWarning: The default value of n_estimators will change from 10 in version 0.20 to 100 in 0.22.\n",
            "  \"10 in version 0.20 to 100 in 0.22.\", FutureWarning)\n",
            "/usr/local/lib/python3.6/dist-packages/sklearn/ensemble/forest.py:245: FutureWarning: The default value of n_estimators will change from 10 in version 0.20 to 100 in 0.22.\n",
            "  \"10 in version 0.20 to 100 in 0.22.\", FutureWarning)\n",
            "/usr/local/lib/python3.6/dist-packages/sklearn/ensemble/forest.py:245: FutureWarning: The default value of n_estimators will change from 10 in version 0.20 to 100 in 0.22.\n",
            "  \"10 in version 0.20 to 100 in 0.22.\", FutureWarning)\n",
            "/usr/local/lib/python3.6/dist-packages/sklearn/ensemble/forest.py:245: FutureWarning: The default value of n_estimators will change from 10 in version 0.20 to 100 in 0.22.\n",
            "  \"10 in version 0.20 to 100 in 0.22.\", FutureWarning)\n",
            "/usr/local/lib/python3.6/dist-packages/sklearn/ensemble/forest.py:245: FutureWarning: The default value of n_estimators will change from 10 in version 0.20 to 100 in 0.22.\n",
            "  \"10 in version 0.20 to 100 in 0.22.\", FutureWarning)\n",
            "/usr/local/lib/python3.6/dist-packages/sklearn/ensemble/forest.py:245: FutureWarning: The default value of n_estimators will change from 10 in version 0.20 to 100 in 0.22.\n",
            "  \"10 in version 0.20 to 100 in 0.22.\", FutureWarning)\n",
            "/usr/local/lib/python3.6/dist-packages/sklearn/ensemble/forest.py:245: FutureWarning: The default value of n_estimators will change from 10 in version 0.20 to 100 in 0.22.\n",
            "  \"10 in version 0.20 to 100 in 0.22.\", FutureWarning)\n",
            "/usr/local/lib/python3.6/dist-packages/sklearn/ensemble/forest.py:245: FutureWarning: The default value of n_estimators will change from 10 in version 0.20 to 100 in 0.22.\n",
            "  \"10 in version 0.20 to 100 in 0.22.\", FutureWarning)\n",
            "/usr/local/lib/python3.6/dist-packages/sklearn/ensemble/forest.py:245: FutureWarning: The default value of n_estimators will change from 10 in version 0.20 to 100 in 0.22.\n",
            "  \"10 in version 0.20 to 100 in 0.22.\", FutureWarning)\n",
            "/usr/local/lib/python3.6/dist-packages/sklearn/ensemble/forest.py:245: FutureWarning: The default value of n_estimators will change from 10 in version 0.20 to 100 in 0.22.\n",
            "  \"10 in version 0.20 to 100 in 0.22.\", FutureWarning)\n",
            "/usr/local/lib/python3.6/dist-packages/sklearn/ensemble/forest.py:245: FutureWarning: The default value of n_estimators will change from 10 in version 0.20 to 100 in 0.22.\n",
            "  \"10 in version 0.20 to 100 in 0.22.\", FutureWarning)\n",
            "/usr/local/lib/python3.6/dist-packages/sklearn/ensemble/forest.py:245: FutureWarning: The default value of n_estimators will change from 10 in version 0.20 to 100 in 0.22.\n",
            "  \"10 in version 0.20 to 100 in 0.22.\", FutureWarning)\n",
            "/usr/local/lib/python3.6/dist-packages/sklearn/ensemble/forest.py:245: FutureWarning: The default value of n_estimators will change from 10 in version 0.20 to 100 in 0.22.\n",
            "  \"10 in version 0.20 to 100 in 0.22.\", FutureWarning)\n",
            "/usr/local/lib/python3.6/dist-packages/sklearn/ensemble/forest.py:245: FutureWarning: The default value of n_estimators will change from 10 in version 0.20 to 100 in 0.22.\n",
            "  \"10 in version 0.20 to 100 in 0.22.\", FutureWarning)\n",
            "/usr/local/lib/python3.6/dist-packages/sklearn/ensemble/forest.py:245: FutureWarning: The default value of n_estimators will change from 10 in version 0.20 to 100 in 0.22.\n",
            "  \"10 in version 0.20 to 100 in 0.22.\", FutureWarning)\n",
            "/usr/local/lib/python3.6/dist-packages/sklearn/ensemble/forest.py:245: FutureWarning: The default value of n_estimators will change from 10 in version 0.20 to 100 in 0.22.\n",
            "  \"10 in version 0.20 to 100 in 0.22.\", FutureWarning)\n",
            "/usr/local/lib/python3.6/dist-packages/sklearn/ensemble/forest.py:245: FutureWarning: The default value of n_estimators will change from 10 in version 0.20 to 100 in 0.22.\n",
            "  \"10 in version 0.20 to 100 in 0.22.\", FutureWarning)\n",
            "/usr/local/lib/python3.6/dist-packages/sklearn/ensemble/forest.py:245: FutureWarning: The default value of n_estimators will change from 10 in version 0.20 to 100 in 0.22.\n",
            "  \"10 in version 0.20 to 100 in 0.22.\", FutureWarning)\n",
            "/usr/local/lib/python3.6/dist-packages/sklearn/ensemble/forest.py:245: FutureWarning: The default value of n_estimators will change from 10 in version 0.20 to 100 in 0.22.\n",
            "  \"10 in version 0.20 to 100 in 0.22.\", FutureWarning)\n",
            "/usr/local/lib/python3.6/dist-packages/sklearn/ensemble/forest.py:245: FutureWarning: The default value of n_estimators will change from 10 in version 0.20 to 100 in 0.22.\n",
            "  \"10 in version 0.20 to 100 in 0.22.\", FutureWarning)\n",
            "/usr/local/lib/python3.6/dist-packages/sklearn/ensemble/forest.py:245: FutureWarning: The default value of n_estimators will change from 10 in version 0.20 to 100 in 0.22.\n",
            "  \"10 in version 0.20 to 100 in 0.22.\", FutureWarning)\n",
            "/usr/local/lib/python3.6/dist-packages/sklearn/ensemble/forest.py:245: FutureWarning: The default value of n_estimators will change from 10 in version 0.20 to 100 in 0.22.\n",
            "  \"10 in version 0.20 to 100 in 0.22.\", FutureWarning)\n",
            "/usr/local/lib/python3.6/dist-packages/sklearn/ensemble/forest.py:245: FutureWarning: The default value of n_estimators will change from 10 in version 0.20 to 100 in 0.22.\n",
            "  \"10 in version 0.20 to 100 in 0.22.\", FutureWarning)\n",
            "/usr/local/lib/python3.6/dist-packages/sklearn/ensemble/forest.py:245: FutureWarning: The default value of n_estimators will change from 10 in version 0.20 to 100 in 0.22.\n",
            "  \"10 in version 0.20 to 100 in 0.22.\", FutureWarning)\n",
            "/usr/local/lib/python3.6/dist-packages/sklearn/ensemble/forest.py:245: FutureWarning: The default value of n_estimators will change from 10 in version 0.20 to 100 in 0.22.\n",
            "  \"10 in version 0.20 to 100 in 0.22.\", FutureWarning)\n",
            "/usr/local/lib/python3.6/dist-packages/sklearn/ensemble/forest.py:245: FutureWarning: The default value of n_estimators will change from 10 in version 0.20 to 100 in 0.22.\n",
            "  \"10 in version 0.20 to 100 in 0.22.\", FutureWarning)\n",
            "/usr/local/lib/python3.6/dist-packages/sklearn/ensemble/forest.py:245: FutureWarning: The default value of n_estimators will change from 10 in version 0.20 to 100 in 0.22.\n",
            "  \"10 in version 0.20 to 100 in 0.22.\", FutureWarning)\n",
            "/usr/local/lib/python3.6/dist-packages/sklearn/ensemble/forest.py:245: FutureWarning: The default value of n_estimators will change from 10 in version 0.20 to 100 in 0.22.\n",
            "  \"10 in version 0.20 to 100 in 0.22.\", FutureWarning)\n",
            "/usr/local/lib/python3.6/dist-packages/sklearn/ensemble/forest.py:245: FutureWarning: The default value of n_estimators will change from 10 in version 0.20 to 100 in 0.22.\n",
            "  \"10 in version 0.20 to 100 in 0.22.\", FutureWarning)\n",
            "/usr/local/lib/python3.6/dist-packages/sklearn/ensemble/forest.py:245: FutureWarning: The default value of n_estimators will change from 10 in version 0.20 to 100 in 0.22.\n",
            "  \"10 in version 0.20 to 100 in 0.22.\", FutureWarning)\n",
            "/usr/local/lib/python3.6/dist-packages/sklearn/ensemble/forest.py:245: FutureWarning: The default value of n_estimators will change from 10 in version 0.20 to 100 in 0.22.\n",
            "  \"10 in version 0.20 to 100 in 0.22.\", FutureWarning)\n",
            "/usr/local/lib/python3.6/dist-packages/sklearn/ensemble/forest.py:245: FutureWarning: The default value of n_estimators will change from 10 in version 0.20 to 100 in 0.22.\n",
            "  \"10 in version 0.20 to 100 in 0.22.\", FutureWarning)\n",
            "/usr/local/lib/python3.6/dist-packages/sklearn/ensemble/forest.py:245: FutureWarning: The default value of n_estimators will change from 10 in version 0.20 to 100 in 0.22.\n",
            "  \"10 in version 0.20 to 100 in 0.22.\", FutureWarning)\n",
            "/usr/local/lib/python3.6/dist-packages/sklearn/ensemble/forest.py:245: FutureWarning: The default value of n_estimators will change from 10 in version 0.20 to 100 in 0.22.\n",
            "  \"10 in version 0.20 to 100 in 0.22.\", FutureWarning)\n",
            "/usr/local/lib/python3.6/dist-packages/sklearn/ensemble/forest.py:245: FutureWarning: The default value of n_estimators will change from 10 in version 0.20 to 100 in 0.22.\n",
            "  \"10 in version 0.20 to 100 in 0.22.\", FutureWarning)\n",
            "/usr/local/lib/python3.6/dist-packages/sklearn/ensemble/forest.py:245: FutureWarning: The default value of n_estimators will change from 10 in version 0.20 to 100 in 0.22.\n",
            "  \"10 in version 0.20 to 100 in 0.22.\", FutureWarning)\n",
            "/usr/local/lib/python3.6/dist-packages/sklearn/ensemble/forest.py:245: FutureWarning: The default value of n_estimators will change from 10 in version 0.20 to 100 in 0.22.\n",
            "  \"10 in version 0.20 to 100 in 0.22.\", FutureWarning)\n",
            "/usr/local/lib/python3.6/dist-packages/sklearn/ensemble/forest.py:245: FutureWarning: The default value of n_estimators will change from 10 in version 0.20 to 100 in 0.22.\n",
            "  \"10 in version 0.20 to 100 in 0.22.\", FutureWarning)\n",
            "/usr/local/lib/python3.6/dist-packages/sklearn/ensemble/forest.py:245: FutureWarning: The default value of n_estimators will change from 10 in version 0.20 to 100 in 0.22.\n",
            "  \"10 in version 0.20 to 100 in 0.22.\", FutureWarning)\n",
            "/usr/local/lib/python3.6/dist-packages/sklearn/ensemble/forest.py:245: FutureWarning: The default value of n_estimators will change from 10 in version 0.20 to 100 in 0.22.\n",
            "  \"10 in version 0.20 to 100 in 0.22.\", FutureWarning)\n",
            "/usr/local/lib/python3.6/dist-packages/sklearn/ensemble/forest.py:245: FutureWarning: The default value of n_estimators will change from 10 in version 0.20 to 100 in 0.22.\n",
            "  \"10 in version 0.20 to 100 in 0.22.\", FutureWarning)\n",
            "/usr/local/lib/python3.6/dist-packages/sklearn/ensemble/forest.py:245: FutureWarning: The default value of n_estimators will change from 10 in version 0.20 to 100 in 0.22.\n",
            "  \"10 in version 0.20 to 100 in 0.22.\", FutureWarning)\n",
            "/usr/local/lib/python3.6/dist-packages/sklearn/ensemble/forest.py:245: FutureWarning: The default value of n_estimators will change from 10 in version 0.20 to 100 in 0.22.\n",
            "  \"10 in version 0.20 to 100 in 0.22.\", FutureWarning)\n",
            "/usr/local/lib/python3.6/dist-packages/sklearn/ensemble/forest.py:245: FutureWarning: The default value of n_estimators will change from 10 in version 0.20 to 100 in 0.22.\n",
            "  \"10 in version 0.20 to 100 in 0.22.\", FutureWarning)\n",
            "/usr/local/lib/python3.6/dist-packages/sklearn/ensemble/forest.py:245: FutureWarning: The default value of n_estimators will change from 10 in version 0.20 to 100 in 0.22.\n",
            "  \"10 in version 0.20 to 100 in 0.22.\", FutureWarning)\n",
            "/usr/local/lib/python3.6/dist-packages/ipykernel_launcher.py:16: SettingWithCopyWarning: \n",
            "A value is trying to be set on a copy of a slice from a DataFrame\n",
            "\n",
            "See the caveats in the documentation: http://pandas.pydata.org/pandas-docs/stable/user_guide/indexing.html#returning-a-view-versus-a-copy\n",
            "  app.launch_new_instance()\n"
          ],
          "name": "stderr"
        }
      ]
    },
    {
      "cell_type": "code",
      "metadata": {
        "id": "OYsu-n126v7u",
        "colab_type": "code",
        "outputId": "370555ad-20e8-4152-d912-9e808eb996b7",
        "colab": {
          "base_uri": "https://localhost:8080/",
          "height": 129
        }
      },
      "source": [
        "#gradientboosting classifier\n",
        "gbc.fit(train_x,train_y)\n",
        "predicted=gbc.predict(val_x)\n",
        "predicted_proba=gbc.predict_proba(val_x)\n",
        "#print(confusion_matrix(predicted,val_y))\n",
        "#print(classification_report(predicted,val_y))\n",
        "\n",
        "#print(r2_score(predicted,val_y))\n",
        "\n",
        "#now training on the full dataset\n",
        "gbc.fit(train,Y_train)\n",
        "predicted_final=gbc.predict(test)\n",
        "\n",
        "id_code=list(id_code)\n",
        "predicted_final=list(predicted_final)\n",
        "submit_gbc=pd.DataFrame(list(zip(id_code,predicted_final)),columns=[\"id_code\",\"target\"])\n",
        "submit_gbc.target[submit_gbc.target==0]='low'\n",
        "submit_gbc.target[submit_gbc.target==1]='medium'\n",
        "submit_gbc.target[submit_gbc.target==2]='high'\n",
        "submit_gbc.to_csv(\"submit_gbc_stn.csv\",index=False)\n"
      ],
      "execution_count": 325,
      "outputs": [
        {
          "output_type": "stream",
          "text": [
            "/usr/local/lib/python3.6/dist-packages/ipykernel_launcher.py:16: SettingWithCopyWarning: \n",
            "A value is trying to be set on a copy of a slice from a DataFrame\n",
            "\n",
            "See the caveats in the documentation: http://pandas.pydata.org/pandas-docs/stable/user_guide/indexing.html#returning-a-view-versus-a-copy\n",
            "  app.launch_new_instance()\n"
          ],
          "name": "stderr"
        }
      ]
    },
    {
      "cell_type": "code",
      "metadata": {
        "id": "meW-94TC2_rS",
        "colab_type": "code",
        "outputId": "25c59b0a-1357-4d2e-8554-e643e3b67606",
        "colab": {
          "base_uri": "https://localhost:8080/",
          "height": 166
        }
      },
      "source": [
        "#extratrees classifier\n",
        "etc.fit(train_x,train_y)\n",
        "predicted=etc.predict(val_x)\n",
        "predicted_proba=etc.predict_proba(val_x)\n",
        "from sklearn.metrics import confusion_matrix,classification_report,r2_score,auc\n",
        "#print(confusion_matrix(predicted,val_y))\n",
        "#print(classification_report(predicted,val_y))\n",
        "\n",
        "#print(r2_score(predicted,val_y))\n",
        "#now training on the full dataset\n",
        "etc.fit(train,Y_train)\n",
        "predicted_final=etc.predict(test)\n",
        "\n",
        "id_code=list(id_code)\n",
        "predicted_final=list(predicted_final)\n",
        "submit_etc=pd.DataFrame(list(zip(id_code,predicted_final)),columns=[\"id_code\",\"target\"])\n",
        "submit_etc.target[submit_etc.target==0]='low'\n",
        "submit_etc.target[submit_etc.target==1]='medium'\n",
        "submit_etc.target[submit_etc.target==2]='high'\n",
        "submit_etc.to_csv(\"submit_etc_stn.csv\",index=False)\n",
        "\n"
      ],
      "execution_count": 326,
      "outputs": [
        {
          "output_type": "stream",
          "text": [
            "/usr/local/lib/python3.6/dist-packages/sklearn/ensemble/forest.py:245: FutureWarning: The default value of n_estimators will change from 10 in version 0.20 to 100 in 0.22.\n",
            "  \"10 in version 0.20 to 100 in 0.22.\", FutureWarning)\n",
            "/usr/local/lib/python3.6/dist-packages/ipykernel_launcher.py:16: SettingWithCopyWarning: \n",
            "A value is trying to be set on a copy of a slice from a DataFrame\n",
            "\n",
            "See the caveats in the documentation: http://pandas.pydata.org/pandas-docs/stable/user_guide/indexing.html#returning-a-view-versus-a-copy\n",
            "  app.launch_new_instance()\n"
          ],
          "name": "stderr"
        }
      ]
    },
    {
      "cell_type": "code",
      "metadata": {
        "id": "PtX1yecE4pU0",
        "colab_type": "code",
        "outputId": "f1a100d5-788c-458b-9256-42118970d8cd",
        "colab": {
          "base_uri": "https://localhost:8080/",
          "height": 147
        }
      },
      "source": [
        "\n",
        "#random forest classifier\n",
        "\n",
        "rfc.fit(train_x,train_y)\n",
        "predicted=rfc.predict(val_x)\n",
        "predicted_proba=rfc.predict_proba(val_x)\n",
        "#print(confusion_matrix(predicted,val_y))\n",
        "#print(classification_report(predicted,val_y))\n",
        "\n",
        "#print(r2_score(predicted,val_y))\n",
        "\n",
        "#now training on the full dataset\n",
        "rfc.fit(train,Y_train)\n",
        "predicted_final=rfc.predict(test)\n",
        "\n",
        "id_code=list(id_code)\n",
        "predicted_final=list(predicted_final)\n",
        "submit_rfc=pd.DataFrame(list(zip(id_code,predicted_final)),columns=[\"id_code\",\"target\"])\n",
        "submit_rfc.target[submit_rfc.target==0]='low'\n",
        "submit_rfc.target[submit_rfc.target==1]='medium'\n",
        "submit_rfc.target[submit_rfc.target==2]='high'\n",
        "submit_rfc.to_csv(\"submit_rfc_stn.csv\",index=False)\n",
        "\n"
      ],
      "execution_count": 327,
      "outputs": [
        {
          "output_type": "stream",
          "text": [
            "/usr/local/lib/python3.6/dist-packages/sklearn/ensemble/forest.py:245: FutureWarning: The default value of n_estimators will change from 10 in version 0.20 to 100 in 0.22.\n",
            "  \"10 in version 0.20 to 100 in 0.22.\", FutureWarning)\n",
            "/usr/local/lib/python3.6/dist-packages/ipykernel_launcher.py:17: SettingWithCopyWarning: \n",
            "A value is trying to be set on a copy of a slice from a DataFrame\n",
            "\n",
            "See the caveats in the documentation: http://pandas.pydata.org/pandas-docs/stable/user_guide/indexing.html#returning-a-view-versus-a-copy\n"
          ],
          "name": "stderr"
        }
      ]
    },
    {
      "cell_type": "markdown",
      "metadata": {
        "id": "vikessH1B-K7",
        "colab_type": "text"
      },
      "source": [
        "**USING THE MOST IMPORTANT PARAMETERS IN THE MODEL MAKING PROCESS.**"
      ]
    },
    {
      "cell_type": "code",
      "metadata": {
        "id": "TiMr8-4sLVfq",
        "colab_type": "code",
        "colab": {}
      },
      "source": [
        "\n",
        "#lets go with the modelling process now\n",
        "etc=ExtraTreesClassifier(class_weight='balanced')\n",
        "dtc=DecisionTreeClassifier(class_weight='balanced')\n",
        "rfc=RandomForestClassifier(class_weight='balanced')\n",
        "gbc=GradientBoostingClassifier()\n",
        "abc=AdaBoostClassifier(ExtraTreesClassifier(class_weight='balanced'))\n",
        "lr=LogisticRegression(class_weight='balanced')"
      ],
      "execution_count": 0,
      "outputs": []
    },
    {
      "cell_type": "code",
      "metadata": {
        "id": "fWT8ciejE00k",
        "colab_type": "code",
        "colab": {}
      },
      "source": [
        "#SPLITTING THE MOST IMPORTNT FEATURES INTO TRAIN AND VAL\n",
        "seed=77\n",
        "#splittig the normal data into train and validation\n",
        "train_x,val_x,train_y,val_y=train_test_split(df_important_features,Y_train,test_size=.30,random_state=seed)"
      ],
      "execution_count": 0,
      "outputs": []
    },
    {
      "cell_type": "code",
      "metadata": {
        "id": "pCBLGRJcB8t7",
        "colab_type": "code",
        "colab": {
          "base_uri": "https://localhost:8080/",
          "height": 515
        },
        "outputId": "3e772da3-6674-4b95-a001-b4c77e3e3940"
      },
      "source": [
        "#logistic classifier with most_important features\n",
        "lr.fit(train_x,train_y)\n",
        "predicted=lr.predict(val_x)\n",
        "predicted_proba=lr.predict_proba(val_x)\n",
        "from sklearn.metrics import confusion_matrix,classification_report,r2_score,auc\n",
        "print(confusion_matrix(predicted,val_y))\n",
        "print(classification_report(predicted,val_y))\n",
        "\n",
        "print(r2_score(predicted,val_y))\n",
        "\n",
        "#now training on the full dataset\n",
        "lr.fit(df_important_features,Y_train)\n",
        "predicted_final=lr.predict(df_important_features_test)\n",
        "\n",
        "id_code=list(id_code)\n",
        "predicted_final=list(predicted_final)\n",
        "submit_lr_MI=pd.DataFrame(list(zip(id_code,predicted_final)),columns=[\"id_code\",\"target\"])\n",
        "submit_lr_MI.target[submit_lr_MI.target==0]='low'\n",
        "submit_lr_MI.target[submit_lr_MI.target==1]='medium'\n",
        "submit_lr_MI.target[submit_lr_MI.target==2]='high'\n",
        "submit_lr_MI.to_csv(\"submit_lr_MI.csv\",index=False)\n"
      ],
      "execution_count": 71,
      "outputs": [
        {
          "output_type": "stream",
          "text": [
            "[[100  40  22]\n",
            " [ 23  23  26]\n",
            " [ 42  34  66]]\n",
            "              precision    recall  f1-score   support\n",
            "\n",
            "           0       0.61      0.62      0.61       162\n",
            "           1       0.24      0.32      0.27        72\n",
            "           2       0.58      0.46      0.52       142\n",
            "\n",
            "    accuracy                           0.50       376\n",
            "   macro avg       0.47      0.47      0.47       376\n",
            "weighted avg       0.53      0.50      0.51       376\n",
            "\n",
            "-0.251088636044388\n"
          ],
          "name": "stdout"
        },
        {
          "output_type": "stream",
          "text": [
            "/usr/local/lib/python3.6/dist-packages/sklearn/linear_model/logistic.py:432: FutureWarning: Default solver will be changed to 'lbfgs' in 0.22. Specify a solver to silence this warning.\n",
            "  FutureWarning)\n",
            "/usr/local/lib/python3.6/dist-packages/sklearn/linear_model/logistic.py:469: FutureWarning: Default multi_class will be changed to 'auto' in 0.22. Specify the multi_class option to silence this warning.\n",
            "  \"this warning.\", FutureWarning)\n",
            "/usr/local/lib/python3.6/dist-packages/sklearn/linear_model/logistic.py:432: FutureWarning: Default solver will be changed to 'lbfgs' in 0.22. Specify a solver to silence this warning.\n",
            "  FutureWarning)\n",
            "/usr/local/lib/python3.6/dist-packages/sklearn/linear_model/logistic.py:469: FutureWarning: Default multi_class will be changed to 'auto' in 0.22. Specify the multi_class option to silence this warning.\n",
            "  \"this warning.\", FutureWarning)\n",
            "/usr/local/lib/python3.6/dist-packages/ipykernel_launcher.py:17: SettingWithCopyWarning: \n",
            "A value is trying to be set on a copy of a slice from a DataFrame\n",
            "\n",
            "See the caveats in the documentation: http://pandas.pydata.org/pandas-docs/stable/user_guide/indexing.html#returning-a-view-versus-a-copy\n"
          ],
          "name": "stderr"
        }
      ]
    },
    {
      "cell_type": "code",
      "metadata": {
        "id": "6Fxj0TmnF9zP",
        "colab_type": "code",
        "colab": {
          "base_uri": "https://localhost:8080/",
          "height": 1000
        },
        "outputId": "8dd12ac5-260b-43e7-bcb9-433a8dd78514"
      },
      "source": [
        "#adaboosting classifier\n",
        "abc.fit(train_x,train_y)\n",
        "predicted=abc.predict(val_x)\n",
        "predicted_proba=abc.predict_proba(val_x)\n",
        "from sklearn.metrics import confusion_matrix,classification_report,r2_score,auc\n",
        "print(confusion_matrix(predicted,val_y))\n",
        "print(classification_report(predicted,val_y))\n",
        "\n",
        "print(r2_score(predicted,val_y))\n",
        "#now training on the full dataset\n",
        "abc.fit(df_important_features,Y_train)\n",
        "predicted_final=abc.predict(df_important_features_test)\n",
        "\n",
        "id_code=list(id_code)\n",
        "predicted_final=list(predicted_final)\n",
        "submit_abc_MI=pd.DataFrame(list(zip(id_code,predicted_final)),columns=[\"id_code\",\"target\"])\n",
        "submit_abc_MI.target[submit_abc_MI.target==0]='low'\n",
        "submit_abc_MI.target[submit_abc_MI.target==1]='medium'\n",
        "submit_abc_MI.target[submit_abc_MI.target==2]='high'\n",
        "submit_abc_MI.to_csv(\"submit_abc_MI.csv\",index=False)\n",
        "\n"
      ],
      "execution_count": 72,
      "outputs": [
        {
          "output_type": "stream",
          "text": [
            "/usr/local/lib/python3.6/dist-packages/sklearn/ensemble/forest.py:245: FutureWarning: The default value of n_estimators will change from 10 in version 0.20 to 100 in 0.22.\n",
            "  \"10 in version 0.20 to 100 in 0.22.\", FutureWarning)\n",
            "/usr/local/lib/python3.6/dist-packages/sklearn/ensemble/forest.py:245: FutureWarning: The default value of n_estimators will change from 10 in version 0.20 to 100 in 0.22.\n",
            "  \"10 in version 0.20 to 100 in 0.22.\", FutureWarning)\n",
            "/usr/local/lib/python3.6/dist-packages/sklearn/ensemble/forest.py:245: FutureWarning: The default value of n_estimators will change from 10 in version 0.20 to 100 in 0.22.\n",
            "  \"10 in version 0.20 to 100 in 0.22.\", FutureWarning)\n",
            "/usr/local/lib/python3.6/dist-packages/sklearn/ensemble/forest.py:245: FutureWarning: The default value of n_estimators will change from 10 in version 0.20 to 100 in 0.22.\n",
            "  \"10 in version 0.20 to 100 in 0.22.\", FutureWarning)\n",
            "/usr/local/lib/python3.6/dist-packages/sklearn/ensemble/forest.py:245: FutureWarning: The default value of n_estimators will change from 10 in version 0.20 to 100 in 0.22.\n",
            "  \"10 in version 0.20 to 100 in 0.22.\", FutureWarning)\n",
            "/usr/local/lib/python3.6/dist-packages/sklearn/ensemble/forest.py:245: FutureWarning: The default value of n_estimators will change from 10 in version 0.20 to 100 in 0.22.\n",
            "  \"10 in version 0.20 to 100 in 0.22.\", FutureWarning)\n",
            "/usr/local/lib/python3.6/dist-packages/sklearn/ensemble/forest.py:245: FutureWarning: The default value of n_estimators will change from 10 in version 0.20 to 100 in 0.22.\n",
            "  \"10 in version 0.20 to 100 in 0.22.\", FutureWarning)\n",
            "/usr/local/lib/python3.6/dist-packages/sklearn/ensemble/forest.py:245: FutureWarning: The default value of n_estimators will change from 10 in version 0.20 to 100 in 0.22.\n",
            "  \"10 in version 0.20 to 100 in 0.22.\", FutureWarning)\n",
            "/usr/local/lib/python3.6/dist-packages/sklearn/ensemble/forest.py:245: FutureWarning: The default value of n_estimators will change from 10 in version 0.20 to 100 in 0.22.\n",
            "  \"10 in version 0.20 to 100 in 0.22.\", FutureWarning)\n",
            "/usr/local/lib/python3.6/dist-packages/sklearn/ensemble/forest.py:245: FutureWarning: The default value of n_estimators will change from 10 in version 0.20 to 100 in 0.22.\n",
            "  \"10 in version 0.20 to 100 in 0.22.\", FutureWarning)\n",
            "/usr/local/lib/python3.6/dist-packages/sklearn/ensemble/forest.py:245: FutureWarning: The default value of n_estimators will change from 10 in version 0.20 to 100 in 0.22.\n",
            "  \"10 in version 0.20 to 100 in 0.22.\", FutureWarning)\n",
            "/usr/local/lib/python3.6/dist-packages/sklearn/ensemble/forest.py:245: FutureWarning: The default value of n_estimators will change from 10 in version 0.20 to 100 in 0.22.\n",
            "  \"10 in version 0.20 to 100 in 0.22.\", FutureWarning)\n",
            "/usr/local/lib/python3.6/dist-packages/sklearn/ensemble/forest.py:245: FutureWarning: The default value of n_estimators will change from 10 in version 0.20 to 100 in 0.22.\n",
            "  \"10 in version 0.20 to 100 in 0.22.\", FutureWarning)\n",
            "/usr/local/lib/python3.6/dist-packages/sklearn/ensemble/forest.py:245: FutureWarning: The default value of n_estimators will change from 10 in version 0.20 to 100 in 0.22.\n",
            "  \"10 in version 0.20 to 100 in 0.22.\", FutureWarning)\n",
            "/usr/local/lib/python3.6/dist-packages/sklearn/ensemble/forest.py:245: FutureWarning: The default value of n_estimators will change from 10 in version 0.20 to 100 in 0.22.\n",
            "  \"10 in version 0.20 to 100 in 0.22.\", FutureWarning)\n",
            "/usr/local/lib/python3.6/dist-packages/sklearn/ensemble/forest.py:245: FutureWarning: The default value of n_estimators will change from 10 in version 0.20 to 100 in 0.22.\n",
            "  \"10 in version 0.20 to 100 in 0.22.\", FutureWarning)\n",
            "/usr/local/lib/python3.6/dist-packages/sklearn/ensemble/forest.py:245: FutureWarning: The default value of n_estimators will change from 10 in version 0.20 to 100 in 0.22.\n",
            "  \"10 in version 0.20 to 100 in 0.22.\", FutureWarning)\n",
            "/usr/local/lib/python3.6/dist-packages/sklearn/ensemble/forest.py:245: FutureWarning: The default value of n_estimators will change from 10 in version 0.20 to 100 in 0.22.\n",
            "  \"10 in version 0.20 to 100 in 0.22.\", FutureWarning)\n",
            "/usr/local/lib/python3.6/dist-packages/sklearn/ensemble/forest.py:245: FutureWarning: The default value of n_estimators will change from 10 in version 0.20 to 100 in 0.22.\n",
            "  \"10 in version 0.20 to 100 in 0.22.\", FutureWarning)\n",
            "/usr/local/lib/python3.6/dist-packages/sklearn/ensemble/forest.py:245: FutureWarning: The default value of n_estimators will change from 10 in version 0.20 to 100 in 0.22.\n",
            "  \"10 in version 0.20 to 100 in 0.22.\", FutureWarning)\n",
            "/usr/local/lib/python3.6/dist-packages/sklearn/ensemble/forest.py:245: FutureWarning: The default value of n_estimators will change from 10 in version 0.20 to 100 in 0.22.\n",
            "  \"10 in version 0.20 to 100 in 0.22.\", FutureWarning)\n",
            "/usr/local/lib/python3.6/dist-packages/sklearn/ensemble/forest.py:245: FutureWarning: The default value of n_estimators will change from 10 in version 0.20 to 100 in 0.22.\n",
            "  \"10 in version 0.20 to 100 in 0.22.\", FutureWarning)\n",
            "/usr/local/lib/python3.6/dist-packages/sklearn/ensemble/forest.py:245: FutureWarning: The default value of n_estimators will change from 10 in version 0.20 to 100 in 0.22.\n",
            "  \"10 in version 0.20 to 100 in 0.22.\", FutureWarning)\n",
            "/usr/local/lib/python3.6/dist-packages/sklearn/ensemble/forest.py:245: FutureWarning: The default value of n_estimators will change from 10 in version 0.20 to 100 in 0.22.\n",
            "  \"10 in version 0.20 to 100 in 0.22.\", FutureWarning)\n",
            "/usr/local/lib/python3.6/dist-packages/sklearn/ensemble/forest.py:245: FutureWarning: The default value of n_estimators will change from 10 in version 0.20 to 100 in 0.22.\n",
            "  \"10 in version 0.20 to 100 in 0.22.\", FutureWarning)\n",
            "/usr/local/lib/python3.6/dist-packages/sklearn/ensemble/forest.py:245: FutureWarning: The default value of n_estimators will change from 10 in version 0.20 to 100 in 0.22.\n",
            "  \"10 in version 0.20 to 100 in 0.22.\", FutureWarning)\n",
            "/usr/local/lib/python3.6/dist-packages/sklearn/ensemble/forest.py:245: FutureWarning: The default value of n_estimators will change from 10 in version 0.20 to 100 in 0.22.\n",
            "  \"10 in version 0.20 to 100 in 0.22.\", FutureWarning)\n",
            "/usr/local/lib/python3.6/dist-packages/sklearn/ensemble/forest.py:245: FutureWarning: The default value of n_estimators will change from 10 in version 0.20 to 100 in 0.22.\n",
            "  \"10 in version 0.20 to 100 in 0.22.\", FutureWarning)\n",
            "/usr/local/lib/python3.6/dist-packages/sklearn/ensemble/forest.py:245: FutureWarning: The default value of n_estimators will change from 10 in version 0.20 to 100 in 0.22.\n",
            "  \"10 in version 0.20 to 100 in 0.22.\", FutureWarning)\n",
            "/usr/local/lib/python3.6/dist-packages/sklearn/ensemble/forest.py:245: FutureWarning: The default value of n_estimators will change from 10 in version 0.20 to 100 in 0.22.\n",
            "  \"10 in version 0.20 to 100 in 0.22.\", FutureWarning)\n",
            "/usr/local/lib/python3.6/dist-packages/sklearn/ensemble/forest.py:245: FutureWarning: The default value of n_estimators will change from 10 in version 0.20 to 100 in 0.22.\n",
            "  \"10 in version 0.20 to 100 in 0.22.\", FutureWarning)\n",
            "/usr/local/lib/python3.6/dist-packages/sklearn/ensemble/forest.py:245: FutureWarning: The default value of n_estimators will change from 10 in version 0.20 to 100 in 0.22.\n",
            "  \"10 in version 0.20 to 100 in 0.22.\", FutureWarning)\n",
            "/usr/local/lib/python3.6/dist-packages/sklearn/ensemble/forest.py:245: FutureWarning: The default value of n_estimators will change from 10 in version 0.20 to 100 in 0.22.\n",
            "  \"10 in version 0.20 to 100 in 0.22.\", FutureWarning)\n",
            "/usr/local/lib/python3.6/dist-packages/sklearn/ensemble/forest.py:245: FutureWarning: The default value of n_estimators will change from 10 in version 0.20 to 100 in 0.22.\n",
            "  \"10 in version 0.20 to 100 in 0.22.\", FutureWarning)\n",
            "/usr/local/lib/python3.6/dist-packages/sklearn/ensemble/forest.py:245: FutureWarning: The default value of n_estimators will change from 10 in version 0.20 to 100 in 0.22.\n",
            "  \"10 in version 0.20 to 100 in 0.22.\", FutureWarning)\n",
            "/usr/local/lib/python3.6/dist-packages/sklearn/ensemble/forest.py:245: FutureWarning: The default value of n_estimators will change from 10 in version 0.20 to 100 in 0.22.\n",
            "  \"10 in version 0.20 to 100 in 0.22.\", FutureWarning)\n",
            "/usr/local/lib/python3.6/dist-packages/sklearn/ensemble/forest.py:245: FutureWarning: The default value of n_estimators will change from 10 in version 0.20 to 100 in 0.22.\n",
            "  \"10 in version 0.20 to 100 in 0.22.\", FutureWarning)\n",
            "/usr/local/lib/python3.6/dist-packages/sklearn/ensemble/forest.py:245: FutureWarning: The default value of n_estimators will change from 10 in version 0.20 to 100 in 0.22.\n",
            "  \"10 in version 0.20 to 100 in 0.22.\", FutureWarning)\n",
            "/usr/local/lib/python3.6/dist-packages/sklearn/ensemble/forest.py:245: FutureWarning: The default value of n_estimators will change from 10 in version 0.20 to 100 in 0.22.\n",
            "  \"10 in version 0.20 to 100 in 0.22.\", FutureWarning)\n",
            "/usr/local/lib/python3.6/dist-packages/sklearn/ensemble/forest.py:245: FutureWarning: The default value of n_estimators will change from 10 in version 0.20 to 100 in 0.22.\n",
            "  \"10 in version 0.20 to 100 in 0.22.\", FutureWarning)\n",
            "/usr/local/lib/python3.6/dist-packages/sklearn/ensemble/forest.py:245: FutureWarning: The default value of n_estimators will change from 10 in version 0.20 to 100 in 0.22.\n",
            "  \"10 in version 0.20 to 100 in 0.22.\", FutureWarning)\n",
            "/usr/local/lib/python3.6/dist-packages/sklearn/ensemble/forest.py:245: FutureWarning: The default value of n_estimators will change from 10 in version 0.20 to 100 in 0.22.\n",
            "  \"10 in version 0.20 to 100 in 0.22.\", FutureWarning)\n",
            "/usr/local/lib/python3.6/dist-packages/sklearn/ensemble/forest.py:245: FutureWarning: The default value of n_estimators will change from 10 in version 0.20 to 100 in 0.22.\n",
            "  \"10 in version 0.20 to 100 in 0.22.\", FutureWarning)\n",
            "/usr/local/lib/python3.6/dist-packages/sklearn/ensemble/forest.py:245: FutureWarning: The default value of n_estimators will change from 10 in version 0.20 to 100 in 0.22.\n",
            "  \"10 in version 0.20 to 100 in 0.22.\", FutureWarning)\n",
            "/usr/local/lib/python3.6/dist-packages/sklearn/ensemble/forest.py:245: FutureWarning: The default value of n_estimators will change from 10 in version 0.20 to 100 in 0.22.\n",
            "  \"10 in version 0.20 to 100 in 0.22.\", FutureWarning)\n",
            "/usr/local/lib/python3.6/dist-packages/sklearn/ensemble/forest.py:245: FutureWarning: The default value of n_estimators will change from 10 in version 0.20 to 100 in 0.22.\n",
            "  \"10 in version 0.20 to 100 in 0.22.\", FutureWarning)\n",
            "/usr/local/lib/python3.6/dist-packages/sklearn/ensemble/forest.py:245: FutureWarning: The default value of n_estimators will change from 10 in version 0.20 to 100 in 0.22.\n",
            "  \"10 in version 0.20 to 100 in 0.22.\", FutureWarning)\n",
            "/usr/local/lib/python3.6/dist-packages/sklearn/ensemble/forest.py:245: FutureWarning: The default value of n_estimators will change from 10 in version 0.20 to 100 in 0.22.\n",
            "  \"10 in version 0.20 to 100 in 0.22.\", FutureWarning)\n",
            "/usr/local/lib/python3.6/dist-packages/sklearn/ensemble/forest.py:245: FutureWarning: The default value of n_estimators will change from 10 in version 0.20 to 100 in 0.22.\n",
            "  \"10 in version 0.20 to 100 in 0.22.\", FutureWarning)\n",
            "/usr/local/lib/python3.6/dist-packages/sklearn/ensemble/forest.py:245: FutureWarning: The default value of n_estimators will change from 10 in version 0.20 to 100 in 0.22.\n",
            "  \"10 in version 0.20 to 100 in 0.22.\", FutureWarning)\n"
          ],
          "name": "stderr"
        },
        {
          "output_type": "stream",
          "text": [
            "[[121  43  26]\n",
            " [ 23  25  37]\n",
            " [ 21  29  51]]\n",
            "              precision    recall  f1-score   support\n",
            "\n",
            "           0       0.73      0.64      0.68       190\n",
            "           1       0.26      0.29      0.27        85\n",
            "           2       0.45      0.50      0.47       101\n",
            "\n",
            "    accuracy                           0.52       376\n",
            "   macro avg       0.48      0.48      0.48       376\n",
            "weighted avg       0.55      0.52      0.53       376\n",
            "\n",
            "-0.18547711709936432\n"
          ],
          "name": "stdout"
        },
        {
          "output_type": "stream",
          "text": [
            "/usr/local/lib/python3.6/dist-packages/sklearn/ensemble/forest.py:245: FutureWarning: The default value of n_estimators will change from 10 in version 0.20 to 100 in 0.22.\n",
            "  \"10 in version 0.20 to 100 in 0.22.\", FutureWarning)\n",
            "/usr/local/lib/python3.6/dist-packages/sklearn/ensemble/forest.py:245: FutureWarning: The default value of n_estimators will change from 10 in version 0.20 to 100 in 0.22.\n",
            "  \"10 in version 0.20 to 100 in 0.22.\", FutureWarning)\n",
            "/usr/local/lib/python3.6/dist-packages/sklearn/ensemble/forest.py:245: FutureWarning: The default value of n_estimators will change from 10 in version 0.20 to 100 in 0.22.\n",
            "  \"10 in version 0.20 to 100 in 0.22.\", FutureWarning)\n",
            "/usr/local/lib/python3.6/dist-packages/sklearn/ensemble/forest.py:245: FutureWarning: The default value of n_estimators will change from 10 in version 0.20 to 100 in 0.22.\n",
            "  \"10 in version 0.20 to 100 in 0.22.\", FutureWarning)\n",
            "/usr/local/lib/python3.6/dist-packages/sklearn/ensemble/forest.py:245: FutureWarning: The default value of n_estimators will change from 10 in version 0.20 to 100 in 0.22.\n",
            "  \"10 in version 0.20 to 100 in 0.22.\", FutureWarning)\n",
            "/usr/local/lib/python3.6/dist-packages/sklearn/ensemble/forest.py:245: FutureWarning: The default value of n_estimators will change from 10 in version 0.20 to 100 in 0.22.\n",
            "  \"10 in version 0.20 to 100 in 0.22.\", FutureWarning)\n",
            "/usr/local/lib/python3.6/dist-packages/sklearn/ensemble/forest.py:245: FutureWarning: The default value of n_estimators will change from 10 in version 0.20 to 100 in 0.22.\n",
            "  \"10 in version 0.20 to 100 in 0.22.\", FutureWarning)\n",
            "/usr/local/lib/python3.6/dist-packages/sklearn/ensemble/forest.py:245: FutureWarning: The default value of n_estimators will change from 10 in version 0.20 to 100 in 0.22.\n",
            "  \"10 in version 0.20 to 100 in 0.22.\", FutureWarning)\n",
            "/usr/local/lib/python3.6/dist-packages/sklearn/ensemble/forest.py:245: FutureWarning: The default value of n_estimators will change from 10 in version 0.20 to 100 in 0.22.\n",
            "  \"10 in version 0.20 to 100 in 0.22.\", FutureWarning)\n",
            "/usr/local/lib/python3.6/dist-packages/sklearn/ensemble/forest.py:245: FutureWarning: The default value of n_estimators will change from 10 in version 0.20 to 100 in 0.22.\n",
            "  \"10 in version 0.20 to 100 in 0.22.\", FutureWarning)\n",
            "/usr/local/lib/python3.6/dist-packages/sklearn/ensemble/forest.py:245: FutureWarning: The default value of n_estimators will change from 10 in version 0.20 to 100 in 0.22.\n",
            "  \"10 in version 0.20 to 100 in 0.22.\", FutureWarning)\n",
            "/usr/local/lib/python3.6/dist-packages/sklearn/ensemble/forest.py:245: FutureWarning: The default value of n_estimators will change from 10 in version 0.20 to 100 in 0.22.\n",
            "  \"10 in version 0.20 to 100 in 0.22.\", FutureWarning)\n",
            "/usr/local/lib/python3.6/dist-packages/sklearn/ensemble/forest.py:245: FutureWarning: The default value of n_estimators will change from 10 in version 0.20 to 100 in 0.22.\n",
            "  \"10 in version 0.20 to 100 in 0.22.\", FutureWarning)\n",
            "/usr/local/lib/python3.6/dist-packages/sklearn/ensemble/forest.py:245: FutureWarning: The default value of n_estimators will change from 10 in version 0.20 to 100 in 0.22.\n",
            "  \"10 in version 0.20 to 100 in 0.22.\", FutureWarning)\n",
            "/usr/local/lib/python3.6/dist-packages/sklearn/ensemble/forest.py:245: FutureWarning: The default value of n_estimators will change from 10 in version 0.20 to 100 in 0.22.\n",
            "  \"10 in version 0.20 to 100 in 0.22.\", FutureWarning)\n",
            "/usr/local/lib/python3.6/dist-packages/sklearn/ensemble/forest.py:245: FutureWarning: The default value of n_estimators will change from 10 in version 0.20 to 100 in 0.22.\n",
            "  \"10 in version 0.20 to 100 in 0.22.\", FutureWarning)\n",
            "/usr/local/lib/python3.6/dist-packages/sklearn/ensemble/forest.py:245: FutureWarning: The default value of n_estimators will change from 10 in version 0.20 to 100 in 0.22.\n",
            "  \"10 in version 0.20 to 100 in 0.22.\", FutureWarning)\n",
            "/usr/local/lib/python3.6/dist-packages/sklearn/ensemble/forest.py:245: FutureWarning: The default value of n_estimators will change from 10 in version 0.20 to 100 in 0.22.\n",
            "  \"10 in version 0.20 to 100 in 0.22.\", FutureWarning)\n",
            "/usr/local/lib/python3.6/dist-packages/sklearn/ensemble/forest.py:245: FutureWarning: The default value of n_estimators will change from 10 in version 0.20 to 100 in 0.22.\n",
            "  \"10 in version 0.20 to 100 in 0.22.\", FutureWarning)\n",
            "/usr/local/lib/python3.6/dist-packages/sklearn/ensemble/forest.py:245: FutureWarning: The default value of n_estimators will change from 10 in version 0.20 to 100 in 0.22.\n",
            "  \"10 in version 0.20 to 100 in 0.22.\", FutureWarning)\n",
            "/usr/local/lib/python3.6/dist-packages/sklearn/ensemble/forest.py:245: FutureWarning: The default value of n_estimators will change from 10 in version 0.20 to 100 in 0.22.\n",
            "  \"10 in version 0.20 to 100 in 0.22.\", FutureWarning)\n",
            "/usr/local/lib/python3.6/dist-packages/sklearn/ensemble/forest.py:245: FutureWarning: The default value of n_estimators will change from 10 in version 0.20 to 100 in 0.22.\n",
            "  \"10 in version 0.20 to 100 in 0.22.\", FutureWarning)\n",
            "/usr/local/lib/python3.6/dist-packages/sklearn/ensemble/forest.py:245: FutureWarning: The default value of n_estimators will change from 10 in version 0.20 to 100 in 0.22.\n",
            "  \"10 in version 0.20 to 100 in 0.22.\", FutureWarning)\n",
            "/usr/local/lib/python3.6/dist-packages/sklearn/ensemble/forest.py:245: FutureWarning: The default value of n_estimators will change from 10 in version 0.20 to 100 in 0.22.\n",
            "  \"10 in version 0.20 to 100 in 0.22.\", FutureWarning)\n",
            "/usr/local/lib/python3.6/dist-packages/sklearn/ensemble/forest.py:245: FutureWarning: The default value of n_estimators will change from 10 in version 0.20 to 100 in 0.22.\n",
            "  \"10 in version 0.20 to 100 in 0.22.\", FutureWarning)\n",
            "/usr/local/lib/python3.6/dist-packages/sklearn/ensemble/forest.py:245: FutureWarning: The default value of n_estimators will change from 10 in version 0.20 to 100 in 0.22.\n",
            "  \"10 in version 0.20 to 100 in 0.22.\", FutureWarning)\n",
            "/usr/local/lib/python3.6/dist-packages/sklearn/ensemble/forest.py:245: FutureWarning: The default value of n_estimators will change from 10 in version 0.20 to 100 in 0.22.\n",
            "  \"10 in version 0.20 to 100 in 0.22.\", FutureWarning)\n",
            "/usr/local/lib/python3.6/dist-packages/sklearn/ensemble/forest.py:245: FutureWarning: The default value of n_estimators will change from 10 in version 0.20 to 100 in 0.22.\n",
            "  \"10 in version 0.20 to 100 in 0.22.\", FutureWarning)\n",
            "/usr/local/lib/python3.6/dist-packages/sklearn/ensemble/forest.py:245: FutureWarning: The default value of n_estimators will change from 10 in version 0.20 to 100 in 0.22.\n",
            "  \"10 in version 0.20 to 100 in 0.22.\", FutureWarning)\n",
            "/usr/local/lib/python3.6/dist-packages/sklearn/ensemble/forest.py:245: FutureWarning: The default value of n_estimators will change from 10 in version 0.20 to 100 in 0.22.\n",
            "  \"10 in version 0.20 to 100 in 0.22.\", FutureWarning)\n",
            "/usr/local/lib/python3.6/dist-packages/sklearn/ensemble/forest.py:245: FutureWarning: The default value of n_estimators will change from 10 in version 0.20 to 100 in 0.22.\n",
            "  \"10 in version 0.20 to 100 in 0.22.\", FutureWarning)\n",
            "/usr/local/lib/python3.6/dist-packages/sklearn/ensemble/forest.py:245: FutureWarning: The default value of n_estimators will change from 10 in version 0.20 to 100 in 0.22.\n",
            "  \"10 in version 0.20 to 100 in 0.22.\", FutureWarning)\n",
            "/usr/local/lib/python3.6/dist-packages/sklearn/ensemble/forest.py:245: FutureWarning: The default value of n_estimators will change from 10 in version 0.20 to 100 in 0.22.\n",
            "  \"10 in version 0.20 to 100 in 0.22.\", FutureWarning)\n",
            "/usr/local/lib/python3.6/dist-packages/sklearn/ensemble/forest.py:245: FutureWarning: The default value of n_estimators will change from 10 in version 0.20 to 100 in 0.22.\n",
            "  \"10 in version 0.20 to 100 in 0.22.\", FutureWarning)\n",
            "/usr/local/lib/python3.6/dist-packages/sklearn/ensemble/forest.py:245: FutureWarning: The default value of n_estimators will change from 10 in version 0.20 to 100 in 0.22.\n",
            "  \"10 in version 0.20 to 100 in 0.22.\", FutureWarning)\n",
            "/usr/local/lib/python3.6/dist-packages/sklearn/ensemble/forest.py:245: FutureWarning: The default value of n_estimators will change from 10 in version 0.20 to 100 in 0.22.\n",
            "  \"10 in version 0.20 to 100 in 0.22.\", FutureWarning)\n",
            "/usr/local/lib/python3.6/dist-packages/sklearn/ensemble/forest.py:245: FutureWarning: The default value of n_estimators will change from 10 in version 0.20 to 100 in 0.22.\n",
            "  \"10 in version 0.20 to 100 in 0.22.\", FutureWarning)\n",
            "/usr/local/lib/python3.6/dist-packages/sklearn/ensemble/forest.py:245: FutureWarning: The default value of n_estimators will change from 10 in version 0.20 to 100 in 0.22.\n",
            "  \"10 in version 0.20 to 100 in 0.22.\", FutureWarning)\n",
            "/usr/local/lib/python3.6/dist-packages/sklearn/ensemble/forest.py:245: FutureWarning: The default value of n_estimators will change from 10 in version 0.20 to 100 in 0.22.\n",
            "  \"10 in version 0.20 to 100 in 0.22.\", FutureWarning)\n",
            "/usr/local/lib/python3.6/dist-packages/sklearn/ensemble/forest.py:245: FutureWarning: The default value of n_estimators will change from 10 in version 0.20 to 100 in 0.22.\n",
            "  \"10 in version 0.20 to 100 in 0.22.\", FutureWarning)\n",
            "/usr/local/lib/python3.6/dist-packages/sklearn/ensemble/forest.py:245: FutureWarning: The default value of n_estimators will change from 10 in version 0.20 to 100 in 0.22.\n",
            "  \"10 in version 0.20 to 100 in 0.22.\", FutureWarning)\n",
            "/usr/local/lib/python3.6/dist-packages/sklearn/ensemble/forest.py:245: FutureWarning: The default value of n_estimators will change from 10 in version 0.20 to 100 in 0.22.\n",
            "  \"10 in version 0.20 to 100 in 0.22.\", FutureWarning)\n",
            "/usr/local/lib/python3.6/dist-packages/sklearn/ensemble/forest.py:245: FutureWarning: The default value of n_estimators will change from 10 in version 0.20 to 100 in 0.22.\n",
            "  \"10 in version 0.20 to 100 in 0.22.\", FutureWarning)\n",
            "/usr/local/lib/python3.6/dist-packages/sklearn/ensemble/forest.py:245: FutureWarning: The default value of n_estimators will change from 10 in version 0.20 to 100 in 0.22.\n",
            "  \"10 in version 0.20 to 100 in 0.22.\", FutureWarning)\n",
            "/usr/local/lib/python3.6/dist-packages/sklearn/ensemble/forest.py:245: FutureWarning: The default value of n_estimators will change from 10 in version 0.20 to 100 in 0.22.\n",
            "  \"10 in version 0.20 to 100 in 0.22.\", FutureWarning)\n",
            "/usr/local/lib/python3.6/dist-packages/sklearn/ensemble/forest.py:245: FutureWarning: The default value of n_estimators will change from 10 in version 0.20 to 100 in 0.22.\n",
            "  \"10 in version 0.20 to 100 in 0.22.\", FutureWarning)\n",
            "/usr/local/lib/python3.6/dist-packages/sklearn/ensemble/forest.py:245: FutureWarning: The default value of n_estimators will change from 10 in version 0.20 to 100 in 0.22.\n",
            "  \"10 in version 0.20 to 100 in 0.22.\", FutureWarning)\n",
            "/usr/local/lib/python3.6/dist-packages/sklearn/ensemble/forest.py:245: FutureWarning: The default value of n_estimators will change from 10 in version 0.20 to 100 in 0.22.\n",
            "  \"10 in version 0.20 to 100 in 0.22.\", FutureWarning)\n",
            "/usr/local/lib/python3.6/dist-packages/sklearn/ensemble/forest.py:245: FutureWarning: The default value of n_estimators will change from 10 in version 0.20 to 100 in 0.22.\n",
            "  \"10 in version 0.20 to 100 in 0.22.\", FutureWarning)\n",
            "/usr/local/lib/python3.6/dist-packages/sklearn/ensemble/forest.py:245: FutureWarning: The default value of n_estimators will change from 10 in version 0.20 to 100 in 0.22.\n",
            "  \"10 in version 0.20 to 100 in 0.22.\", FutureWarning)\n",
            "/usr/local/lib/python3.6/dist-packages/ipykernel_launcher.py:16: SettingWithCopyWarning: \n",
            "A value is trying to be set on a copy of a slice from a DataFrame\n",
            "\n",
            "See the caveats in the documentation: http://pandas.pydata.org/pandas-docs/stable/user_guide/indexing.html#returning-a-view-versus-a-copy\n",
            "  app.launch_new_instance()\n"
          ],
          "name": "stderr"
        }
      ]
    },
    {
      "cell_type": "code",
      "metadata": {
        "id": "jUorQTxyHQ8E",
        "colab_type": "code",
        "colab": {
          "base_uri": "https://localhost:8080/",
          "height": 386
        },
        "outputId": "c7a4a29c-2a10-4474-88bd-aa536a3d560d"
      },
      "source": [
        "#gradientboosting classifier\n",
        "gbc.fit(train_x,train_y)\n",
        "predicted=gbc.predict(val_x)\n",
        "predicted_proba=gbc.predict_proba(val_x)\n",
        "print(confusion_matrix(predicted,val_y))\n",
        "print(classification_report(predicted,val_y))\n",
        "\n",
        "print(r2_score(predicted,val_y))\n",
        "\n",
        "#now training on the full dataset\n",
        "gbc.fit(df_important_features,Y_train)\n",
        "predicted_final=gbc.predict(df_important_features_test)\n",
        "\n",
        "id_code=list(id_code)\n",
        "predicted_final=list(predicted_final)\n",
        "submit_gbc_MI=pd.DataFrame(list(zip(id_code,predicted_final)),columns=[\"id_code\",\"target\"])\n",
        "submit_gbc_MI.target[submit_gbc_MI.target==0]='low'\n",
        "submit_gbc_MI.target[submit_gbc_MI.target==1]='medium'\n",
        "submit_gbc_MI.target[submit_gbc_MI.target==2]='high'\n",
        "submit_gbc_MI.to_csv(\"submit_gbc_MI.csv\",index=False)\n"
      ],
      "execution_count": 76,
      "outputs": [
        {
          "output_type": "stream",
          "text": [
            "[[113  43  36]\n",
            " [ 25  27  26]\n",
            " [ 27  27  52]]\n",
            "              precision    recall  f1-score   support\n",
            "\n",
            "           0       0.68      0.59      0.63       192\n",
            "           1       0.28      0.35      0.31        78\n",
            "           2       0.46      0.49      0.47       106\n",
            "\n",
            "    accuracy                           0.51       376\n",
            "   macro avg       0.47      0.48      0.47       376\n",
            "weighted avg       0.54      0.51      0.52       376\n",
            "\n",
            "-0.34013683446087994\n"
          ],
          "name": "stdout"
        },
        {
          "output_type": "stream",
          "text": [
            "/usr/local/lib/python3.6/dist-packages/ipykernel_launcher.py:16: SettingWithCopyWarning: \n",
            "A value is trying to be set on a copy of a slice from a DataFrame\n",
            "\n",
            "See the caveats in the documentation: http://pandas.pydata.org/pandas-docs/stable/user_guide/indexing.html#returning-a-view-versus-a-copy\n",
            "  app.launch_new_instance()\n"
          ],
          "name": "stderr"
        }
      ]
    },
    {
      "cell_type": "code",
      "metadata": {
        "id": "QZav62A9HS_X",
        "colab_type": "code",
        "colab": {
          "base_uri": "https://localhost:8080/",
          "height": 423
        },
        "outputId": "c657690a-dea5-436d-9a0f-6e74832e2ce8"
      },
      "source": [
        "#extratrees classifier\n",
        "etc.fit(train_x,train_y)\n",
        "predicted=etc.predict(val_x)\n",
        "predicted_proba=etc.predict_proba(val_x)\n",
        "from sklearn.metrics import confusion_matrix,classification_report,r2_score,auc\n",
        "print(confusion_matrix(predicted,val_y))\n",
        "print(classification_report(predicted,val_y))\n",
        "\n",
        "print(r2_score(predicted,val_y))\n",
        "#now training on the full dataset\n",
        "etc.fit(df_important_features,Y_train)\n",
        "predicted_final=etc.predict(df_important_features_test)\n",
        "\n",
        "id_code=list(id_code)\n",
        "predicted_final=list(predicted_final)\n",
        "submit_etc_MI=pd.DataFrame(list(zip(id_code,predicted_final)),columns=[\"id_code\",\"target\"])\n",
        "submit_etc_MI.target[submit_etc_MI.target==0]='low'\n",
        "submit_etc_MI.target[submit_etc_MI.target==1]='medium'\n",
        "submit_etc_MI.target[submit_etc_MI.target==2]='high'\n",
        "submit_etc_MI.to_csv(\"submit_etc_MI.csv\",index=False)\n",
        "\n"
      ],
      "execution_count": 77,
      "outputs": [
        {
          "output_type": "stream",
          "text": [
            "[[116  38  35]\n",
            " [ 27  32  29]\n",
            " [ 22  27  50]]\n",
            "              precision    recall  f1-score   support\n",
            "\n",
            "           0       0.70      0.61      0.66       189\n",
            "           1       0.33      0.36      0.35        88\n",
            "           2       0.44      0.51      0.47        99\n",
            "\n",
            "    accuracy                           0.53       376\n",
            "   macro avg       0.49      0.49      0.49       376\n",
            "weighted avg       0.55      0.53      0.53       376\n",
            "\n",
            "-0.3097776180780132\n"
          ],
          "name": "stdout"
        },
        {
          "output_type": "stream",
          "text": [
            "/usr/local/lib/python3.6/dist-packages/sklearn/ensemble/forest.py:245: FutureWarning: The default value of n_estimators will change from 10 in version 0.20 to 100 in 0.22.\n",
            "  \"10 in version 0.20 to 100 in 0.22.\", FutureWarning)\n",
            "/usr/local/lib/python3.6/dist-packages/ipykernel_launcher.py:16: SettingWithCopyWarning: \n",
            "A value is trying to be set on a copy of a slice from a DataFrame\n",
            "\n",
            "See the caveats in the documentation: http://pandas.pydata.org/pandas-docs/stable/user_guide/indexing.html#returning-a-view-versus-a-copy\n",
            "  app.launch_new_instance()\n"
          ],
          "name": "stderr"
        }
      ]
    },
    {
      "cell_type": "code",
      "metadata": {
        "id": "ZBUXnvQcHY0I",
        "colab_type": "code",
        "colab": {
          "base_uri": "https://localhost:8080/",
          "height": 404
        },
        "outputId": "10bbd489-a68c-4216-8a39-1e3d97837a8e"
      },
      "source": [
        "\n",
        "#random forest classifier\n",
        "\n",
        "rfc.fit(train_x,train_y)\n",
        "predicted=rfc.predict(val_x)\n",
        "predicted_proba=rfc.predict_proba(val_x)\n",
        "print(confusion_matrix(predicted,val_y))\n",
        "print(classification_report(predicted,val_y))\n",
        "\n",
        "print(r2_score(predicted,val_y))\n",
        "\n",
        "#now training on the full dataset\n",
        "rfc.fit(df_important_features,Y_train)\n",
        "predicted_final=rfc.predict(df_important_features_test)\n",
        "\n",
        "id_code=list(id_code)\n",
        "predicted_final=list(predicted_final)\n",
        "submit_rfc_MI=pd.DataFrame(list(zip(id_code,predicted_final)),columns=[\"id_code\",\"target\"])\n",
        "submit_rfc_MI.target[submit_rfc_MI.target==0]='low'\n",
        "submit_rfc_MI.target[submit_rfc_MI.target==1]='medium'\n",
        "submit_rfc_MI.target[submit_rfc_MI.target==2]='high'\n",
        "submit_rfc_MI.to_csv(\"submit_rfc_MI.csv\",index=False)\n",
        "\n"
      ],
      "execution_count": 78,
      "outputs": [
        {
          "output_type": "stream",
          "text": [
            "[[108  47  32]\n",
            " [ 29  30  35]\n",
            " [ 28  20  47]]\n",
            "              precision    recall  f1-score   support\n",
            "\n",
            "           0       0.65      0.58      0.61       187\n",
            "           1       0.31      0.32      0.31        94\n",
            "           2       0.41      0.49      0.45        95\n",
            "\n",
            "    accuracy                           0.49       376\n",
            "   macro avg       0.46      0.46      0.46       376\n",
            "weighted avg       0.51      0.49      0.50       376\n",
            "\n",
            "-0.4297310593637258\n"
          ],
          "name": "stdout"
        },
        {
          "output_type": "stream",
          "text": [
            "/usr/local/lib/python3.6/dist-packages/sklearn/ensemble/forest.py:245: FutureWarning: The default value of n_estimators will change from 10 in version 0.20 to 100 in 0.22.\n",
            "  \"10 in version 0.20 to 100 in 0.22.\", FutureWarning)\n",
            "/usr/local/lib/python3.6/dist-packages/ipykernel_launcher.py:17: SettingWithCopyWarning: \n",
            "A value is trying to be set on a copy of a slice from a DataFrame\n",
            "\n",
            "See the caveats in the documentation: http://pandas.pydata.org/pandas-docs/stable/user_guide/indexing.html#returning-a-view-versus-a-copy\n"
          ],
          "name": "stderr"
        }
      ]
    },
    {
      "cell_type": "code",
      "metadata": {
        "id": "qCcJy3KIK-wW",
        "colab_type": "code",
        "colab": {}
      },
      "source": [
        ""
      ],
      "execution_count": 0,
      "outputs": []
    },
    {
      "cell_type": "code",
      "metadata": {
        "id": "1HbVN1RY1kGL",
        "colab_type": "code",
        "colab": {}
      },
      "source": [
        "#kfold=StratifiedKFold(n_splits=10,shuffle=True)"
      ],
      "execution_count": 0,
      "outputs": []
    },
    {
      "cell_type": "code",
      "metadata": {
        "id": "YMIEMxSkz4ji",
        "colab_type": "code",
        "colab": {}
      },
      "source": [
        "\n",
        "#classifiers = []\n",
        "#classifiers.append(SVC(random_state=seed))\n",
        "#classifiers.append(DecisionTreeClassifier(random_state=seed))\n",
        "#classifiers.append(AdaBoostClassifier(DecisionTreeClassifier(random_state=state),\n",
        " #                                     random_state=seed,learning_rate=0.1))\n",
        "#classifiers.append(RandomForestClassifier(random_state=seed))\n",
        "#classifiers.append(ExtraTreesClassifier(random_state=seed))\n",
        "#classifiers.append(GradientBoostingClassifier(random_state=seed))\n",
        "#classifiers.append(MLPClassifier(random_state=seed))\n",
        "#classifiers.append(KNeighborsClassifier())\n",
        "#classifiers.append(LogisticRegression(random_state = seed))\n",
        "#classifiers.append(LinearDiscriminantAnalysis())\n",
        "\n",
        "#cv_results = []\n",
        "#for classifier in classifiers :\n",
        " #   cv_results.append(cross_val_score(classifier, X_train, y = Y_train, scoring = \"accuracy\", cv = kfold, n_jobs=4))\n",
        "\n",
        "#cv_means = []\n",
        "#cv_std = []\n",
        "#for cv_result in cv_results:\n",
        " #   cv_means.append(cv_result.mean())\n",
        "  #  cv_std.append(cv_result.std())\n",
        "#\n",
        "#cv_res = pd.DataFrame({\"CrossValMeans\":cv_means,\"CrossValerrors\": cv_std,\"Algorithm\":[\"SVC\",\"DecisionTree\",\"AdaBoost\",\n",
        "#\"RandomForest\",\"ExtraTrees\",\"GradientBoosting\",\"MultipleLayerPerceptron\",\"KNeighboors\",\"LogisticRegression\",\"LinearDiscriminantAnalysis\"]})\n"
      ],
      "execution_count": 0,
      "outputs": []
    },
    {
      "cell_type": "code",
      "metadata": {
        "id": "BaglO5Jrz4Tn",
        "colab_type": "code",
        "colab": {}
      },
      "source": [
        ""
      ],
      "execution_count": 0,
      "outputs": []
    }
  ]
}